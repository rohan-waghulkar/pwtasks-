{
 "cells": [
  {
   "cell_type": "markdown",
   "id": "139ac437-ed94-475a-8715-668f8b0b5c25",
   "metadata": {},
   "source": [
    "## Q1. what is multithreading in python? hy is it used? Name the module used to handle threads in python"
   ]
  },
  {
   "cell_type": "markdown",
   "id": "7f34c532-4ef7-41f0-8481-9add8f8ad672",
   "metadata": {},
   "source": [
    " Multithreading is a ability of a program to run multiple threads simultaneously within a single processor, Each thread runs independently, performing its own task\n",
    " \n",
    " Multithreading is used in to allow a program to perform multiple tasks simultaneously. By dividing a program into multiple threads, each thread can run on a separate core, leading to faster execution times and improved performance.\n",
    " \n",
    " Here we have module \"threading\" to handle treads."
   ]
  },
  {
   "cell_type": "markdown",
   "id": "2cc421eb-9574-46da-bcd9-8eb5c6ac534b",
   "metadata": {},
   "source": [
    "## Q2.why threading module used? write the use of the following functions\n",
    " 1. activeCount()\n",
    " 2. currentThread()\n",
    " 3. enumerate()"
   ]
  },
  {
   "cell_type": "markdown",
   "id": "ce89af19-3803-4c53-8440-92916e4ab1bb",
   "metadata": {},
   "source": [
    "  threading module is used to create and managen the threads .it allows running multiple treads at a time \n",
    "  1. activeCount(): This function returns the number of thread objects that are active in the current process.\n",
    "  2. currentThread(): This function returns a reference to the current thread object\n",
    "  3. enumerate(): This function returns a list of all the thread objects that are currently active in the current process."
   ]
  },
  {
   "cell_type": "markdown",
   "id": "1a559440-6f55-4696-95bc-5cfdd651405d",
   "metadata": {},
   "source": [
    "## 3. Explain the following functions\n",
    "  1. run()\n",
    "  2. start()\n",
    "  3. join()\n",
    "  4. isAlive()"
   ]
  },
  {
   "cell_type": "markdown",
   "id": "68f64f5a-7a4b-4065-a566-b5f4d999ae36",
   "metadata": {},
   "source": [
    "  1. run(): The run() method is a method of the Thread class, and it is automatically called when the new thread is started. The code that you want to run in the new thread should be defined in the run() method of a class that extends the Thread class.\n",
    "  2. start(): the start method is used to start exceution of a thread.\n",
    "  3. join(): It allows the main thread to wait for a new thread to complete its execution before continuing\n",
    "  4. isAlive(): this method is used to cheak whether a given tread is still execution or it has completed it execution"
   ]
  },
  {
   "cell_type": "markdown",
   "id": "4ce4b8a4-2b6c-44c4-806d-80158923d8b1",
   "metadata": {},
   "source": [
    "## Q4. write a python program to create two threads. Thread one must print the list of squares and thread two must print the list of cubes"
   ]
  },
  {
   "cell_type": "code",
   "execution_count": 9,
   "id": "cabf32ba-334b-41f4-8e31-36cdd7381797",
   "metadata": {},
   "outputs": [],
   "source": [
    "def sqr(x):\n",
    "    print(\"squre of %d is %d\"%(x,x**2))"
   ]
  },
  {
   "cell_type": "code",
   "execution_count": 10,
   "id": "03d0d7b8-37b5-46af-8367-2fed05fc1715",
   "metadata": {},
   "outputs": [],
   "source": [
    "def cube(x):\n",
    "    print(\"cube of %d is %d\"%(x,x**3))"
   ]
  },
  {
   "cell_type": "code",
   "execution_count": 20,
   "id": "13c298fa-8fd7-4146-8596-da18a0ad62a0",
   "metadata": {},
   "outputs": [],
   "source": [
    "import threading\n",
    "thread1=[threading.Thread(target=sqr,args=((i,))) for i in range(6)]\n",
    "thread2=[threading.Thread(target=cube,args=((i,))) for i in range(6)]"
   ]
  },
  {
   "cell_type": "code",
   "execution_count": 21,
   "id": "23507ac0-f325-45aa-8da5-f7c2f9f85aee",
   "metadata": {},
   "outputs": [
    {
     "name": "stdout",
     "output_type": "stream",
     "text": [
      "squre of 0 is 0\n",
      "squre of 1 is 1\n",
      "squre of 2 is 4\n",
      "squre of 3 is 9\n",
      "squre of 4 is 16\n",
      "squre of 5 is 25\n",
      "cube of 0 is 0\n",
      "cube of 1 is 1\n",
      "cube of 2 is 8\n",
      "cube of 3 is 27\n",
      "cube of 4 is 64\n",
      "cube of 5 is 125\n"
     ]
    }
   ],
   "source": [
    "for t in thread1:\n",
    "    t.start()\n",
    "for t2 in thread2:\n",
    "    t2.start()"
   ]
  },
  {
   "cell_type": "markdown",
   "id": "686f6e37-939a-44cc-8ad7-cbf8be6bdb80",
   "metadata": {},
   "source": [
    "## Q5. State advantages and disadvantages of multithreading"
   ]
  },
  {
   "cell_type": "markdown",
   "id": "2363496f-5284-471e-8da9-1f957e087662",
   "metadata": {},
   "source": [
    "Advantages: \n",
    " 1. Multitreading allows program to preform multiple task a the same time that leads to increase in performance \n",
    " 2. it allows the resource sharing (like memory and file )\n",
    "\n",
    "Disadvantages :\n",
    " 1. Synchronization between threads can be a challenging task, as it requires careful coordination of shared resources to prevent race conditions and deadlocks."
   ]
  },
  {
   "cell_type": "markdown",
   "id": "80f5b178-2638-4bbb-a8a3-15b8dff33fb3",
   "metadata": {},
   "source": [
    " ## Q6. Explain deadlocks and race conditions."
   ]
  },
  {
   "cell_type": "markdown",
   "id": "e260b5b1-dc66-4bdf-a6bc-628df5fcdc85",
   "metadata": {},
   "source": [
    " ### Deadlock:\n",
    "         when there are tow or more theads in execution and all of those have aquire some resource and need some other resources on which other thread have some lock but no one is going to release the resources and give it to other threads, in this situation none of the thread can comlete its execution this situation is known as Deadlock.\n",
    "### Race condition\n",
    "        when two or more thread access the same resources at the same tine\n",
    "    "
   ]
  }
 ],
 "metadata": {
  "kernelspec": {
   "display_name": "Python 3 (ipykernel)",
   "language": "python",
   "name": "python3"
  },
  "language_info": {
   "codemirror_mode": {
    "name": "ipython",
    "version": 3
   },
   "file_extension": ".py",
   "mimetype": "text/x-python",
   "name": "python",
   "nbconvert_exporter": "python",
   "pygments_lexer": "ipython3",
   "version": "3.10.8"
  }
 },
 "nbformat": 4,
 "nbformat_minor": 5
}
