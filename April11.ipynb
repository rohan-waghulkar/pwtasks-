{
 "cells": [
  {
   "cell_type": "markdown",
   "id": "9edbf6f2-d19d-4e4b-8d0d-cc36935fc9a5",
   "metadata": {},
   "source": [
    "## Q1. What is an ensemble technique in machine learning?"
   ]
  },
  {
   "cell_type": "markdown",
   "id": "c4d73157-d846-4c02-a71f-641ce770d45c",
   "metadata": {},
   "source": [
    "Ensemble technique in machine learning are the methods that combines the result of multiple models to give the more accurate prediction.\n",
    "#### There are two main Ensemble technique :\n",
    "1. Bagging \n",
    "2. Boosting"
   ]
  },
  {
   "cell_type": "markdown",
   "id": "2255a3e2-f6f3-4a5f-8b8e-967b1f49525c",
   "metadata": {},
   "source": [
    "## Q2. Why are ensemble techniques used in machine learning?"
   ]
  },
  {
   "cell_type": "markdown",
   "id": "f7d8e627-e1b1-4f97-9f5e-32e9ce207eb7",
   "metadata": {},
   "source": [
    "The reason why ensemble techniques are used in machine learning is becouse it combines the prediction of multiple models and give the more accurate prediction. It is just like taking opinion from multiple persons and making our own decision based on the it.\n",
    "\n",
    "In ensemble technique there are multiple model train for the same dataset.At the end the average of all result is calculated and considerd as the final prediction. "
   ]
  },
  {
   "cell_type": "markdown",
   "id": "4644c52b-61dd-48ec-b205-da1f23397464",
   "metadata": {},
   "source": [
    "## Q3. What is bagging?"
   ]
  },
  {
   "cell_type": "markdown",
   "id": "d14e6909-ceaa-4636-a62d-154e9e2de2da",
   "metadata": {},
   "source": [
    "In bagging is an ensemble technique in which bootstrap samples of a dataset are used to train multiple models.\n",
    "\n",
    "Bootstrap is resampling technique that randomly selects the samples from the population.\n",
    "\n",
    "Each bootstrap is used to train separate model. and then the models are combined by using voting scheme in case of categoriacal output and Average in case of continues output\n",
    "\n",
    "Bagging can help to reduce the variance of a machine learning model. And also helps to increase the accuracy of the model."
   ]
  },
  {
   "cell_type": "markdown",
   "id": "ac23a230-2dac-4e0e-a5fe-3a6dea9e5ba9",
   "metadata": {},
   "source": [
    "## Q4. What is boosting?"
   ]
  },
  {
   "cell_type": "markdown",
   "id": "65bfebfc-2c3f-43c9-a4a8-df8fbb7533b8",
   "metadata": {},
   "source": [
    "Boosting is one of ensemble techique which is mainly used for reducing both bias and varience .\n",
    "\n",
    "In boosting multiple models are build independtly and aggregated their result,boosting bulds a sequence of models,where each new model correct the error of its predecessor."
   ]
  },
  {
   "cell_type": "markdown",
   "id": "7e739922-0875-4e87-8850-e5ea8848b797",
   "metadata": {},
   "source": [
    "## Q5. What are the benefits of using ensemble techniques?"
   ]
  },
  {
   "cell_type": "markdown",
   "id": "567f3397-048e-45fb-9f68-113ecf7fa88b",
   "metadata": {},
   "source": [
    "- Accuray: Ensemble techniques provides the higher accuracy than the indevidual model.it combines the result of multiple models.\n",
    "\n",
    "- Reduces the bias and variance \n",
    "\n",
    "- Ensemble techniques can also reduce proble of overfitting while using bagging technique called random forest.\n",
    "\n"
   ]
  },
  {
   "cell_type": "markdown",
   "id": "1845e4f4-1c94-41ce-9b96-c6d6bdf0ae6a",
   "metadata": {},
   "source": [
    "## Q6. Are ensemble techniques always better than individual models?"
   ]
  },
  {
   "cell_type": "markdown",
   "id": "40d2274a-4f1f-4318-ba39-a0c36bb4f330",
   "metadata": {},
   "source": [
    "Ensemble techniques are good in most of cases where they can imporves the predictive accuracy but not always better than individual models.\n",
    "\n",
    "- Here are some cases where individual model can perform better than Ensemble :\n",
    "\n",
    "1. when the dataset is of high quality and contains sufficient information for accurate modeling, individual model can perfom well.while the ensemble technique may increase unwanted camplexity.\n",
    "\n",
    "2. Overfitting : sometimes ensambles may get overfit to the train data and can't perform well to new data.\n",
    "\n",
    "3. Ensemble techniques are typically used to improve the performance of machine learning models by reducing variance and bias. However, if an individual model already has low variance and bias, then using an ensemble technique may not have a significant impact on its performance."
   ]
  },
  {
   "cell_type": "markdown",
   "id": "d9a25c66-4eed-49c2-9264-2057f438959b",
   "metadata": {},
   "source": [
    "## Q7. How is the confidence interval calculated using bootstrap?"
   ]
  },
  {
   "cell_type": "markdown",
   "id": "91f65ed2-8f73-4255-9afd-082dd0e34ced",
   "metadata": {},
   "source": [
    "#### Suppose you want to calculate a 95% confidence interval for the mean of a dataset:\n",
    "\n",
    "1.  Resample your data (with replacement) to create many bootstrap resamples.\n",
    "2. For each resample, calculate the mean.\n",
    "3. Create a distribution of these means .\n",
    "4. Find the 2.5th and 97.5th percentiles of this distribution to determine the lower and upper bounds of the 95% confidence interval."
   ]
  },
  {
   "cell_type": "markdown",
   "id": "1a30ad24-ae4e-494a-ad53-72ee92b0033a",
   "metadata": {},
   "source": [
    "## Q8. How does bootstrap work and What are the steps involved in bootstrap?"
   ]
  },
  {
   "cell_type": "markdown",
   "id": "0fcaf80a-37be-4f56-ab67-ca4eea16cc9e",
   "metadata": {},
   "source": [
    "1. Choose a statistic to estimate. This could be the mean, standard deviation, or any other statistic of interest.\n",
    "2. Draw a bootstrap sample. This is done by sampling with replacement from the original sample. The size of the bootstrap sample should be the same as the size of the original sample.\n",
    "3. Calculate the statistic of interest on the bootstrap sample.\n",
    "4. Repeat steps 2 and 3 many times. The number of times you repeat these steps is called the number of bootstrap replicates.\n",
    "5. Estimate the sampling distribution of the statistic by plotting the values of the statistic from the bootstrap replicates.\n",
    "6. Use the sampling distribution to construct confidence intervals for the population parameter."
   ]
  },
  {
   "cell_type": "code",
   "execution_count": 6,
   "id": "21bd45ac-545c-4728-8f95-5bbdf63bf593",
   "metadata": {},
   "outputs": [
    {
     "data": {
      "image/png": "[encoded data removed]",
      "text/plain": [
       "<Figure size 640x480 with 1 Axes>"
      ]
     },
     "metadata": {},
     "output_type": "display_data"
    },
    {
     "name": "stdout",
     "output_type": "stream",
     "text": [
      "lower bound 14.919055514209035\n",
      "upper bound 16.035365728905255\n"
     ]
    }
   ],
   "source": [
    "import numpy as np\n",
    "import matplotlib.pyplot as plt\n",
    "%matplotlib inline \n",
    "\n",
    "sample_data=np.random.normal(15,2,50)\n",
    "bootstrap_sample=[]\n",
    "for i in range(1500):\n",
    "    samp=np.random.choice(sample_data,50,replace=True)\n",
    "    bootstrap_sample.append(np.mean(samp))\n",
    "plt.hist(bootstrap_sample)\n",
    "plt.xlabel(\"sample mean\")\n",
    "plt.ylabel(\"frequency\")\n",
    "plt.show()\n",
    "\n",
    "# calculating confidence interval\n",
    "lower_bound=np.percentile(bootstrap_sample,2.5)\n",
    "upper_bound=np.percentile(bootstrap_sample,97.5)\n",
    "\n",
    "print(\"lower bound\",lower_bound)\n",
    "print(\"upper bound\",upper_bound)"
   ]
  },
  {
   "cell_type": "code",
   "execution_count": null,
   "id": "a30d3cf2-42fb-4d01-beee-ac14d64e6172",
   "metadata": {},
   "outputs": [],
   "source": []
  },
  {
   "cell_type": "code",
   "execution_count": null,
   "id": "1fe47445-02e0-42dd-bc30-c2524f35f214",
   "metadata": {},
   "outputs": [],
   "source": []
  }
 ],
 "metadata": {
  "kernelspec": {
   "display_name": "Python 3 (ipykernel)",
   "language": "python",
   "name": "python3"
  },
  "language_info": {
   "codemirror_mode": {
    "name": "ipython",
    "version": 3
   },
   "file_extension": ".py",
   "mimetype": "text/x-python",
   "name": "python",
   "nbconvert_exporter": "python",
   "pygments_lexer": "ipython3",
   "version": "3.10.8"
  }
 },
 "nbformat": 4,
 "nbformat_minor": 5
}
