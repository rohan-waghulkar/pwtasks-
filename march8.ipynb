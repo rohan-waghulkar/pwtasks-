{
 "cells": [
  {
   "cell_type": "markdown",
   "id": "3ee0d591-82af-40c7-bdd2-9641795a97df",
   "metadata": {},
   "source": [
    "## Q1. What is the Probability density function?"
   ]
  },
  {
   "cell_type": "markdown",
   "id": "a590e9ed-a53e-45c6-931c-16cd5579433b",
   "metadata": {},
   "source": [
    "The Probability Density Function (PDF) is a function that describes the probability distribution of a continuous random variable. It is defined as the derivative of the cumulative distribution function (CDF) of the random variable, and gives the probability of a particular outcome occurring within a specific interval of values."
   ]
  },
  {
   "cell_type": "markdown",
   "id": "ad40aa92-0322-4761-b2f2-098a729bd80d",
   "metadata": {},
   "source": [
    "## Q2. What are the types of Probability distribution?"
   ]
  },
  {
   "cell_type": "code",
   "execution_count": null,
   "id": "3277ebf9-ed39-4d4c-ab08-78ca36f87363",
   "metadata": {},
   "outputs": [],
   "source": []
  },
  {
   "cell_type": "markdown",
   "id": "cae05c93-d682-4d04-b9b0-83448e665bb6",
   "metadata": {},
   "source": [
    "The types of distribution are as follows:\n",
    "1. Bernoulli Distribution : it is a probability disribution for single binary random variable that takes two valuse denoted by 0 and 1.with probability of p and (1-p).\n",
    "2. Binomial Distribution : it is a dicreate probability distribution for no.of successes in fixed no.of trials \n",
    "3. poissson Distribution :  A Poisson distribution is a discrete probability distribution that models the number of occurrences of a rare event in a fixed interval of time or space.\n",
    "4. Normal Distribution : it is a continuous probability distribution that is often used to model real-world phenomena, such as heights, weights, and IQ scores.\n"
   ]
  },
  {
   "cell_type": "markdown",
   "id": "e6a19908-a972-4427-9aff-7ebdf8edf6aa",
   "metadata": {},
   "source": [
    "## Q3. Write a Python function to calculate the probability density function of a normal distribution with given mean and standard deviation at a given point."
   ]
  },
  {
   "cell_type": "code",
   "execution_count": 1,
   "id": "28b12ab1-7716-45eb-8e85-4ab5a43b4e9e",
   "metadata": {},
   "outputs": [],
   "source": [
    "import math\n",
    "def get_PDF(x,mean,std):\n",
    "    pdf=(1 / (std * math.sqrt(2 * math.pi))) * math.exp(-((x - mean)**2 / (2 * std**2)))\n",
    "    print(pdf)\n",
    "    "
   ]
  },
  {
   "cell_type": "code",
   "execution_count": 2,
   "id": "4fe84115-69c6-443e-8f52-27ca61963ddb",
   "metadata": {},
   "outputs": [
    {
     "name": "stdout",
     "output_type": "stream",
     "text": [
      "0.12098536225957168\n"
     ]
    }
   ],
   "source": [
    "get_PDF(12,10,2)"
   ]
  },
  {
   "cell_type": "markdown",
   "id": "b5fa6b0d-c194-48e5-9c64-b9efa9edf068",
   "metadata": {},
   "source": [
    "## Q4. What are the properties of Binomial distribution? Give two examples of events where binomial distribution can be applied."
   ]
  },
  {
   "cell_type": "markdown",
   "id": "5526d873-b0fc-45e2-9f37-9a5c42abbfdd",
   "metadata": {},
   "source": [
    "properties:\n",
    "1. the outcome for the each trial must be independant of each other.\n",
    "2. there are only two outcome for each trial that are success and failure.\n",
    "3. the probability of success is constant for each trial.\n",
    "4. the no.of trials is fixes \n",
    "Example :\n",
    "1. probabily of getting 'x' no.of Heads in 'n' no.of trials.\n",
    "2. Counting the number of voters who support a particular candidate in a fixed number of votes:"
   ]
  },
  {
   "cell_type": "markdown",
   "id": "26eb7f8a-94cc-48ec-a76b-79d9694d9180",
   "metadata": {},
   "source": [
    "## Q5. Generate a random sample of size 1000 from a binomial distribution with probability of success 0.4 and plot a histogram of the results using matplotlib."
   ]
  },
  {
   "cell_type": "code",
   "execution_count": 3,
   "id": "14bea1cb-0dbc-4564-a9ed-b70cf5e9ee01",
   "metadata": {},
   "outputs": [
    {
     "data": {
      "image/png": "[encoded data removed]",
      "text/plain": [
       "<Figure size 640x480 with 1 Axes>"
      ]
     },
     "metadata": {},
     "output_type": "display_data"
    }
   ],
   "source": [
    "import numpy as np\n",
    "import matplotlib.pyplot as plt\n",
    "np.random.seed(42)\n",
    "data=np.random.binomial(n=1,p=0.4,size=1000)\n",
    "plt.hist(data)\n",
    "plt.show()"
   ]
  },
  {
   "cell_type": "markdown",
   "id": "1fa31343-fb0f-422f-a94c-25050b19e0d7",
   "metadata": {},
   "source": [
    "## Q6. Write a Python function to calculate the cumulative distribution function of a Poisson distribution with given mean at a given point."
   ]
  },
  {
   "cell_type": "code",
   "execution_count": 8,
   "id": "daee0cd5-89cf-4857-b450-5f03c83af05a",
   "metadata": {},
   "outputs": [],
   "source": [
    "from scipy.stats import poisson\n",
    "\n",
    "def poisson_cdf(mu, k):\n",
    "    return poisson.cdf(k, mu)"
   ]
  },
  {
   "cell_type": "code",
   "execution_count": 9,
   "id": "0a048a15-1353-47fe-9390-84213f47d308",
   "metadata": {},
   "outputs": [
    {
     "name": "stdout",
     "output_type": "stream",
     "text": [
      "0.42319008112684364\n"
     ]
    }
   ],
   "source": [
    "print(poisson_cdf(3,2))"
   ]
  },
  {
   "cell_type": "markdown",
   "id": "c6740c40-5af8-46e4-b18c-1f6b688b6989",
   "metadata": {},
   "source": [
    "## Q7. How Binomial distribution different from Poisson distribution?"
   ]
  },
  {
   "cell_type": "markdown",
   "id": "d3734be9-bf28-4f7c-9dcc-6598d44cbb48",
   "metadata": {},
   "source": [
    "1. The Binomial distribution is used to model the no.of trials with a fixed probability of success.while poisson distribution is no.of events occurs in fixed intercal of time\n",
    "2. Binomial distribution has two parameters no.of trails and the probability of success in each trial.the poisson distribution has one parameter that is average rate of occurence  "
   ]
  },
  {
   "cell_type": "markdown",
   "id": "5d2fab48-d45d-47fa-aef9-268c01ad1e10",
   "metadata": {},
   "source": [
    "## Q8. Generate a random sample of size 1000 from a Poisson distribution with mean 5 and calculate the sample mean and variance."
   ]
  },
  {
   "cell_type": "code",
   "execution_count": 13,
   "id": "7639a9c9-f570-423e-8bc1-9fc013237cd1",
   "metadata": {},
   "outputs": [],
   "source": [
    "import seaborn as sns\n",
    "import matplotlib.pyplot as plt\n",
    "import numpy as np"
   ]
  },
  {
   "cell_type": "code",
   "execution_count": 18,
   "id": "98cf8b4d-a6cf-4cef-984c-a78da9057873",
   "metadata": {},
   "outputs": [
    {
     "name": "stdout",
     "output_type": "stream",
     "text": [
      "Mean : 5.153\n",
      "variance :  5.091590999999999\n"
     ]
    }
   ],
   "source": [
    "s=np.random.poisson(lam=5,size=1000)\n",
    "s_mean=np.mean(s)\n",
    "s_var=np.var(s)\n",
    "print(\"Mean :\",s_mean)\n",
    "print(\"variance : \",s_var)"
   ]
  },
  {
   "cell_type": "markdown",
   "id": "2534d420-3ab6-4ba1-95c8-ba89f6531707",
   "metadata": {},
   "source": [
    "## Q9. How mean and variance are related in Binomial distribution and Poisson distribution?"
   ]
  },
  {
   "cell_type": "markdown",
   "id": "fd49f592-b5e4-4b0b-92b4-48654a2e1212",
   "metadata": {},
   "source": [
    "In the Binomial distribution, the mean (μ) and variance (σ^2) are related by the formula:\n",
    "\n",
    "μ = n * p\n",
    "\n",
    "σ^2 = n * p * (1 - p)\n",
    "\n",
    "In the Poisson distribution, the mean (λ) and variance (σ^2) are also related, but in a different way. In this case, the mean and variance are both equal to λ:\n",
    "\n",
    "μ = λ\n",
    "\n",
    "σ^2 = λ"
   ]
  },
  {
   "cell_type": "markdown",
   "id": "3e6024cb-a6e1-4279-987c-bd2eb25c5315",
   "metadata": {},
   "source": [
    "## Q10. In normal distribution with respect to mean position, where does the least frequent data appear?"
   ]
  },
  {
   "cell_type": "markdown",
   "id": "d4e6b495-bf16-482f-9ca6-718b77f064cb",
   "metadata": {},
   "source": [
    "the least frequent data in binomial distribution occurs at the tail of the distribution .becuse the normal distribution always forms a bell shape graph as we move to any size from mean the frequency of the data get decreases."
   ]
  },
  {
   "cell_type": "code",
   "execution_count": null,
   "id": "58d68f3e-355a-480e-b1a1-23abc8e4ed7d",
   "metadata": {},
   "outputs": [],
   "source": []
  }
 ],
 "metadata": {
  "kernelspec": {
   "display_name": "Python 3 (ipykernel)",
   "language": "python",
   "name": "python3"
  },
  "language_info": {
   "codemirror_mode": {
    "name": "ipython",
    "version": 3
   },
   "file_extension": ".py",
   "mimetype": "text/x-python",
   "name": "python",
   "nbconvert_exporter": "python",
   "pygments_lexer": "ipython3",
   "version": "3.10.8"
  }
 },
 "nbformat": 4,
 "nbformat_minor": 5
}
