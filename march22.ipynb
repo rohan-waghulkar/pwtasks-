{
 "cells": [
  {
   "cell_type": "markdown",
   "id": "39aa19af-acb1-4598-9054-1b313cee8497",
   "metadata": {},
   "source": [
    "## Q1. Pearson correlation coefficient is a measure of the linear relationship between two variables. Suppose you have collected data on the amount of time students spend studying for an exam and their final exams cores. Calculate the Pearson correlation coefficient between these two variables and interpret the result."
   ]
  },
  {
   "cell_type": "code",
   "execution_count": 1,
   "id": "ac258e8e-47ca-4d7c-9cdf-c33aff24a29b",
   "metadata": {},
   "outputs": [],
   "source": [
    "import pandas as pd"
   ]
  },
  {
   "cell_type": "code",
   "execution_count": 2,
   "id": "c03ca4cb-a74b-4ef3-b464-58735d2222b2",
   "metadata": {},
   "outputs": [
    {
     "data": {
      "text/html": [
       "<div>\n",
       "<style scoped>\n",
       "    .dataframe tbody tr th:only-of-type {\n",
       "        vertical-align: middle;\n",
       "    }\n",
       "\n",
       "    .dataframe tbody tr th {\n",
       "        vertical-align: top;\n",
       "    }\n",
       "\n",
       "    .dataframe thead th {\n",
       "        text-align: right;\n",
       "    }\n",
       "</style>\n",
       "<table border=\"1\" class=\"dataframe\">\n",
       "  <thead>\n",
       "    <tr style=\"text-align: right;\">\n",
       "      <th></th>\n",
       "      <th>study hours</th>\n",
       "      <th>score</th>\n",
       "    </tr>\n",
       "  </thead>\n",
       "  <tbody>\n",
       "    <tr>\n",
       "      <th>study hours</th>\n",
       "      <td>1.000000</td>\n",
       "      <td>0.964109</td>\n",
       "    </tr>\n",
       "    <tr>\n",
       "      <th>score</th>\n",
       "      <td>0.964109</td>\n",
       "      <td>1.000000</td>\n",
       "    </tr>\n",
       "  </tbody>\n",
       "</table>\n",
       "</div>"
      ],
      "text/plain": [
       "             study hours     score\n",
       "study hours     1.000000  0.964109\n",
       "score           0.964109  1.000000"
      ]
     },
     "execution_count": 2,
     "metadata": {},
     "output_type": "execute_result"
    }
   ],
   "source": [
    "df=pd.DataFrame({'study hours':[5,6,7,8,9,4],'score':[75,81,85,88,92,77]})\n",
    "\n",
    "df.corr(method='pearson')"
   ]
  },
  {
   "cell_type": "markdown",
   "id": "03a2c6b8-b304-4ad9-8592-a02d5f5c531b",
   "metadata": {},
   "source": [
    "- It is giving positive corretation of 0.96 therefore time students spend studying for an exam and exam score are highly correlated"
   ]
  },
  {
   "cell_type": "markdown",
   "id": "3ee89e19-fdb8-4796-b366-64db895c58d4",
   "metadata": {},
   "source": [
    "## Q2. Spearman's rank correlation is a measure of the monotonic relationship between two variables. Suppose you have collected data on the amount of sleep individuals get each night and their overall job satisfaction level on a scale of 1 to 10. Calculate the Spearman's rank correlation between these two variables and interpret the result.¶"
   ]
  },
  {
   "cell_type": "markdown",
   "id": "db573bdf-146d-48bf-8491-dd448ae744c7",
   "metadata": {},
   "source": [
    "- Spearman's rank correlation coefficient is a value between -1 to 1:\n",
    "- where -1 indicates a perfect negative correlation\n",
    "- 1 indicates a perfact positive correlation\n",
    "- and 0 indicates no monotonic correlation"
   ]
  },
  {
   "cell_type": "code",
   "execution_count": 3,
   "id": "92902d6d-a0ec-4196-8cf9-5fabb7a3d0ac",
   "metadata": {},
   "outputs": [
    {
     "data": {
      "text/html": [
       "<div>\n",
       "<style scoped>\n",
       "    .dataframe tbody tr th:only-of-type {\n",
       "        vertical-align: middle;\n",
       "    }\n",
       "\n",
       "    .dataframe tbody tr th {\n",
       "        vertical-align: top;\n",
       "    }\n",
       "\n",
       "    .dataframe thead th {\n",
       "        text-align: right;\n",
       "    }\n",
       "</style>\n",
       "<table border=\"1\" class=\"dataframe\">\n",
       "  <thead>\n",
       "    <tr style=\"text-align: right;\">\n",
       "      <th></th>\n",
       "      <th>sleep</th>\n",
       "      <th>satisfaction</th>\n",
       "    </tr>\n",
       "  </thead>\n",
       "  <tbody>\n",
       "    <tr>\n",
       "      <th>sleep</th>\n",
       "      <td>1.000000</td>\n",
       "      <td>0.974679</td>\n",
       "    </tr>\n",
       "    <tr>\n",
       "      <th>satisfaction</th>\n",
       "      <td>0.974679</td>\n",
       "      <td>1.000000</td>\n",
       "    </tr>\n",
       "  </tbody>\n",
       "</table>\n",
       "</div>"
      ],
      "text/plain": [
       "                 sleep  satisfaction\n",
       "sleep         1.000000      0.974679\n",
       "satisfaction  0.974679      1.000000"
      ]
     },
     "execution_count": 3,
     "metadata": {},
     "output_type": "execute_result"
    }
   ],
   "source": [
    "df1 = pd.DataFrame({\n",
    "    \"sleep\": [6, 7, 8, 9, 10],\n",
    "    \"satisfaction\": [7, 8, 9, 10, 10]\n",
    "})\n",
    "df1.corr(method='spearman')"
   ]
  },
  {
   "cell_type": "markdown",
   "id": "a06493c7-cf68-46a1-84b4-f45bc02f7ba3",
   "metadata": {},
   "source": [
    "- There is a positive correlation of 0.974 between sleep and Job satisfaction"
   ]
  },
  {
   "cell_type": "markdown",
   "id": "19900b4e-a74a-4e43-975d-d00658b3fb50",
   "metadata": {},
   "source": [
    "## Q3. Suppose you are conducting a study to examine the relationship between the number of hours of exercise per week and body mass index (BMI) in a sample of adults. You collected data on both variables for 50 participants. Calculate the Pearson correlation coefficient and the Spearman's rank correlation between these two variables and compare the results."
   ]
  },
  {
   "cell_type": "code",
   "execution_count": 4,
   "id": "f51a679f-d0a9-494c-80f0-1901d7a465e3",
   "metadata": {},
   "outputs": [
    {
     "name": "stdout",
     "output_type": "stream",
     "text": [
      "                hours per week       bmi\n",
      "hours per week        1.000000  0.977013\n",
      "bmi                   0.977013  1.000000\n",
      "                hours per week       bmi\n",
      "hours per week        1.000000  0.983145\n",
      "bmi                   0.983145  1.000000\n"
     ]
    }
   ],
   "source": [
    "import numpy as np\n",
    "hours_per_week=[]\n",
    "BMI=[]\n",
    "for i in range(50):\n",
    "    hours_per_week.append(np.random.randint(1,8))\n",
    "    BMI.append(np.random.randint(20,35))\n",
    "hours_per_week.sort()\n",
    "BMI.sort()\n",
    "df2=pd.DataFrame({'hours per week':hours_per_week,'bmi':BMI})\n",
    "print(df2.corr(method='pearson'))\n",
    "print(df2.corr(method='spearman'))"
   ]
  },
  {
   "cell_type": "markdown",
   "id": "4babac83-d7e5-468f-beaf-db3b1a18b112",
   "metadata": {},
   "source": [
    "- Both 'Pearson' and 'Spearman's rank'correlation coefficent shows positive correlation of 0.962662 and 0.982828 but there is difference between positivity of the correlation between these to coeeficient values.Becouse The Pearson correlation coefficient measures the strength and direction of the linear relationship between two variables and Spearman's rank correlation coefficient measures the monotonic relationship between variables."
   ]
  },
  {
   "cell_type": "markdown",
   "id": "dc61e316-378f-4266-9a67-44966642acf3",
   "metadata": {
    "tags": []
   },
   "source": [
    "## Q4. A researcher is interested in examining the relationship between the number of hours individuals spend watching television per day and their level of physical activity. The researcher collected data on both variables from a sample"
   ]
  },
  {
   "cell_type": "markdown",
   "id": "16285c1c-15f2-4774-b6a9-d4909b132577",
   "metadata": {},
   "source": [
    "- Here is how the researcher could examine the relationship between the number of hours individuals spend watching television per day and their level of physical activity:\n",
    "\n",
    "1. The researcher could collect data on both variables from a sample of individuals. The data could be collected using a survey, where participants would be asked to report how many hours they spend watching television per day and how active they are.\n",
    "2. The researcher could then use statistical methods to analyze the data. One way to do this would be to conduct a correlation analysis. A correlation analysis would show how strongly the two variables are related. A positive correlation would indicate that as the number of hours spent watching television increases, the level of physical activity decreases. A negative correlation would indicate that as the number of hours spent watching television increases, the level of physical activity increases."
   ]
  },
  {
   "cell_type": "markdown",
   "id": "3a44c4d9-f7b1-4021-9491-c6e747f5e94d",
   "metadata": {},
   "source": [
    "## Q5. A survey was conducted to examine the relationship between age and preference for a particular brand of soft drink. The survey results are shown below:\n",
    "\n",
    "Age (Years) | Soft Drink Preference\n",
    "------------|---------------------\n",
    "25          | Coke\n",
    "42          | Pepsi\n",
    "37          | Mountain Dew\n",
    "19          | Coke\n",
    "31          | Pepsi\n",
    "28          | Coke\n"
   ]
  },
  {
   "cell_type": "markdown",
   "id": "dea82c8f-cf74-41a7-aad5-16633d9f2bd9",
   "metadata": {},
   "source": [
    "#### we can observe that among the given respondents:\n",
    "\n",
    "- Two individuals aged 25 and 19 prefer Coke.\n",
    "- One individual aged 42 prefers Pepsi.\n",
    "- One individual aged 37 prefers Mountain Dew.\n",
    "- One individual aged 31 prefers Pepsi.\n",
    "- One individual aged 28 prefers Coke.\n",
    "\n",
    " As the data vary few we can not find the proper relation between there two feilds"
   ]
  },
  {
   "cell_type": "markdown",
   "id": "cbe92bd0-4be1-4a3c-a656-00c8a7439eb1",
   "metadata": {},
   "source": [
    "## Q6. A company is interested in examining the relationship between the number of sales calls made per day and the number of sales made per week. The company collected data on both variables from a sample of 30 sales representatives. Calculate the Pearson correlation coefficient between these two variables."
   ]
  },
  {
   "cell_type": "code",
   "execution_count": 19,
   "id": "bd0341f4-29eb-46a4-9523-a357577e684d",
   "metadata": {},
   "outputs": [
    {
     "data": {
      "text/html": [
       "<div>\n",
       "<style scoped>\n",
       "    .dataframe tbody tr th:only-of-type {\n",
       "        vertical-align: middle;\n",
       "    }\n",
       "\n",
       "    .dataframe tbody tr th {\n",
       "        vertical-align: top;\n",
       "    }\n",
       "\n",
       "    .dataframe thead th {\n",
       "        text-align: right;\n",
       "    }\n",
       "</style>\n",
       "<table border=\"1\" class=\"dataframe\">\n",
       "  <thead>\n",
       "    <tr style=\"text-align: right;\">\n",
       "      <th></th>\n",
       "      <th>calls per day</th>\n",
       "      <th>sales per week</th>\n",
       "    </tr>\n",
       "  </thead>\n",
       "  <tbody>\n",
       "    <tr>\n",
       "      <th>calls per day</th>\n",
       "      <td>1.000000</td>\n",
       "      <td>0.968564</td>\n",
       "    </tr>\n",
       "    <tr>\n",
       "      <th>sales per week</th>\n",
       "      <td>0.968564</td>\n",
       "      <td>1.000000</td>\n",
       "    </tr>\n",
       "  </tbody>\n",
       "</table>\n",
       "</div>"
      ],
      "text/plain": [
       "                calls per day  sales per week\n",
       "calls per day        1.000000        0.968564\n",
       "sales per week       0.968564        1.000000"
      ]
     },
     "execution_count": 19,
     "metadata": {},
     "output_type": "execute_result"
    }
   ],
   "source": [
    "calls=[]\n",
    "sales=[]\n",
    "for i in range(30):\n",
    "    calls.append(np.random.randint(45,70))\n",
    "    sales.append(np.random.randint(10,20))\n",
    "calls.sort()\n",
    "sales.sort()\n",
    "df4=pd.DataFrame({'calls per day':calls,'sales per week':sales})\n",
    "df4.corr(method='pearson')"
   ]
  },
  {
   "cell_type": "code",
   "execution_count": null,
   "id": "2cd77fd0-5bc2-4533-99d0-9a1ccdde02e0",
   "metadata": {},
   "outputs": [],
   "source": []
  },
  {
   "cell_type": "code",
   "execution_count": null,
   "id": "378f36e5-de67-4717-b6eb-e7dde7d2bf59",
   "metadata": {},
   "outputs": [],
   "source": []
  }
 ],
 "metadata": {
  "kernelspec": {
   "display_name": "Python 3 (ipykernel)",
   "language": "python",
   "name": "python3"
  },
  "language_info": {
   "codemirror_mode": {
    "name": "ipython",
    "version": 3
   },
   "file_extension": ".py",
   "mimetype": "text/x-python",
   "name": "python",
   "nbconvert_exporter": "python",
   "pygments_lexer": "ipython3",
   "version": "3.10.8"
  }
 },
 "nbformat": 4,
 "nbformat_minor": 5
}
