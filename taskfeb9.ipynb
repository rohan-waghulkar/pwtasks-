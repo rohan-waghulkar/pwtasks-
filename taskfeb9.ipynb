{
 "cells": [
  {
   "cell_type": "markdown",
   "id": "38bf837a-f902-4f1e-a9db-28b59d3fa8cc",
   "metadata": {},
   "source": [
    "## Q1, Create a vehicle class with an init method having instance variables as name_of_vehicle, max_speed and average_of_vehicle.\n"
   ]
  },
  {
   "cell_type": "code",
   "execution_count": 14,
   "id": "511f2d54-cfe2-490f-9d97-f1314000f955",
   "metadata": {},
   "outputs": [],
   "source": [
    "class vehicle:\n",
    "    def __init__(self,name_of_vehicle,max_speed,average_of_vehicle):\n",
    "        self.name_of_vehicle=name_of_vehicle\n",
    "        self.max_speed=max_speed\n",
    "        self.average_of_vehicle=average_of_vehicle"
   ]
  },
  {
   "cell_type": "markdown",
   "id": "d9188812-846d-449d-af7e-ac94366a67dd",
   "metadata": {},
   "source": [
    "## Q2. Create a child class car from the vehicle class created in Que 1, which will inherit the vehicle class.Create a method named seating_capacity which takes capacity as an argument and returns the name of the vehicle and its seating capacity."
   ]
  },
  {
   "cell_type": "code",
   "execution_count": 25,
   "id": "a54d1752-ae08-44fb-9c6a-0c8ba5c18869",
   "metadata": {},
   "outputs": [],
   "source": [
    "class car(vehicle):\n",
    "    def __init__(self,capacity,name_of_vehicle,max_speed,average_of_vehicle):\n",
    "        self.capacity=capacity\n",
    "        super().__init__(name_of_vehicle,max_speed,average_of_vehicle)\n",
    "    def seating_capacity(self):\n",
    "        print(f'car name is {self.name_of_vehicle} with sitting capacity {self.capacity}')"
   ]
  },
  {
   "cell_type": "code",
   "execution_count": 26,
   "id": "bc731a39-b463-4650-ba01-e63635d4bff5",
   "metadata": {},
   "outputs": [],
   "source": [
    "car1=car(5,'Nexon',170,151)"
   ]
  },
  {
   "cell_type": "code",
   "execution_count": 27,
   "id": "2a87f414-2e54-4c73-a677-3fc38d59bb84",
   "metadata": {},
   "outputs": [
    {
     "name": "stdout",
     "output_type": "stream",
     "text": [
      "car name is Nexon with sitting capacity 5\n"
     ]
    }
   ],
   "source": [
    "car1.seating_capacity()"
   ]
  },
  {
   "cell_type": "markdown",
   "id": "cbf9f2df-58e5-4e9c-965a-2d7b6d49b6e8",
   "metadata": {},
   "source": [
    "## Q3. What is multiple inheritance? Write a python code to demonstrate multiple inheritance."
   ]
  },
  {
   "cell_type": "markdown",
   "id": "87c5e9a9-20ef-462d-8035-476769e1b903",
   "metadata": {},
   "source": [
    "## Answer:\n",
    "  ## In this type of inheritance a class can inherits two or more classes symultaneuosly i.e it can inherits the attributes and methos of multiple classes"
   ]
  },
  {
   "cell_type": "code",
   "execution_count": 31,
   "id": "640c76c0-8203-4047-adc4-e5becc2fa5f6",
   "metadata": {},
   "outputs": [],
   "source": [
    "class class_A:\n",
    "    def method_A(self):\n",
    "        print('This is Class A')"
   ]
  },
  {
   "cell_type": "code",
   "execution_count": 32,
   "id": "3366d4db-e51a-46b1-9dd7-0786e41fde66",
   "metadata": {},
   "outputs": [],
   "source": [
    "class class_B:\n",
    "    def method_B(self):\n",
    "        print('This is Class B')"
   ]
  },
  {
   "cell_type": "code",
   "execution_count": 34,
   "id": "50703c90-f075-4818-97fa-aafd50414517",
   "metadata": {},
   "outputs": [],
   "source": [
    "class class_C(class_A,class_B):\n",
    "    def method_C(self):\n",
    "        print('This is Class C')"
   ]
  },
  {
   "cell_type": "code",
   "execution_count": 35,
   "id": "1c1fb0a5-e524-4de7-a88d-34c0f66901a9",
   "metadata": {},
   "outputs": [],
   "source": [
    "abc=class_C()"
   ]
  },
  {
   "cell_type": "code",
   "execution_count": 37,
   "id": "601d4a7a-8520-4bd6-b828-40f958e7fd6b",
   "metadata": {},
   "outputs": [
    {
     "name": "stdout",
     "output_type": "stream",
     "text": [
      "This is Class A\n"
     ]
    }
   ],
   "source": [
    "abc.method_A()"
   ]
  },
  {
   "cell_type": "code",
   "execution_count": 38,
   "id": "9624f652-eb26-476f-976c-6f84b6942180",
   "metadata": {},
   "outputs": [
    {
     "name": "stdout",
     "output_type": "stream",
     "text": [
      "This is Class B\n"
     ]
    }
   ],
   "source": [
    "abc.method_B()"
   ]
  },
  {
   "cell_type": "code",
   "execution_count": 39,
   "id": "2562e8a5-c1f0-4c1d-ac64-4788fa1f5015",
   "metadata": {},
   "outputs": [
    {
     "name": "stdout",
     "output_type": "stream",
     "text": [
      "This is Class C\n"
     ]
    }
   ],
   "source": [
    "abc.method_C()"
   ]
  },
  {
   "cell_type": "markdown",
   "id": "0acc88ec-48fd-4ba8-98cf-65e479e038a0",
   "metadata": {},
   "source": [
    "## Q4. What are getter and setter in python? Create a class and create a getter and a setter method in this class."
   ]
  },
  {
   "cell_type": "markdown",
   "id": "1574efbb-03ae-48ce-9f00-f65ed81e5118",
   "metadata": {},
   "source": [
    "## Answer"
   ]
  },
  {
   "cell_type": "markdown",
   "id": "2dd153f0-e8e8-46eb-99d9-c24e5b670745",
   "metadata": {},
   "source": [
    "## A getter method is used to retrieve the value of an object's property, while a setter method is used to set the value of an object's property."
   ]
  },
  {
   "cell_type": "code",
   "execution_count": 42,
   "id": "7d9a99bb-4e44-4067-8331-78440a7ab884",
   "metadata": {},
   "outputs": [],
   "source": [
    "class person_info:\n",
    "    def __init__(self,name,age):\n",
    "        self.name=name\n",
    "        self.age=age\n",
    "    def get_age(self):\n",
    "        print(self.age)\n",
    "    def set_age(self,updated_age):\n",
    "        self.age=updated_age\n",
    "    def get_name(self):\n",
    "        print(self.name)\n",
    "    def set_name(self,newname):\n",
    "        self.name=newname"
   ]
  },
  {
   "cell_type": "code",
   "execution_count": 44,
   "id": "97c2a0c8-2b72-4c1d-91ce-8b671eab20c6",
   "metadata": {},
   "outputs": [],
   "source": [
    "person1=person_info('rohan',21)"
   ]
  },
  {
   "cell_type": "code",
   "execution_count": 45,
   "id": "557f135f-e3ab-4157-a86e-55d9ef8aa7d2",
   "metadata": {},
   "outputs": [
    {
     "name": "stdout",
     "output_type": "stream",
     "text": [
      "21\n"
     ]
    }
   ],
   "source": [
    "person1.get_age()"
   ]
  },
  {
   "cell_type": "code",
   "execution_count": 46,
   "id": "9a164be4-4046-4435-ba7c-0798ed01483c",
   "metadata": {},
   "outputs": [],
   "source": [
    "person1.set_age(25)"
   ]
  },
  {
   "cell_type": "code",
   "execution_count": 47,
   "id": "bfe58d86-02d0-4803-ad0b-f05f7503202f",
   "metadata": {},
   "outputs": [
    {
     "name": "stdout",
     "output_type": "stream",
     "text": [
      "25\n"
     ]
    }
   ],
   "source": [
    "person1.get_age()"
   ]
  },
  {
   "cell_type": "code",
   "execution_count": 48,
   "id": "e1ee4c37-2254-4ffe-abf4-9ac377b252e8",
   "metadata": {},
   "outputs": [
    {
     "name": "stdout",
     "output_type": "stream",
     "text": [
      "rohan\n"
     ]
    }
   ],
   "source": [
    "person1.get_name()"
   ]
  },
  {
   "cell_type": "markdown",
   "id": "ff237daf-1ff5-43d1-ab80-ba6ce9186c32",
   "metadata": {},
   "source": [
    "## Q5.What is method overriding in python? Write a python code to demonstrate method overriding."
   ]
  },
  {
   "cell_type": "markdown",
   "id": "c38e2b60-102b-4fe4-bf07-f0cae2f08799",
   "metadata": {},
   "source": [
    "## Answer :"
   ]
  },
  {
   "cell_type": "markdown",
   "id": "7a28f120-4c47-49e2-9e8c-6e1928a11255",
   "metadata": {},
   "source": [
    "##    Method overriding is a feature of Object Oriented Programming where a child class impliments a method separately that is already defined by its parent class "
   ]
  },
  {
   "cell_type": "code",
   "execution_count": 17,
   "id": "f7adb4b0-6346-443f-92d4-90e08234cf60",
   "metadata": {},
   "outputs": [],
   "source": [
    "class class1:\n",
    "    def method1(self):\n",
    "        print('This is a parent class Method ')"
   ]
  },
  {
   "cell_type": "code",
   "execution_count": 24,
   "id": "11151af4-406f-4e21-8e3b-73cdabee50ed",
   "metadata": {},
   "outputs": [],
   "source": [
    "class class2(class1):\n",
    "    def method1(self):\n",
    "        print('This is overrided method of parent class in child class ')"
   ]
  },
  {
   "cell_type": "code",
   "execution_count": 25,
   "id": "81ed2d83-8b88-4819-b9f5-a9b04415bf86",
   "metadata": {},
   "outputs": [],
   "source": [
    "c1=class2()"
   ]
  },
  {
   "cell_type": "code",
   "execution_count": 26,
   "id": "f86339e1-02c3-46cc-adf4-94e9971b982d",
   "metadata": {},
   "outputs": [
    {
     "name": "stdout",
     "output_type": "stream",
     "text": [
      "This is overrided method of parent class in child class \n"
     ]
    }
   ],
   "source": [
    "c1.method1()"
   ]
  },
  {
   "cell_type": "code",
   "execution_count": null,
   "id": "3c424be7-99ff-4db5-ac87-0306ee464562",
   "metadata": {},
   "outputs": [],
   "source": []
  },
  {
   "cell_type": "code",
   "execution_count": null,
   "id": "d3f291d1-7353-4e5b-a3d3-4ce03e292445",
   "metadata": {},
   "outputs": [],
   "source": []
  }
 ],
 "metadata": {
  "kernelspec": {
   "display_name": "Python 3 (ipykernel)",
   "language": "python",
   "name": "python3"
  },
  "language_info": {
   "codemirror_mode": {
    "name": "ipython",
    "version": 3
   },
   "file_extension": ".py",
   "mimetype": "text/x-python",
   "name": "python",
   "nbconvert_exporter": "python",
   "pygments_lexer": "ipython3",
   "version": "3.10.8"
  }
 },
 "nbformat": 4,
 "nbformat_minor": 5
}
