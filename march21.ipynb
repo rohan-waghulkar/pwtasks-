{
 "cells": [
  {
   "cell_type": "markdown",
   "id": "fb547a2b-f102-4133-90f2-b74f3ff0e5f5",
   "metadata": {},
   "source": [
    "## Q1. What is the difference between Ordinal Encoding and Label Encoding? Provide an example of when you might choose one over the other."
   ]
  },
  {
   "cell_type": "markdown",
   "id": "1fe66318-c6d6-4ea9-9436-dd158558c2d1",
   "metadata": {},
   "source": [
    "1. Ordinal Encoding : Ordinal Encoding assings a unique lable to every unique value in a categorical variable.The lable are assinged a specific order based on their perceived rank or order of importance. Ordinal Encoding preserves the ordinal relationship between categories, implying that it assumes a meaningful order among the labels.\n",
    "2. Lable Encoding : Label Encoding, on the other hand, simply assigns a unique numerical label to each unique category without considering any specific order or rank.Label Encoding does not imply any inherent order or relationship between the labels.\n",
    "\n",
    "when an order or heirarchy to be maintained in categorical data then we should use Ordinal Encoding and if there is no need of maintaning any rank among the categorical values we should use Lable Encoding"
   ]
  },
  {
   "cell_type": "markdown",
   "id": "5f60620c-a6c7-47f9-86e5-19d4ccc2a145",
   "metadata": {},
   "source": [
    "## Q2. Explain how Target Guided Ordinal Encoding works and provide an example of when you might use it in a machine learning project."
   ]
  },
  {
   "cell_type": "markdown",
   "id": "d1a69760-cc62-4b31-ac10-56eee5b20528",
   "metadata": {},
   "source": [
    "Target Guided Ordinal Encoding (TGOE) is a feature encoding technique used in machine learning projects to encode categorical variables \n",
    "\n",
    "It assigns ordinal numerical values to the categories based on the target variable's mean or median value for each category.\n",
    "\n",
    " explanation of how Target Guided Ordinal Encoding works:\n",
    " 1. Calculate the mean or median value of the target variable for each category in the categorical feature.\n",
    "\n",
    "2. Sort the categories based on their mean or median value in ascending order.\n",
    "\n",
    "3. Assign ordinal numerical values to the categories based on their sorted order. The category with the lowest mean or median value gets the lowest ordinal value, and the category with the highest mean or median value gets the highest ordinal value.\n",
    "\n",
    "4. Replace the original categorical values in the feature column with the corresponding ordinal numerical values."
   ]
  },
  {
   "cell_type": "markdown",
   "id": "173b2623-4397-4f34-99db-79256ff3e295",
   "metadata": {},
   "source": [
    "## Q3. Define covariance and explain why it is important in statistical analysis. How is covariance calculated?"
   ]
  },
  {
   "cell_type": "markdown",
   "id": "1af17461-a9aa-4452-847f-09b3dac4838d",
   "metadata": {},
   "source": [
    "Covariance is a statistical measure indicates how changes in one variable are associated with changes in another variable.\n",
    "\n",
    " Here are a few reasons why covariance is significant:\n",
    " \n",
    "1. Relationship Assessment: Covariance allows us to determine whether two variables move together (positive covariance) or move in opposite directions (negative covariance). It helps assess the direction of the relationship between variables.\n",
    "2. Dependency Detection: Covariance helps in identifying the dependency between variables. If the covariance is close to zero, it suggests that the variables are not linearly related and may be independent of each other.\n",
    "\n",
    "Covariance is calculated using the following formula:\n",
    "\n",
    "Cov(X, Y) = Σ[(Xᵢ - X̄)(Yᵢ - Ȳ)] / (n - 1)\n",
    "\n",
    "Where:\n",
    "\n",
    "Cov(X, Y) represents the covariance between variables X and Y.\n",
    "Xᵢ and Yᵢ are individual data points in variables X and Y, respectively.\n",
    "X̄ and Ȳ are the means of variables X and Y, respectively.\n",
    "n is the number of data points in the variables."
   ]
  },
  {
   "cell_type": "markdown",
   "id": "9ea4e893-5f89-4fc6-9490-de6a4b2accd2",
   "metadata": {},
   "source": [
    "## Q4. For a daColorColortaset with the following categorical variables: Color (red, green, blue), Size (small, medium,large), and Material (wood, metal, plastic), perform label encoding using Python's scikit-learn library. Show your code and explain the output."
   ]
  },
  {
   "cell_type": "code",
   "execution_count": 1,
   "id": "9657f4e6-5a59-482c-872b-6dc1a1088e54",
   "metadata": {},
   "outputs": [],
   "source": [
    "import pandas as pd"
   ]
  },
  {
   "cell_type": "code",
   "execution_count": 2,
   "id": "83c4c2cc-d137-4c4b-a9aa-c641a48604ef",
   "metadata": {},
   "outputs": [],
   "source": [
    "dataset=pd.DataFrame({\"Color\":['red', 'green', 'blue'],'Size':['small', 'medium','large'],'Material':['wood','metal','plastic']})"
   ]
  },
  {
   "cell_type": "code",
   "execution_count": 3,
   "id": "72df3cd2-f0ef-4f18-842f-79deac634758",
   "metadata": {},
   "outputs": [
    {
     "data": {
      "text/html": [
       "<div>\n",
       "<style scoped>\n",
       "    .dataframe tbody tr th:only-of-type {\n",
       "        vertical-align: middle;\n",
       "    }\n",
       "\n",
       "    .dataframe tbody tr th {\n",
       "        vertical-align: top;\n",
       "    }\n",
       "\n",
       "    .dataframe thead th {\n",
       "        text-align: right;\n",
       "    }\n",
       "</style>\n",
       "<table border=\"1\" class=\"dataframe\">\n",
       "  <thead>\n",
       "    <tr style=\"text-align: right;\">\n",
       "      <th></th>\n",
       "      <th>Color</th>\n",
       "      <th>Size</th>\n",
       "      <th>Material</th>\n",
       "    </tr>\n",
       "  </thead>\n",
       "  <tbody>\n",
       "    <tr>\n",
       "      <th>0</th>\n",
       "      <td>red</td>\n",
       "      <td>small</td>\n",
       "      <td>wood</td>\n",
       "    </tr>\n",
       "    <tr>\n",
       "      <th>1</th>\n",
       "      <td>green</td>\n",
       "      <td>medium</td>\n",
       "      <td>metal</td>\n",
       "    </tr>\n",
       "    <tr>\n",
       "      <th>2</th>\n",
       "      <td>blue</td>\n",
       "      <td>large</td>\n",
       "      <td>plastic</td>\n",
       "    </tr>\n",
       "  </tbody>\n",
       "</table>\n",
       "</div>"
      ],
      "text/plain": [
       "   Color    Size Material\n",
       "0    red   small     wood\n",
       "1  green  medium    metal\n",
       "2   blue   large  plastic"
      ]
     },
     "execution_count": 3,
     "metadata": {},
     "output_type": "execute_result"
    }
   ],
   "source": [
    "dataset"
   ]
  },
  {
   "cell_type": "code",
   "execution_count": 4,
   "id": "7a7c1809-a23e-41b9-874b-0752b692bbfe",
   "metadata": {},
   "outputs": [],
   "source": [
    "from sklearn.preprocessing import LabelEncoder"
   ]
  },
  {
   "cell_type": "code",
   "execution_count": 23,
   "id": "915853e8-5a60-4f64-8d36-1b47d3a0d540",
   "metadata": {},
   "outputs": [],
   "source": []
  },
  {
   "cell_type": "code",
   "execution_count": 30,
   "id": "2a57af43-eacf-44f8-9788-2e4d68c1003e",
   "metadata": {},
   "outputs": [],
   "source": [
    "encoder=LabelEncoder()\n",
    "coded_c=encoder.fit_transform(dataset['Color'])\n",
    "coded_s=encoder.fit_transform(dataset['Size'])\n",
    "coded_m=encoder.fit_transform(dataset['Material'])"
   ]
  },
  {
   "cell_type": "code",
   "execution_count": 31,
   "id": "aac0c4e8-c426-4f3c-bb08-b1f8d2081dff",
   "metadata": {},
   "outputs": [
    {
     "data": {
      "text/html": [
       "<div>\n",
       "<style scoped>\n",
       "    .dataframe tbody tr th:only-of-type {\n",
       "        vertical-align: middle;\n",
       "    }\n",
       "\n",
       "    .dataframe tbody tr th {\n",
       "        vertical-align: top;\n",
       "    }\n",
       "\n",
       "    .dataframe thead th {\n",
       "        text-align: right;\n",
       "    }\n",
       "</style>\n",
       "<table border=\"1\" class=\"dataframe\">\n",
       "  <thead>\n",
       "    <tr style=\"text-align: right;\">\n",
       "      <th></th>\n",
       "      <th>Color</th>\n",
       "      <th>Size</th>\n",
       "      <th>Material</th>\n",
       "      <th>encoded_color</th>\n",
       "      <th>encoded_size</th>\n",
       "      <th>encoded_material</th>\n",
       "    </tr>\n",
       "  </thead>\n",
       "  <tbody>\n",
       "    <tr>\n",
       "      <th>0</th>\n",
       "      <td>red</td>\n",
       "      <td>small</td>\n",
       "      <td>wood</td>\n",
       "      <td>2</td>\n",
       "      <td>2</td>\n",
       "      <td>2</td>\n",
       "    </tr>\n",
       "    <tr>\n",
       "      <th>1</th>\n",
       "      <td>green</td>\n",
       "      <td>medium</td>\n",
       "      <td>metal</td>\n",
       "      <td>1</td>\n",
       "      <td>1</td>\n",
       "      <td>0</td>\n",
       "    </tr>\n",
       "    <tr>\n",
       "      <th>2</th>\n",
       "      <td>blue</td>\n",
       "      <td>large</td>\n",
       "      <td>plastic</td>\n",
       "      <td>0</td>\n",
       "      <td>0</td>\n",
       "      <td>1</td>\n",
       "    </tr>\n",
       "  </tbody>\n",
       "</table>\n",
       "</div>"
      ],
      "text/plain": [
       "   Color    Size Material  encoded_color  encoded_size  encoded_material\n",
       "0    red   small     wood              2             2                 2\n",
       "1  green  medium    metal              1             1                 0\n",
       "2   blue   large  plastic              0             0                 1"
      ]
     },
     "execution_count": 31,
     "metadata": {},
     "output_type": "execute_result"
    }
   ],
   "source": [
    "pd.concat([dataset,pd.DataFrame({'encoded_color':coded_c,\n",
    "                                'encoded_size':coded_s,\n",
    "                                'encoded_material':coded_m})],axis=1)"
   ]
  },
  {
   "cell_type": "markdown",
   "id": "17ad1dc1-ce92-4873-83d6-a959ae97261e",
   "metadata": {},
   "source": [
    "## Q5. Calculate the covariance matrix for the following variables in a dataset: Age, Income, and Education level. Interpret the results."
   ]
  },
  {
   "cell_type": "code",
   "execution_count": 32,
   "id": "804d620b-371e-466e-942e-bbe0b3c18487",
   "metadata": {},
   "outputs": [
    {
     "name": "stdout",
     "output_type": "stream",
     "text": [
      "                     Age       Income  Education Level\n",
      "Age                 62.5      87500.0             25.0\n",
      "Income           87500.0  125000000.0          35000.0\n",
      "Education Level     25.0      35000.0             10.0\n"
     ]
    }
   ],
   "source": [
    "\n",
    "data = {\n",
    "    'Age': [30, 40, 25, 35, 45],\n",
    "    'Income': [50000, 60000, 40000, 55000, 70000],\n",
    "    'Education Level': [12, 16, 10, 14, 18]\n",
    "}\n",
    "\n",
    "dataset = pd.DataFrame(data)\n",
    "cov_matrix = dataset.cov()\n",
    "\n",
    "print(cov_matrix)\n"
   ]
  },
  {
   "cell_type": "markdown",
   "id": "21376bd0-c5c6-4b08-a77e-1056039ea108",
   "metadata": {},
   "source": [
    "## Q6. You are working on a machine learning project with a dataset containing several categorical variables, including \"Gender\" (Male/Female), \"Education Level\" (High School/Bachelor's/Master's/PhD),and \"Employment Status\" (Unemployed/Part-Time/Full-Time). Which encoding method would you use foreach variable, and why?"
   ]
  },
  {
   "cell_type": "markdown",
   "id": "a888edad-7304-48c7-9a10-7573a2e3d4bf",
   "metadata": {},
   "source": [
    "Binary Encoding for the Gender feature which will assign 0 to one value and 1 to the another.\n",
    "\n",
    "Ordinal Encoding to the feature 'Education Level' that will assign the rank to each category.\n",
    "\n",
    "and lebal encoding to the feature 'Employee Status'."
   ]
  },
  {
   "cell_type": "markdown",
   "id": "6aafb140-4603-4070-8ee7-5c9ec8390c41",
   "metadata": {},
   "source": [
    "## Q7. You are analyzing a dataset with two continuous variables, \"Temperature\" and \"Humidity\", and two categorical variables, \"Weather Condition\" (Sunny/Cloudy/Rainy) and \"Wind Direction\" (North/South/ East/West). Calculate the covariance between each pair of variables and interpret the results."
   ]
  },
  {
   "cell_type": "code",
   "execution_count": 33,
   "id": "6ede4a57-f970-43c6-8fe0-43fd6e54bc1d",
   "metadata": {},
   "outputs": [],
   "source": [
    "data = {\n",
    "    'temperature': [25, 30, 27, 22, 28, 26, 24, 29, 23, 27],\n",
    "    'humidity': [70, 65, 80, 75, 60, 85, 68, 72, 78, 63],\n",
    "    'weather_condition': ['Sunny', 'Cloudy', 'Rainy', 'Sunny', 'Cloudy', 'Rainy', 'Sunny', 'Cloudy', 'Rainy', 'Sunny'],\n",
    "    'wind_direction': ['North', 'West', 'South', 'East', 'North', 'West', 'East', 'South', 'West', 'North']\n",
    "}\n",
    "\n",
    "weather=pd.DataFrame(data)"
   ]
  },
  {
   "cell_type": "code",
   "execution_count": 49,
   "id": "f27bf039-a92b-4f66-a71c-6a13efea56a1",
   "metadata": {},
   "outputs": [
    {
     "data": {
      "text/html": [
       "<div>\n",
       "<style scoped>\n",
       "    .dataframe tbody tr th:only-of-type {\n",
       "        vertical-align: middle;\n",
       "    }\n",
       "\n",
       "    .dataframe tbody tr th {\n",
       "        vertical-align: top;\n",
       "    }\n",
       "\n",
       "    .dataframe thead th {\n",
       "        text-align: right;\n",
       "    }\n",
       "</style>\n",
       "<table border=\"1\" class=\"dataframe\">\n",
       "  <thead>\n",
       "    <tr style=\"text-align: right;\">\n",
       "      <th></th>\n",
       "      <th>temperature</th>\n",
       "      <th>humidity</th>\n",
       "      <th>weather_condition</th>\n",
       "      <th>wind_direction</th>\n",
       "    </tr>\n",
       "  </thead>\n",
       "  <tbody>\n",
       "    <tr>\n",
       "      <th>0</th>\n",
       "      <td>25</td>\n",
       "      <td>70</td>\n",
       "      <td>Sunny</td>\n",
       "      <td>North</td>\n",
       "    </tr>\n",
       "    <tr>\n",
       "      <th>1</th>\n",
       "      <td>30</td>\n",
       "      <td>65</td>\n",
       "      <td>Cloudy</td>\n",
       "      <td>West</td>\n",
       "    </tr>\n",
       "    <tr>\n",
       "      <th>2</th>\n",
       "      <td>27</td>\n",
       "      <td>80</td>\n",
       "      <td>Rainy</td>\n",
       "      <td>South</td>\n",
       "    </tr>\n",
       "    <tr>\n",
       "      <th>3</th>\n",
       "      <td>22</td>\n",
       "      <td>75</td>\n",
       "      <td>Sunny</td>\n",
       "      <td>East</td>\n",
       "    </tr>\n",
       "    <tr>\n",
       "      <th>4</th>\n",
       "      <td>28</td>\n",
       "      <td>60</td>\n",
       "      <td>Cloudy</td>\n",
       "      <td>North</td>\n",
       "    </tr>\n",
       "    <tr>\n",
       "      <th>5</th>\n",
       "      <td>26</td>\n",
       "      <td>85</td>\n",
       "      <td>Rainy</td>\n",
       "      <td>West</td>\n",
       "    </tr>\n",
       "    <tr>\n",
       "      <th>6</th>\n",
       "      <td>24</td>\n",
       "      <td>68</td>\n",
       "      <td>Sunny</td>\n",
       "      <td>East</td>\n",
       "    </tr>\n",
       "    <tr>\n",
       "      <th>7</th>\n",
       "      <td>29</td>\n",
       "      <td>72</td>\n",
       "      <td>Cloudy</td>\n",
       "      <td>South</td>\n",
       "    </tr>\n",
       "    <tr>\n",
       "      <th>8</th>\n",
       "      <td>23</td>\n",
       "      <td>78</td>\n",
       "      <td>Rainy</td>\n",
       "      <td>West</td>\n",
       "    </tr>\n",
       "    <tr>\n",
       "      <th>9</th>\n",
       "      <td>27</td>\n",
       "      <td>63</td>\n",
       "      <td>Sunny</td>\n",
       "      <td>North</td>\n",
       "    </tr>\n",
       "  </tbody>\n",
       "</table>\n",
       "</div>"
      ],
      "text/plain": [
       "   temperature  humidity weather_condition wind_direction\n",
       "0           25        70             Sunny          North\n",
       "1           30        65            Cloudy           West\n",
       "2           27        80             Rainy          South\n",
       "3           22        75             Sunny           East\n",
       "4           28        60            Cloudy          North\n",
       "5           26        85             Rainy           West\n",
       "6           24        68             Sunny           East\n",
       "7           29        72            Cloudy          South\n",
       "8           23        78             Rainy           West\n",
       "9           27        63             Sunny          North"
      ]
     },
     "execution_count": 49,
     "metadata": {},
     "output_type": "execute_result"
    }
   ],
   "source": [
    "weather"
   ]
  },
  {
   "cell_type": "code",
   "execution_count": 64,
   "id": "ae72573f-31a8-4b24-b0f0-a0b9de11e19c",
   "metadata": {},
   "outputs": [
    {
     "name": "stderr",
     "output_type": "stream",
     "text": [
      "/tmp/ipykernel_77/479002884.py:1: FutureWarning: The default value of numeric_only in DataFrame.cov is deprecated. In a future version, it will default to False. Select only valid columns or specify the value of numeric_only to silence this warning.\n",
      "  weather.cov()\n"
     ]
    },
    {
     "data": {
      "text/html": [
       "<div>\n",
       "<style scoped>\n",
       "    .dataframe tbody tr th:only-of-type {\n",
       "        vertical-align: middle;\n",
       "    }\n",
       "\n",
       "    .dataframe tbody tr th {\n",
       "        vertical-align: top;\n",
       "    }\n",
       "\n",
       "    .dataframe thead th {\n",
       "        text-align: right;\n",
       "    }\n",
       "</style>\n",
       "<table border=\"1\" class=\"dataframe\">\n",
       "  <thead>\n",
       "    <tr style=\"text-align: right;\">\n",
       "      <th></th>\n",
       "      <th>temperature</th>\n",
       "      <th>humidity</th>\n",
       "    </tr>\n",
       "  </thead>\n",
       "  <tbody>\n",
       "    <tr>\n",
       "      <th>temperature</th>\n",
       "      <td>6.766667</td>\n",
       "      <td>-8.066667</td>\n",
       "    </tr>\n",
       "    <tr>\n",
       "      <th>humidity</th>\n",
       "      <td>-8.066667</td>\n",
       "      <td>63.377778</td>\n",
       "    </tr>\n",
       "  </tbody>\n",
       "</table>\n",
       "</div>"
      ],
      "text/plain": [
       "             temperature   humidity\n",
       "temperature     6.766667  -8.066667\n",
       "humidity       -8.066667  63.377778"
      ]
     },
     "execution_count": 64,
     "metadata": {},
     "output_type": "execute_result"
    }
   ],
   "source": [
    "weather.cov()"
   ]
  },
  {
   "cell_type": "markdown",
   "id": "9d20a0a7-8a2b-4a46-8c5f-3d3c5564ceee",
   "metadata": {},
   "source": [
    "1. the covarience between 'temparature' with itself represents the varience of the temprature and same for the humidity\n",
    "2. the covarience between 'temparature' and 'humidity' is -8.066 that represents the negative covarience that mean as the temparature increases level of humadity decreases.\n",
    "This interpretation represents the inverse relationship between 'Temperature' and 'Humidity'"
   ]
  },
  {
   "cell_type": "code",
   "execution_count": null,
   "id": "1190a2a5-77ef-431b-a2c1-6c1d16c89721",
   "metadata": {},
   "outputs": [],
   "source": []
  }
 ],
 "metadata": {
  "kernelspec": {
   "display_name": "Python 3 (ipykernel)",
   "language": "python",
   "name": "python3"
  },
  "language_info": {
   "codemirror_mode": {
    "name": "ipython",
    "version": 3
   },
   "file_extension": ".py",
   "mimetype": "text/x-python",
   "name": "python",
   "nbconvert_exporter": "python",
   "pygments_lexer": "ipython3",
   "version": "3.10.8"
  }
 },
 "nbformat": 4,
 "nbformat_minor": 5
}
