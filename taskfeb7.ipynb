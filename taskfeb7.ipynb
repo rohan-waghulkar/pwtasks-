{
 "cells": [
  {
   "cell_type": "markdown",
   "id": "21e9fce4-79e5-4209-80bd-c6ef194ad5d9",
   "metadata": {},
   "source": [
    "## Q1. You are writing code for a company. The requirement of the company is that you create a python\n",
    "function that will check whether the password entered by the user is correct or not. The function should\n",
    "take the password as input and return the string “Valid Password” if the entered password follows the\n",
    "below-given password guidelines else it should return “Invalid Password”.\n",
    "Note: 1. The Password should contain at least two uppercase letters and at least two lowercase letters.\n",
    "2. The Password should contain at least a number and three special characters.\n",
    "3. The length of the password should be 10 characters long."
   ]
  },
  {
   "cell_type": "code",
   "execution_count": 13,
   "id": "88d806b8-6823-4f05-a9e1-d54eb75bc1b8",
   "metadata": {},
   "outputs": [],
   "source": [
    "def checkpassword(str1):\n",
    "    if len(str1)!=10:\n",
    "        return 'Invalid Password'\n",
    "    specialchar={'!','@','#','$','%','^','&','*',}\n",
    "    schar,upcase,lowcase,hasint=0,0,0,0\n",
    "    for i in str1:\n",
    "        if i.islower():\n",
    "            lowcase+=1\n",
    "        elif i.isupper():\n",
    "            upcase+=1\n",
    "        elif i.isdigit():\n",
    "            hasint+=1\n",
    "        elif i in specialchar:\n",
    "            schar+=1\n",
    "    if upcase>=2 and lowcase>=2 and hasint>=1 and schar==3 :\n",
    "        return \"Valid Password\"\n",
    "    else:\n",
    "        return \"Invalid Password\"\n",
    "        "
   ]
  },
  {
   "cell_type": "code",
   "execution_count": 17,
   "id": "00d90e4e-f1ac-415e-9558-57f4ead69366",
   "metadata": {},
   "outputs": [
    {
     "data": {
      "text/plain": [
       "'Valid Password'"
      ]
     },
     "execution_count": 17,
     "metadata": {},
     "output_type": "execute_result"
    }
   ],
   "source": [
    "checkpassword('R@g$#1waGh')"
   ]
  },
  {
   "cell_type": "markdown",
   "id": "32441344-8d15-457d-9090-c97d2615701f",
   "metadata": {},
   "source": [
    "#Q2. Solve the below-given questions using at least one of the following:\n",
    "1. Lambda function\n",
    "2. Filter functin\n",
    "3. Map function\n",
    "4. List Comprehension"
   ]
  },
  {
   "cell_type": "markdown",
   "id": "c6e61a71-a152-4902-9a5e-6ba4cec9a77b",
   "metadata": {},
   "source": [
    "##Check if the string starts with a particular letter."
   ]
  },
  {
   "cell_type": "code",
   "execution_count": 25,
   "id": "f58c6abd-afa4-4354-8fb1-becc31ff90ec",
   "metadata": {},
   "outputs": [],
   "source": [
    "a=lambda str1,char:str1[0]==char"
   ]
  },
  {
   "cell_type": "code",
   "execution_count": 26,
   "id": "67929e44-9578-42c5-89c6-dc107cdf59d5",
   "metadata": {},
   "outputs": [
    {
     "data": {
      "text/plain": [
       "True"
      ]
     },
     "execution_count": 26,
     "metadata": {},
     "output_type": "execute_result"
    }
   ],
   "source": [
    "a('pwskills','p')"
   ]
  },
  {
   "cell_type": "markdown",
   "id": "62a9ac3e-16d2-4677-b68a-c45e79a7e447",
   "metadata": {},
   "source": [
    "## check if the string is numeric"
   ]
  },
  {
   "cell_type": "code",
   "execution_count": 27,
   "id": "40d7840e-63d1-4da6-8801-a4bdaa30dfe5",
   "metadata": {},
   "outputs": [],
   "source": [
    "a=lambda str1: str1.isnumeric()"
   ]
  },
  {
   "cell_type": "code",
   "execution_count": 28,
   "id": "e6bb0e21-72aa-4fe2-ba54-f27b260e0d25",
   "metadata": {},
   "outputs": [
    {
     "data": {
      "text/plain": [
       "True"
      ]
     },
     "execution_count": 28,
     "metadata": {},
     "output_type": "execute_result"
    }
   ],
   "source": [
    "a('123')"
   ]
  },
  {
   "cell_type": "markdown",
   "id": "9f3ca772-af6d-453b-af65-45018b67ff5d",
   "metadata": {},
   "source": [
    "### Sort a list of tuples having fruit names and their quantity. [(\"mango\",99),(\"orange\",80), (\"grapes\", 1000)-"
   ]
  },
  {
   "cell_type": "code",
   "execution_count": 2,
   "id": "1144a192-8600-4ad0-82be-54d8aced0352",
   "metadata": {},
   "outputs": [],
   "source": [
    "l=[(\"mango\",99),(\"orange\",80), (\"grapes\", 1000)]"
   ]
  },
  {
   "cell_type": "code",
   "execution_count": 3,
   "id": "21fb9baa-b54a-419b-a9d2-1b2483b80748",
   "metadata": {},
   "outputs": [
    {
     "name": "stdout",
     "output_type": "stream",
     "text": [
      "[('orange', 80), ('mango', 99), ('grapes', 1000)]\n"
     ]
    }
   ],
   "source": [
    "l2=sorted(l,key=lambda x:x[1])\n",
    "print(l2)"
   ]
  },
  {
   "cell_type": "markdown",
   "id": "a3c9e040-0181-46a5-b5fd-b1d6da77e470",
   "metadata": {},
   "source": []
  },
  {
   "cell_type": "markdown",
   "id": "6c471c3e-6463-411c-a2b7-146bf98413c7",
   "metadata": {},
   "source": [
    "## Find the squares of numbers from 1 to 10"
   ]
  },
  {
   "cell_type": "code",
   "execution_count": 26,
   "id": "888487fb-47f4-42a1-bb01-34bbb0070f1f",
   "metadata": {},
   "outputs": [],
   "source": [
    "l2=[i for i in range(1,11)] \n",
    "l2=list(map(lambda x:x**2,l2))"
   ]
  },
  {
   "cell_type": "code",
   "execution_count": 27,
   "id": "12dfdaa8-7cba-453e-9cb0-80dba54adbfd",
   "metadata": {},
   "outputs": [
    {
     "data": {
      "text/plain": [
       "[1, 4, 9, 16, 25, 36, 49, 64, 81, 100]"
      ]
     },
     "execution_count": 27,
     "metadata": {},
     "output_type": "execute_result"
    }
   ],
   "source": [
    "l2"
   ]
  },
  {
   "cell_type": "markdown",
   "id": "9f04c899-5fdc-49e3-b699-cf99d27a93b6",
   "metadata": {},
   "source": [
    "## Find the cube root of numbers from 1 to 10"
   ]
  },
  {
   "cell_type": "code",
   "execution_count": 37,
   "id": "0b5e414e-3996-41a9-a9ef-8a77388d84b5",
   "metadata": {},
   "outputs": [],
   "source": [
    "import math\n",
    "l3=[ i for i in range(1,11)]\n",
    "croot=list(map(lambda x:pow(x,1/3),l3))"
   ]
  },
  {
   "cell_type": "code",
   "execution_count": 38,
   "id": "944d5641-0510-47d3-85b1-d46c73aaac63",
   "metadata": {},
   "outputs": [
    {
     "data": {
      "text/plain": [
       "[1.0,\n",
       " 1.2599210498948732,\n",
       " 1.4422495703074083,\n",
       " 1.5874010519681994,\n",
       " 1.7099759466766968,\n",
       " 1.8171205928321397,\n",
       " 1.912931182772389,\n",
       " 2.0,\n",
       " 2.080083823051904,\n",
       " 2.154434690031884]"
      ]
     },
     "execution_count": 38,
     "metadata": {},
     "output_type": "execute_result"
    }
   ],
   "source": [
    "croot"
   ]
  },
  {
   "cell_type": "code",
   "execution_count": 36,
   "id": "3cb09fcc-da09-48f4-a1ba-a50ed55d70fa",
   "metadata": {},
   "outputs": [
    {
     "data": {
      "text/plain": [
       "2.0"
      ]
     },
     "execution_count": 36,
     "metadata": {},
     "output_type": "execute_result"
    }
   ],
   "source": [
    "pow(8,1/3)"
   ]
  },
  {
   "cell_type": "markdown",
   "id": "6efc411b-ef31-45ed-a0e2-4f67bcd04071",
   "metadata": {},
   "source": [
    "## Check if a given number is even"
   ]
  },
  {
   "cell_type": "code",
   "execution_count": 42,
   "id": "f634f17c-7ded-45dd-9765-cfbe55a4d049",
   "metadata": {},
   "outputs": [],
   "source": [
    "iseven=lambda x: x%2==0"
   ]
  },
  {
   "cell_type": "code",
   "execution_count": 43,
   "id": "fa45e1fc-fe48-4f37-a260-537de5738c6f",
   "metadata": {},
   "outputs": [
    {
     "data": {
      "text/plain": [
       "True"
      ]
     },
     "execution_count": 43,
     "metadata": {},
     "output_type": "execute_result"
    }
   ],
   "source": [
    "iseven(10)"
   ]
  },
  {
   "cell_type": "markdown",
   "id": "7f9250d3-f414-4beb-ad7b-f8778e3c5460",
   "metadata": {},
   "source": [
    "## Filter odd numbers from the given list.[1,2,3,4,5,6,7,8,9,10]"
   ]
  },
  {
   "cell_type": "code",
   "execution_count": 46,
   "id": "52bf03c6-6418-40cf-8730-7cb3eec67b92",
   "metadata": {},
   "outputs": [],
   "source": [
    "l4=[i for i in range(1,11)]\n",
    "l4=list(filter(lambda x:x%2!=0,l4))"
   ]
  },
  {
   "cell_type": "code",
   "execution_count": 47,
   "id": "1d17d974-fd73-4e89-aceb-f90e3d0bdfd3",
   "metadata": {},
   "outputs": [
    {
     "data": {
      "text/plain": [
       "[1, 3, 5, 7, 9]"
      ]
     },
     "execution_count": 47,
     "metadata": {},
     "output_type": "execute_result"
    }
   ],
   "source": [
    "l4"
   ]
  },
  {
   "cell_type": "markdown",
   "id": "eeafa25e-2ebe-459a-b3c7-7b3386fe134d",
   "metadata": {},
   "source": [
    "##  Sort a list of integers into positive and negative integers lists. [1,2,3,4,5,6,-1,-2,-3,-4,-5,0]"
   ]
  },
  {
   "cell_type": "code",
   "execution_count": 57,
   "id": "f7405192-b573-40c3-b820-85b13c89577d",
   "metadata": {},
   "outputs": [],
   "source": [
    "l5=[1,2,3,4,5,6,-1,-2,-3,-4,-5,0]\n",
    "l6=list(sorted(fil(lambda x:x if x>0 else 0,l5)))\n",
    "l7=list(sorted(map(lambda x:x if x<0 else 0,l5)))"
   ]
  },
  {
   "cell_type": "code",
   "execution_count": 58,
   "id": "635d2b32-32ec-41b3-94cc-766d5066b947",
   "metadata": {},
   "outputs": [
    {
     "name": "stdout",
     "output_type": "stream",
     "text": [
      "[0, 0, 0, 0, 0, 0, 1, 2, 3, 4, 5, 6]\n",
      "[-5, -4, -3, -2, -1, 0, 0, 0, 0, 0, 0, 0]\n"
     ]
    }
   ],
   "source": [
    "print(l6)\n",
    "print(l7)"
   ]
  },
  {
   "cell_type": "code",
   "execution_count": null,
   "id": "bdadc5dc-00aa-49c5-bcfc-4bac2345d76f",
   "metadata": {},
   "outputs": [],
   "source": [
    "from functools import re"
   ]
  }
 ],
 "metadata": {
  "kernelspec": {
   "display_name": "Python 3 (ipykernel)",
   "language": "python",
   "name": "python3"
  },
  "language_info": {
   "codemirror_mode": {
    "name": "ipython",
    "version": 3
   },
   "file_extension": ".py",
   "mimetype": "text/x-python",
   "name": "python",
   "nbconvert_exporter": "python",
   "pygments_lexer": "ipython3",
   "version": "3.10.8"
  }
 },
 "nbformat": 4,
 "nbformat_minor": 5
}
