{
 "cells": [
  {
   "cell_type": "markdown",
   "id": "33e767a7-a621-4db2-805a-fe6e48d9cae3",
   "metadata": {},
   "source": [
    "## Q1. What are the three measures of central tendency?"
   ]
  },
  {
   "cell_type": "markdown",
   "id": "72f9642c-0dcd-4ff8-84dc-119c1eae59cf",
   "metadata": {},
   "source": [
    "The three measure of central tendancy are :\n",
    "1. Mean\n",
    "2. Median \n",
    "3. Mode"
   ]
  },
  {
   "cell_type": "markdown",
   "id": "fe304408-0269-49b3-ab68-f92d4f3b9b94",
   "metadata": {},
   "source": [
    "## Q2. What is the difference between the mean, median, and mode? How are they used to measure the central tendency of a dataset?"
   ]
  },
  {
   "cell_type": "markdown",
   "id": "c1be9041-93de-408f-84d4-933578a42c06",
   "metadata": {},
   "source": [
    "1. Mean : Mean is a average of the dataset, it is calculated by adding all values of dataset divided by total no.of values in dataset.The mean is used to discribe central tendancy of normally distributed data.\n",
    "2. Median : Median is a middle value of an dataset that is  arranged in order.It is less sensitive to extreme values than the mean, and it is a good measure of central tendency when a dataset has outliers or is skewed. \n",
    "3. Mode : Mode is the most repeated value in dataset.It is useful for describing the central tendency of categorical or nominal data.\n",
    "\n",
    "All three measures of central tendency are used to describe the typical value or average of a dataset. The choice of which measure to use depends on the nature of the data and the research question being asked. For normally distributed data, the mean is often used as the measure of central tendency. For skewed data or data with outliers, the median is often used. For categorical or nominal data, the mode is often used."
   ]
  },
  {
   "cell_type": "markdown",
   "id": "b4813763-2a31-4847-a550-bc5ca2c9f05b",
   "metadata": {},
   "source": [
    "## Q3. Measure the three measures of central tendency for the given height data:"
   ]
  },
  {
   "cell_type": "code",
   "execution_count": 1,
   "id": "520694ac-f181-43a0-8bff-ee5d2652b540",
   "metadata": {},
   "outputs": [],
   "source": [
    "set1=[178,177,176,177,178.2,178,175,179,180,175,178.9,176.2,177,172.5,178,176.5]"
   ]
  },
  {
   "cell_type": "code",
   "execution_count": 2,
   "id": "b2c78d37-476a-4c05-a43f-3906b98c2d44",
   "metadata": {},
   "outputs": [],
   "source": [
    "import numpy as np"
   ]
  },
  {
   "cell_type": "code",
   "execution_count": 4,
   "id": "568bfde6-d4ed-470c-96b9-837dedded8ff",
   "metadata": {},
   "outputs": [
    {
     "data": {
      "text/plain": [
       "177.01875"
      ]
     },
     "execution_count": 4,
     "metadata": {},
     "output_type": "execute_result"
    }
   ],
   "source": [
    "#Mean \n",
    "np.mean(set1)"
   ]
  },
  {
   "cell_type": "code",
   "execution_count": 6,
   "id": "386281f8-ebbe-4c45-a4cf-e5b28becf18c",
   "metadata": {},
   "outputs": [
    {
     "data": {
      "text/plain": [
       "177.0"
      ]
     },
     "execution_count": 6,
     "metadata": {},
     "output_type": "execute_result"
    }
   ],
   "source": [
    "#Median\n",
    "np.median(set1)"
   ]
  },
  {
   "cell_type": "code",
   "execution_count": 11,
   "id": "61426a32-48db-4ecb-b29b-23246a5bb1c7",
   "metadata": {},
   "outputs": [
    {
     "name": "stderr",
     "output_type": "stream",
     "text": [
      "/tmp/ipykernel_77/2485392896.py:3: FutureWarning: Unlike other reduction functions (e.g. `skew`, `kurtosis`), the default behavior of `mode` typically preserves the axis it acts along. In SciPy 1.11.0, this behavior will change: the default value of `keepdims` will become False, the `axis` over which the statistic is taken will be eliminated, and the value None will no longer be accepted. Set `keepdims` to True or False to avoid this warning.\n",
      "  stats.mode(set1)\n"
     ]
    },
    {
     "data": {
      "text/plain": [
       "ModeResult(mode=array([177.]), count=array([3]))"
      ]
     },
     "execution_count": 11,
     "metadata": {},
     "output_type": "execute_result"
    }
   ],
   "source": [
    "#Mode\n",
    "from scipy import stats\n",
    "stats.mode(set1)"
   ]
  },
  {
   "cell_type": "markdown",
   "id": "ce5a8f6b-c39d-431d-ba7c-26bf789a8220",
   "metadata": {},
   "source": [
    "## Q4. Find the standard deviation for the given data:\n"
   ]
  },
  {
   "cell_type": "code",
   "execution_count": 12,
   "id": "43f0327f-2707-4eac-a75c-5ba486b21590",
   "metadata": {},
   "outputs": [],
   "source": [
    "set2=[178,177,176,177,178.2,178,175,179,180,175,178.9,176.2,177,172.5,178,176.5]"
   ]
  },
  {
   "cell_type": "code",
   "execution_count": 13,
   "id": "d9c31524-714a-4ef7-a25f-874a296e1985",
   "metadata": {},
   "outputs": [
    {
     "data": {
      "text/plain": [
       "1.7885814036548633"
      ]
     },
     "execution_count": 13,
     "metadata": {},
     "output_type": "execute_result"
    }
   ],
   "source": [
    "np.std(set2) \n"
   ]
  },
  {
   "cell_type": "markdown",
   "id": "5b7644c4-4390-49d5-8384-1942565c9b8f",
   "metadata": {},
   "source": [
    "## Q5. How are measures of dispersion such as range, variance, and standard deviation used to describe the spread of a dataset? Provide an example."
   ]
  },
  {
   "cell_type": "markdown",
   "id": "03ecca60-546f-44e1-825b-5308fbb99164",
   "metadata": {},
   "source": [
    "1. Range: The range is the difference between the maximum and minimum values in a dataset. It gives an indication of the spread of the data, but it can be affected by extreme values.\n",
    "\n",
    "2. Variance: The variance is a measure of how much the values in a dataset deviate from the mean. It is calculated by taking the average of the squared differences between each value and the mean. The variance gives an indication of the spread of the data, with higher variance indicating more variability.\n",
    "\n",
    "3. Standard deviation: The standard deviation is the square root of the variance. It is a more commonly used measure of dispersion than variance, as it is in the same units as the data. The standard deviation gives an indication of how much the values in a dataset deviate from the mean, with higher standard deviation indicating more variability.\n",
    "\n",
    "80, 85, 90, 75, 95, 70, 88, 92, 86, 89.\n",
    "\n",
    "The mean of this dataset is (80+85+90+75+95+70+88+92+86+89)/10 = 85.\n",
    "\n",
    "The range is 95-70 = 25.\n",
    "\n",
    "The variance is 63.6.\n",
    "\n",
    "The standard deviation is the square root of the variance, which is sqrt(63.6) = 7.98.\n",
    "\n",
    "These measures of dispersion provide additional information about the spread of the data beyond the mean score of 85. For example, the range of 25 indicates that the lowest and highest scores are quite far apart, while the variance and standard deviation indicate that there is some variability in the scores around the mean of 85."
   ]
  },
  {
   "cell_type": "markdown",
   "id": "44f24c64-6cab-4a22-83bb-629926677358",
   "metadata": {},
   "source": [
    "## Q6. What is a Venn diagram?"
   ]
  },
  {
   "cell_type": "markdown",
   "id": "354f4484-c00e-4e36-8082-ac36b9119fc7",
   "metadata": {},
   "source": [
    "The venn diagram is a diagram the show the relationship between finite collection of different sets.\n",
    "\n",
    "It can also dicribe the union, intersection, subset etc of two or more sets."
   ]
  },
  {
   "cell_type": "markdown",
   "id": "ead002d0-78cb-432e-b1b2-598b69202318",
   "metadata": {},
   "source": [
    "## Q7. For the two given sets A = (2,3,4,5,6,7) & B = (0,2,6,8,10). Find:\n",
    "(i) A ∩ B\n",
    "\n",
    "(ii) A ⋃ B"
   ]
  },
  {
   "cell_type": "markdown",
   "id": "388b76b6-d44d-42ef-9267-0f6507d8309f",
   "metadata": {},
   "source": [
    "A ∩ b={2,6}\n",
    "\n",
    "\n",
    "A ⋃ B={0,2,3,4,5,6,7,8,10}"
   ]
  },
  {
   "cell_type": "markdown",
   "id": "eeff1bf5-6073-449f-81f2-00d7b33f69f5",
   "metadata": {},
   "source": [
    "## Q8. What do you understand about skewness in data?"
   ]
  },
  {
   "cell_type": "markdown",
   "id": "ede11643-4f12-4454-99cc-ce86857cf662",
   "metadata": {},
   "source": [
    "Skewness in data refers to the degree of asymmetry in the distribution of values within a dataset.\n",
    "A perfectly symmetrical dataset has zero skewness, meaning that the distribution is evenly balanced around the mean value.\n",
    "\n",
    "if the dataset is skewed, it indicates that the distribution of values is not symmetric\n",
    "\n",
    "Skewness is divided into two types \n",
    "1. positive skewness : it occurs when the distribution has longer tail to the rigth side. \n",
    "2. nigative skewness : it occurs when the distribution has longer tail ton the left side."
   ]
  },
  {
   "cell_type": "markdown",
   "id": "b72e70d4-5147-49e5-ac75-a92cf25bb514",
   "metadata": {},
   "source": [
    "## Q9. If a data is right skewed then what will be the position of median with respect to mean?"
   ]
  },
  {
   "cell_type": "markdown",
   "id": "780b1cdb-1dfe-49b7-a5a3-27b28f0c64a8",
   "metadata": {},
   "source": [
    "the median will be at left side of the mean because the mean has affected or sifted towards the left due to the extreme value not the median "
   ]
  },
  {
   "cell_type": "markdown",
   "id": "dab4b9ac-d20d-417d-a19c-6c6712c8fa80",
   "metadata": {},
   "source": [
    "## Q10. Explain the difference between covariance and correlation. How are these measures used in statistical analysis?"
   ]
  },
  {
   "cell_type": "markdown",
   "id": "d5f63cb8-8d90-48bf-ab99-7467909782a7",
   "metadata": {},
   "source": [
    " both covariance and correlation are used to understand the relationship between two variables. Covariance can help identify variables that are likely to be related to each other, but it does not provide a clear indication of the strength or direction of the relationship. Correlation, on the other hand, provides a standardized measure of the strength and direction of the relationship between two variables, making it a useful tool for comparing relationships across different datasets."
   ]
  },
  {
   "cell_type": "markdown",
   "id": "2d22064c-6269-4dee-9188-27c6980f5d96",
   "metadata": {},
   "source": [
    "## Q11. What is the formula for calculating the sample mean? Provide an example calculation for a dataset."
   ]
  },
  {
   "cell_type": "markdown",
   "id": "94a6558c-a6e7-4377-8b8a-2525804430eb",
   "metadata": {},
   "source": [
    "to calculating the mean we have formula : \n",
    "sum of total values divided by total no.of values.\n",
    "\n",
    "let [23,32,11,32,22,11] be the data set \n",
    "\n",
    "mean =(sum of all observations in the sample) / (number of observations in the sample)\n",
    "\n",
    "mean=131/6\n",
    "\n",
    "mean=21.83333333333333"
   ]
  },
  {
   "cell_type": "markdown",
   "id": "2cb1f039-d49b-4ef8-a664-a3358ffa4639",
   "metadata": {},
   "source": [
    "## Q12. For a normal distribution data what is the relationship between its measure of central tendency?"
   ]
  },
  {
   "cell_type": "markdown",
   "id": "b0736d84-f46a-40ce-9b24-a80524d672f5",
   "metadata": {},
   "source": [
    "for the normal distribution the measure of central tendancy i.e mean,median and mode are equal. this is also known as symmetric distribution"
   ]
  },
  {
   "cell_type": "markdown",
   "id": "84cb009f-9104-4af0-92a1-64dd920392a9",
   "metadata": {},
   "source": [
    "## Q13. How is covariance different from correlation?"
   ]
  },
  {
   "cell_type": "markdown",
   "id": "4f4752cb-32b3-46a1-aef8-2564852e70cb",
   "metadata": {},
   "source": [
    "covariance measures the joint variability of two variables, while correlation measures the strength and direction of the linear relationship between two variables. Correlation is a standardized measure of covariance that is more useful for comparing the strength of the relationship between two variables across different datasets "
   ]
  },
  {
   "cell_type": "markdown",
   "id": "739946cb-907e-4a44-a222-eace4cb01b78",
   "metadata": {},
   "source": [
    "## Q14. How do outliers affect measures of central tendency and dispersion? Provide an example."
   ]
  },
  {
   "cell_type": "markdown",
   "id": "5982f3c6-8e0e-4d78-8494-fe0c4934289a",
   "metadata": {},
   "source": [
    "an outliers takes away from other data making it unreliable measure of central tendancy.as median is a central value it is not affected or less affectd by the outliers.\n",
    "\n",
    "in case of measure of dispersion, the range is highly affected by the outliers as it is a difference between highest and lowest value in dataset it makes huge difference.\n",
    "\n",
    "The standard deviation is also affected by outliers, as it is a measure of how much the values in a dataset deviate from the mean. If there is an outlier that is significantly higher or lower than the other values, it can increase the standard deviation and make it an unreliable measure of dispersion.\n",
    "\n",
    "For example,The salaries range from $30,000 to $120,000, with most of the salaries clustered around $60,000.However, there is one employee who earns $1,000,000 . This outlier will significantly affect the mean salary, pulling it away from the rest of the data and making it an unreliable measure of central tendency. The median, on the other hand, will be less affected by the outlier, as it is simply the middle value in the dataset. The range and standard deviation will also be affected by the outlier, as they are measures of dispersion that are sensitive to extreme values in a dataset."
   ]
  },
  {
   "cell_type": "code",
   "execution_count": null,
   "id": "c02f2b57-7ec2-4d7a-842e-9177b6965bf8",
   "metadata": {},
   "outputs": [],
   "source": []
  }
 ],
 "metadata": {
  "kernelspec": {
   "display_name": "Python 3 (ipykernel)",
   "language": "python",
   "name": "python3"
  },
  "language_info": {
   "codemirror_mode": {
    "name": "ipython",
    "version": 3
   },
   "file_extension": ".py",
   "mimetype": "text/x-python",
   "name": "python",
   "nbconvert_exporter": "python",
   "pygments_lexer": "ipython3",
   "version": "3.10.8"
  }
 },
 "nbformat": 4,
 "nbformat_minor": 5
}
