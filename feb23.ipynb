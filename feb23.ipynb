{
 "cells": [
  {
   "cell_type": "markdown",
   "id": "3c095106-f61a-48ce-8e53-47568b0070a3",
   "metadata": {},
   "source": [
    "## Q1. Create a Pandas Series that contains the following data: 4, 8, 15, 16, 23, and 42. Then, print the series."
   ]
  },
  {
   "cell_type": "code",
   "execution_count": 1,
   "id": "dccf6c43-82f5-4cf1-9ddc-eb0122a44e3a",
   "metadata": {},
   "outputs": [],
   "source": [
    "import pandas as pd"
   ]
  },
  {
   "cell_type": "code",
   "execution_count": 3,
   "id": "9777d808-5e14-4159-8296-0b8eaf91a703",
   "metadata": {},
   "outputs": [],
   "source": [
    "ser1=pd.Series([1,2,3,4,5,6])"
   ]
  },
  {
   "cell_type": "code",
   "execution_count": 4,
   "id": "f0d43f90-b3b8-4e0d-90ee-55a91d54a8df",
   "metadata": {},
   "outputs": [
    {
     "name": "stdout",
     "output_type": "stream",
     "text": [
      "0    1\n",
      "1    2\n",
      "2    3\n",
      "3    4\n",
      "4    5\n",
      "5    6\n",
      "dtype: int64\n"
     ]
    }
   ],
   "source": [
    "print(ser1)"
   ]
  },
  {
   "cell_type": "markdown",
   "id": "b44e02f3-882a-49b3-9787-2b6cd56f8278",
   "metadata": {},
   "source": [
    "## Q2. Create a variable of list type containing 10 elements in it, and apply pandas.Series function on the variable print it."
   ]
  },
  {
   "cell_type": "code",
   "execution_count": 9,
   "id": "eebd1543-9d52-48fe-b2f1-4c55686a5b26",
   "metadata": {},
   "outputs": [],
   "source": [
    "lst=[i for i in range(11)]"
   ]
  },
  {
   "cell_type": "code",
   "execution_count": 11,
   "id": "8eb613f0-5e50-4dfb-8135-0f300f805679",
   "metadata": {},
   "outputs": [
    {
     "name": "stdout",
     "output_type": "stream",
     "text": [
      "0      0\n",
      "1      1\n",
      "2      2\n",
      "3      3\n",
      "4      4\n",
      "5      5\n",
      "6      6\n",
      "7      7\n",
      "8      8\n",
      "9      9\n",
      "10    10\n",
      "dtype: int64\n"
     ]
    }
   ],
   "source": [
    "print(pd.Series(lst))"
   ]
  },
  {
   "cell_type": "markdown",
   "id": "a3bef246-1321-4c58-aa68-2306f11fd881",
   "metadata": {},
   "source": [
    "## Q3. Create a Pandas DataFrame that contains the following data:"
   ]
  },
  {
   "cell_type": "code",
   "execution_count": 12,
   "id": "2707f126-7ae7-414a-86a8-5f022bdc7d56",
   "metadata": {},
   "outputs": [],
   "source": [
    "data={\"Name\":[\"Alice\",\"Bob\",\"Claire\"],\"Age\":[25,30,27],\"Gender\":[\"Female\",\"Male\",\"Female\"]}"
   ]
  },
  {
   "cell_type": "code",
   "execution_count": 16,
   "id": "54a8eaae-33b1-463d-8277-2a14f5549a61",
   "metadata": {},
   "outputs": [],
   "source": [
    "record=pd.DataFrame(data)"
   ]
  },
  {
   "cell_type": "code",
   "execution_count": 19,
   "id": "027df13c-44a1-4a44-a3d6-422a7a1c9c93",
   "metadata": {},
   "outputs": [
    {
     "name": "stdout",
     "output_type": "stream",
     "text": [
      "  Name  Age Gender\n",
      " Alice   25 Female\n",
      "   Bob   30   Male\n",
      "Claire   27 Female\n"
     ]
    }
   ],
   "source": [
    "print(record.to_string(index=False))"
   ]
  },
  {
   "cell_type": "markdown",
   "id": "6a405be1-7c2a-4a18-ac5f-499e0866937e",
   "metadata": {},
   "source": [
    "## Q4. What is ‘DataFrame’ in pandas and how is it different from pandas.series? Explain with an example."
   ]
  },
  {
   "cell_type": "markdown",
   "id": "df169082-d479-4ec7-bf34-9edd0c23a664",
   "metadata": {},
   "source": [
    "#### A dataframe is a two dimensional structure that consist of row's ans column's,here each column is pandas series and the rows are indexed by a separate index object. \n",
    "#### Whereas we can say series is a one dimesional structure which can store any data type."
   ]
  },
  {
   "cell_type": "markdown",
   "id": "d2a335ff-9ff7-4be5-a9b7-55ec3ae1a2f5",
   "metadata": {},
   "source": [
    "## Q5. What are some common functions you can use to manipulate data in a Pandas DataFrame? Can you give an example of when you might use one of these functions?"
   ]
  },
  {
   "cell_type": "markdown",
   "id": "90fcca6e-4b77-4cab-820e-54a1c3a175a3",
   "metadata": {},
   "source": [
    "#### head() and tail(): These functions are used  to view the first and last n rows of a DataFrame. They can be useful to quickly inspect the data.\n",
    "#### describe(): This function provides statistical information about the data in the DataFrame, such as count, mean, standard deviation, minimum, and maximum values."
   ]
  },
  {
   "cell_type": "code",
   "execution_count": 20,
   "id": "b212fc47-17e9-46c6-88d1-e259dce0f4f2",
   "metadata": {},
   "outputs": [
    {
     "name": "stdout",
     "output_type": "stream",
     "text": [
      "             Age\n",
      "count   3.000000\n",
      "mean   27.333333\n",
      "std     2.516611\n",
      "min    25.000000\n",
      "25%    26.000000\n",
      "50%    27.000000\n",
      "75%    28.500000\n",
      "max    30.000000\n"
     ]
    }
   ],
   "source": [
    "print(record.describe())"
   ]
  },
  {
   "cell_type": "markdown",
   "id": "6c6653de-f876-4f5d-b1ad-b0126aad4257",
   "metadata": {},
   "source": [
    "## Q6. Which of the following is mutable in nature Series, DataFrame, Panel?"
   ]
  },
  {
   "cell_type": "markdown",
   "id": "b6a897ee-72ca-4520-ba70-620d570f6b89",
   "metadata": {},
   "source": [
    "#### Series and DataFrame are muntable in nature i.e we can modify their content "
   ]
  },
  {
   "cell_type": "markdown",
   "id": "c467d62d-aed5-422d-8946-461c059a4489",
   "metadata": {},
   "source": [
    "## Q7. Create a DataFrame using multiple Series. Explain with an example."
   ]
  },
  {
   "cell_type": "code",
   "execution_count": 26,
   "id": "a948d11a-59b7-4235-9f80-d23b8a0d6e2e",
   "metadata": {},
   "outputs": [],
   "source": [
    "name=pd.Series(['Jack','Ross','Ankit','Aman'])\n",
    "country=pd.Series(['England','Australia','india','india'])\n",
    "age=pd.Series([25,32,26,28])\n",
    "record2={\"Name\":name,\"Age\":age,\"Country\":country}"
   ]
  },
  {
   "cell_type": "code",
   "execution_count": 27,
   "id": "28d90a0c-9d0b-4c33-9794-d25a001f8550",
   "metadata": {},
   "outputs": [],
   "source": [
    "recordframe=pd.DataFrame(record2)"
   ]
  },
  {
   "cell_type": "code",
   "execution_count": 28,
   "id": "86062c2f-2a82-4edb-845f-8ebb865d660f",
   "metadata": {},
   "outputs": [
    {
     "name": "stdout",
     "output_type": "stream",
     "text": [
      "    Name  Age    Country\n",
      "0   Jack   25    England\n",
      "1   Ross   32  Australia\n",
      "2  Ankit   26      india\n",
      "3   Aman   28      india\n"
     ]
    }
   ],
   "source": [
    "print(recordframe)"
   ]
  },
  {
   "cell_type": "code",
   "execution_count": null,
   "id": "29463e07-0802-40ac-932b-a7f216fca44a",
   "metadata": {},
   "outputs": [],
   "source": []
  }
 ],
 "metadata": {
  "kernelspec": {
   "display_name": "Python 3 (ipykernel)",
   "language": "python",
   "name": "python3"
  },
  "language_info": {
   "codemirror_mode": {
    "name": "ipython",
    "version": 3
   },
   "file_extension": ".py",
   "mimetype": "text/x-python",
   "name": "python",
   "nbconvert_exporter": "python",
   "pygments_lexer": "ipython3",
   "version": "3.10.8"
  }
 },
 "nbformat": 4,
 "nbformat_minor": 5
}
