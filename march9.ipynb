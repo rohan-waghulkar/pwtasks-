{
 "cells": [
  {
   "cell_type": "markdown",
   "id": "28da54d4-3eb5-4884-a8f9-9e092b2f9111",
   "metadata": {},
   "source": [
    "## Q1: What are the Probability Mass Function (PMF) and Probability Density Function (PDF)? Explain with an example."
   ]
  },
  {
   "cell_type": "markdown",
   "id": "77c84d05-9cad-4e26-886e-ba2f67a89f57",
   "metadata": {},
   "source": [
    "Probability Mass Function:\n",
    "\n",
    "the PMF gives the probability that a discrete random variable X equals a specific value x.\n",
    "example:\n",
    "we have an die with six sides. the possible values the we can get are 1,2,3,4,5 and 6 then the PMF for the random variable is \n",
    "\n",
    "P(X=1)=1/6\n",
    "\n",
    "P(X=2)=1/6\n",
    "\n",
    "P(X=3)=1/6\n",
    "\n",
    "P(X=4)=1/6\n",
    "\n",
    "P(X=5)=1/6\n",
    "\n",
    "P(X=6)=1/6\n",
    "\n",
    "Probability Dinsity Function:\n",
    "\n",
    "PDF is used to discribe the probability distribution of continuous random variable. It gives the probavility density at each point in the range of  the random variable.\n",
    "\n"
   ]
  },
  {
   "cell_type": "markdown",
   "id": "5c145b4b-dcac-4c0c-85ce-970c08a4d937",
   "metadata": {},
   "source": [
    "## Q2: What is Cumulative Density Function (CDF)? Explain with an example. Why CDF is used?"
   ]
  },
  {
   "cell_type": "markdown",
   "id": "7a5c8476-9ba6-47cf-9f5e-e22858a8e89d",
   "metadata": {},
   "source": [
    "Cumulative Density Function discribe the probability of random variable havcing value less than or equal to x.\n",
    "\n",
    "It is defined as F(x)=P(X<=x).\n",
    ". The CDF is used to describe the probability distribution of random variables, whether they are discrete, continuous, or mixed."
   ]
  },
  {
   "cell_type": "markdown",
   "id": "a03cafb5-7517-4ab2-b50c-0a8143773c67",
   "metadata": {},
   "source": [
    "## Q3: What are some examples of situations where the normal distribution might be used as a model? Explain how the parameters of the normal distribution relate to the shape of the distribution."
   ]
  },
  {
   "cell_type": "markdown",
   "id": "75d68e5b-5864-4d53-9f7a-202fbad2e4c2",
   "metadata": {},
   "source": [
    "Some situation where Normal Distribution might be used are:\n",
    "1. Heigth of adult humans\n",
    "2. IQ score of the population \n",
    "3. Amount of rainfall in perticular region.\n",
    "It has to parameter mean and standard deviation\n",
    "\n",
    "the shape of normal distribution is symmetric or bell shape, where most of data points are clustered around the mean. the Standard deviation determines the width of the  distribution : smaller the standard deviation,narrow the distribution.\n",
    "\n",
    "in normal distribution 68% of data points falls in one standerd deviation from the mean.about 95% of data points within two standerd deviation from mean.and about 99.7% of data points fall within three standerd deviation from mean."
   ]
  },
  {
   "cell_type": "markdown",
   "id": "684c295d-aa6e-4dc2-83a8-c62411e8e0b4",
   "metadata": {},
   "source": [
    "## Q4: Explain the importance of Normal Distribution. Give a few real-life examples of Normal Distribution."
   ]
  },
  {
   "cell_type": "markdown",
   "id": "f9ee0062-d16c-43d6-a4e2-2c44fc6acc1e",
   "metadata": {},
   "source": [
    "importance:\n",
    "\n",
    "1. for probability calculations\n",
    "2. hypothesis testing.\n",
    "\n",
    "Examples:\n",
    "\n",
    "Heights and weights of people: In general, the heights and weights of adult humans follow a normal distribution. This means that the majority of people fall within a certain range of heights and weights, with relatively few people falling outside of this range.\n",
    "\n",
    "IQ scores: IQ scores are also known to follow a normal distribution. This means that most people fall within a certain range of IQ scores, with relatively few people falling outside of this range.\n",
    "\n",
    "Test scores: Many standardized tests, such as the SAT and the GRE, are designed to follow a normal distribution. This means that the majority of test takers will score within a certain range, with relatively few people scoring extremely high or extremely low.\n",
    "\n",
    "Stock prices: Stock prices are known to follow a log-normal distribution, which is a type of normal distribution that is used to model phenomena that can take on both positive and negative values. Understanding the normal distribution can help investors better understand the risk associated with different investments."
   ]
  },
  {
   "cell_type": "markdown",
   "id": "9bf21212-ed3e-4f25-88c5-e5d15cec1de0",
   "metadata": {},
   "source": [
    "## Q5: What is Bernaulli Distribution? Give an Example. What is the difference between Bernoulli Distribution and Binomial Distribution?"
   ]
  },
  {
   "cell_type": "markdown",
   "id": "4d41c2f4-9321-40af-b31c-aa8a83c2bb87",
   "metadata": {},
   "source": [
    "Bernaulli Distribution is Discrete probability that represents the outcomes of a single binary events,where the event has only two possible outcomes i.e success or failure\n",
    "\n",
    "Example :\n",
    "\n",
    "fliping a coin can a example of bernaulli Distribution where there are only two outcomes Heads and Tails which has equal probability of 0.5"
   ]
  },
  {
   "cell_type": "markdown",
   "id": "692800d9-0821-4af4-a347-58c9f3cc2165",
   "metadata": {},
   "source": [
    "## Q6. Consider a dataset with a mean of 50 and a standard deviation of 10. If we assume that the dataset is normally distributed, what is the  probability that a randomly selected observation will be greaterthan 60? Use the appropriate formula and show your calculations."
   ]
  },
  {
   "cell_type": "markdown",
   "id": "a1f32e38-8d7f-4cb9-a412-5d8ee817606d",
   "metadata": {},
   "source": [
    "in order to calculate the probability that the randomly selected observation is greater than 60,frist we have to calculate the z-score of 60\n",
    "\n",
    "z=(x-mean)/standard deviation\n",
    "\n",
    "z=(60-50)/10\n",
    "\n",
    "z=1\n",
    "\n",
    "the area of the selected observation to be lessthan or eqaul to 60 is 0.8413\n",
    "\n",
    "area of selected observation to be greater than 60 is 1-0.8413=0.1587\n",
    "\n",
    "The probability of the observation to be greater than 60 is 15.87%"
   ]
  },
  {
   "cell_type": "markdown",
   "id": "3ec4f6fa-b16f-4092-a4b8-47a76dc6bdd4",
   "metadata": {},
   "source": [
    "## Q7: Explain uniform Distribution with an example."
   ]
  },
  {
   "cell_type": "markdown",
   "id": "a44fd989-d942-4ef9-9308-d35752527165",
   "metadata": {},
   "source": [
    "Uniform Distribution is a probability distribution in which all values in a given range are  equally likely to occue or we can say that probability is any perticular value with is the range is same.\n",
    "There are two types of Uniform Distribution:\n",
    "1. Discrete Uniform Distribution.\n",
    "2. Continuous Uniform Distribution.\n",
    "\n",
    "Example:\n",
    "\n",
    "The example of Uniform Distribution or more specificaly Discrete Uniform Distribution can be a dice. a dice has 6 sides that means we have six possible outcomes. the probavility of every outcome is equal which is 1/6. "
   ]
  },
  {
   "cell_type": "markdown",
   "id": "d41b83fe-8f35-4546-ad3f-733040e6ef7c",
   "metadata": {},
   "source": [
    "## Q8: What is the z score? State the importance of the z score."
   ]
  },
  {
   "cell_type": "markdown",
   "id": "1458a254-6776-45ed-b694-b946e91058ba",
   "metadata": {},
   "source": [
    "The z-score (also known as the standard score) is a measure of the distance between a data point and the mean of a population, expressed in terms of the number of standard deviations that the data point is away from the mean. It is calculated by subtracting the population mean from a given data point, and then dividing by the population standard deviation. The formula for calculating the z-score is:\n",
    "\n",
    "z = (x - μ) / σ"
   ]
  },
  {
   "cell_type": "markdown",
   "id": "33836232-9422-4b1b-bb3c-028b1e2d23e4",
   "metadata": {},
   "source": [
    "## Q9: What is Central Limit Theorem? State the significance of the Central Limit Theorem."
   ]
  },
  {
   "cell_type": "markdown",
   "id": "5b40385d-c3ff-4c72-96c8-37220eda8095",
   "metadata": {},
   "source": [
    "If we take m number of sample data of size n from the population data the distribution of the  sample mean will approximately equaly to  normal disribution \n",
    "greater the size of n closer to the normal distribution \n",
    " \n",
    " the sample mean will be equal to population mean and standard deviation will equal to population standard deviation divided by the square root of the sample size. \n",
    " \n",
    " The significance of the Central Limit Theorem is that it allows us to use the normal distribution to make inferences about the population mean, even if the population distribution is unknown or non-normal. This is because the normal distribution is well understood and has many useful properties that can be used to analyze data"
   ]
  },
  {
   "cell_type": "markdown",
   "id": "1c82594f-20e9-4f5e-8997-69cd07789902",
   "metadata": {},
   "source": [
    "## Q10: State the assumptions of the Central Limit Theorem."
   ]
  },
  {
   "cell_type": "markdown",
   "id": "46da3bd9-2c82-4db0-948d-30d5cce39cfc",
   "metadata": {},
   "source": [
    "1. Independence: The sample observations should be independent of each other. In other words, the value of one observation should not be related to the value of another observation in the sample.\n",
    "2. Sample size: The sample size should be large enough. The actual threshold for what constitutes a \"large enough\" sample size depends on the underlying distribution of the population and the level of precision desired.\n",
    "3. Random sampling: The sample should be drawn randomly from the population.\n"
   ]
  },
  {
   "cell_type": "code",
   "execution_count": null,
   "id": "36af6daf-e915-4900-8339-8d9bd953c57c",
   "metadata": {},
   "outputs": [],
   "source": []
  }
 ],
 "metadata": {
  "kernelspec": {
   "display_name": "Python 3 (ipykernel)",
   "language": "python",
   "name": "python3"
  },
  "language_info": {
   "codemirror_mode": {
    "name": "ipython",
    "version": 3
   },
   "file_extension": ".py",
   "mimetype": "text/x-python",
   "name": "python",
   "nbconvert_exporter": "python",
   "pygments_lexer": "ipython3",
   "version": "3.10.8"
  }
 },
 "nbformat": 4,
 "nbformat_minor": 5
}
