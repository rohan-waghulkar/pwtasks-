{
 "cells": [
  {
   "cell_type": "markdown",
   "id": "7193f68b-0fa9-4b77-8af5-891838b4c6c0",
   "metadata": {},
   "source": [
    "## Q1: What is Estimation Statistics? Explain point estimate and interval estimate."
   ]
  },
  {
   "cell_type": "markdown",
   "id": "b0cd5bec-1fdb-4048-ac89-2fe001b5ed08",
   "metadata": {},
   "source": [
    "Estimation statistics is a branch of statistics that deals with estimating unknown parameters of a population using sample data. The goal of estimation is to provide an estimate of the population parameter that is as close as possible to the true value of the parameter."
   ]
  },
  {
   "cell_type": "markdown",
   "id": "0d3b7e9b-65f2-4b8e-ad07-177ee856188f",
   "metadata": {},
   "source": [
    "## Q2. Write a Python function to estimate the population mean using a sample mean and standard deviation."
   ]
  },
  {
   "cell_type": "code",
   "execution_count": 1,
   "id": "cf720853-ea08-4cc0-ac88-5808ea23219b",
   "metadata": {},
   "outputs": [],
   "source": [
    "def population_mean(sample_mean, sample_stddev, sample_size):\n",
    "    import math\n",
    "    standard_error = sample_stddev / math.sqrt(sample_size)\n",
    "    z = 1.96\n",
    "    margin_of_error = z * standard_error\n",
    "    l_bound = sample_mean - margin_of_error\n",
    "    u_bound = sample_mean + margin_of_error\n",
    "    return (l_bound, u_bound)\n"
   ]
  },
  {
   "cell_type": "markdown",
   "id": "ef8198e7-aadc-4e47-bafd-b6d9ab4a4f4e",
   "metadata": {},
   "source": [
    "## Q3: What is Hypothesis testing? Why is it used? State the importance of Hypothesis testing."
   ]
  },
  {
   "cell_type": "markdown",
   "id": "ad670a2b-3388-46b0-9483-4fdbc53f9be5",
   "metadata": {},
   "source": [
    "Hypotgesis testing is statistical method used to make inference about a population based on a sample data . it has two hypothesis about the population parameter a null hypothisis and alternate hypothesis. null hypothesis represents the default assumption that we want to test and the alternate hypothesis represents the hypo that we are tying to support.\n",
    "\n",
    "it is used to evaluate two mutually exclusive statement about a population to determine which statement is best supported by the sample data \n",
    "\n",
    " By testing hypotheses and making statistical inferences about populations, researchers can draw conclusions about cause-and-effect relationships, make predictions, and evaluate the effectiveness of interventions or treatments."
   ]
  },
  {
   "cell_type": "markdown",
   "id": "a3cc3d67-5c60-47d9-a5f1-b2bf16293c18",
   "metadata": {},
   "source": [
    "## Q4. Create a hypothesis that states whether the average weight of male college students is greater than the average weight of female college students."
   ]
  },
  {
   "cell_type": "markdown",
   "id": "844f461f-2d32-46e7-8e9d-ca61d6fe3551",
   "metadata": {},
   "source": [
    "Here the null hypothesis will be : the average weigth of male student is less than or equal to average weight of the female student in the collage.\n",
    "\n",
    "and the alternate hypothesis will be : the average weigth of male student is greater than average weigth of female student."
   ]
  },
  {
   "cell_type": "markdown",
   "id": "78a48b36-7323-48ab-bfe1-cfeeee37cad1",
   "metadata": {},
   "source": [
    "## Q5. Write a Python script to conduct a hypothesis test on the difference between two population means,given a sample from each population."
   ]
  },
  {
   "cell_type": "code",
   "execution_count": 2,
   "id": "77e3829d-bcdb-4a61-af9f-4c7a8ef1f1d2",
   "metadata": {},
   "outputs": [],
   "source": [
    "def test():\n",
    "    import numpy as np\n",
    "    from scipy.stats import ttest_ind\n",
    "    sample1=np.random.normal(loc=50,scale=10,size=50)\n",
    "    sample2=np.random.normal(loc=55,scale=10,size=50)\n",
    "    mean1=np.mean(sample1)\n",
    "    mean2=np.mean(sample2)\n",
    "    std1=np.std(sample1)\n",
    "    std2=np.std(sample2)\n",
    "\n",
    "    t_stat,p_value=ttest_ind(sample1,sample2,equal_var=True)\n",
    "    print(\"Sample 1 Mean:\", mean1)\n",
    "    print(\"Sample 2 Mean:\", mean2)\n",
    "    print(\"Sample 1 Standard Deviation:\", std1)\n",
    "    print(\"Sample 2 Standard Deviation:\", std2)\n",
    "    print(\"T-Statistic:\", t_stat)\n",
    "    print(\"P-Value:\", p_value)"
   ]
  },
  {
   "cell_type": "code",
   "execution_count": 3,
   "id": "bc804db5-478d-4027-b0fa-f5fa4344adbd",
   "metadata": {},
   "outputs": [
    {
     "name": "stdout",
     "output_type": "stream",
     "text": [
      "Sample 1 Mean: 49.15405216068285\n",
      "Sample 2 Mean: 57.538622253858875\n",
      "Sample 1 Standard Deviation: 9.796286004839937\n",
      "Sample 2 Standard Deviation: 9.322866032678439\n",
      "T-Statistic: -4.340023799326446\n",
      "P-Value: 3.4682742912276243e-05\n"
     ]
    }
   ],
   "source": [
    "test()"
   ]
  },
  {
   "cell_type": "markdown",
   "id": "15b18071-ab7e-4894-bd2c-24ec7a16878b",
   "metadata": {},
   "source": [
    "## Q6: What is a null and alternative hypothesis? Give some examples."
   ]
  },
  {
   "cell_type": "markdown",
   "id": "2f69ceca-a3ab-417a-88fe-973591bec482",
   "metadata": {},
   "source": [
    "in hypothesis testing :\n",
    "null hypothesis (H0) is the statement that asssumes there is no singnificant difference between two or more populations .\n",
    "\n",
    "alternate hypothesis(Ha) is the staement that assumes there is significant difference between two or more variables or populations\n",
    "\n",
    "1. relation between average weight of male and female student\n",
    "\n",
    "null hypothesis will be : the average weigth of male student is less than or equal to average weight of the female student in the collage.\n",
    " and the alternate hypothesis will be : the average weigth of male student is greater than average weigth of female student.\n",
    "2. Example for the difference between proportions:\n",
    "Null hypothesis: The proportion of men who prefer private vehicle over goverment buses is equal to the proportion of women who prefer tea over coffee.\n",
    "Alternative hypothesis: The proportion of men who prefer private vehicle over goverment buses is not equal to the proportion of women who prefer tea over coffee."
   ]
  },
  {
   "cell_type": "markdown",
   "id": "1e9e922a-365d-4ff3-85e0-18d8f2c28f62",
   "metadata": {},
   "source": [
    "## Q7: Write down the steps involved in hypothesis testing."
   ]
  },
  {
   "cell_type": "markdown",
   "id": "a98bde99-12cb-434d-8b44-afda233104ee",
   "metadata": {},
   "source": [
    "The steps involved in hypothesis testing are :\n",
    "1. formulate null hypothesis: it is a statement that researcher wants to test\n",
    "2. formulate alternate hypothesis : it is a statement that contradicts the null hypothesis.\n",
    "3. choose the level of significance : it is also known as alpha level.it is the probability of rejecting the null hypothesis.\n",
    "4. collect data : data is collected from sample of population being studied.\n",
    "5. calculate the test-statistics : The test statistic is a measure of how far the sample data is from what is expected under the null hypothesis.\n",
    "6. Determine the critical value : the critical value is value of test statistics beyond which the null hypothesis can be rejected.\n",
    "7. compare the test statistics to the critical value : if the test statistics is greater than critical value,the null hypothesis can be rejected.\n",
    "8. Draw cunclusion : the conclusion is cunclude based on the result of the hypothesis test .i.e to reject the null hypothesis or not."
   ]
  },
  {
   "cell_type": "markdown",
   "id": "bc611dcc-21a1-4354-b75b-4992420ed656",
   "metadata": {},
   "source": [
    "## Q8. Define p-value and explain its significance in hypothesis testing."
   ]
  },
  {
   "cell_type": "markdown",
   "id": "d8d64941-f9ae-4a5c-a229-459d7a98565c",
   "metadata": {},
   "source": [
    "The p-value is the probability of obtaining a result as extreme as, or more extreme than, the observed result, assuming the null hypothesis is true. In hypothesis testing, the p-value is used to determine whether to reject or fail to reject the null hypothesis.\n",
    "\n",
    "In hypothesis testing, the p-value is used to determine the statistical significance of the results. If the p-value is less than or equal to the significance level (usually 0.05), then the null hypothesis is rejected, and the alternative hypothesis is accepted. This means that the observed results are unlikely to have occurred by chance, and there is evidence to support the alternative hypothesis.\n",
    "On the other hand, if the p-value is greater than the significance level, then the null hypothesis is not rejected, and there is insufficient evidence to support the alternative hypothesis. This means that the observed results could have occurred by chance, and there is no significant difference between the two groups or no significant effect of the treatment or intervention."
   ]
  },
  {
   "cell_type": "markdown",
   "id": "7f526d10-fd4f-45b2-a083-1afcf1172ee5",
   "metadata": {},
   "source": [
    "## Q9. Generate a Student's t-distribution plot using Python's matplotlib library, with the degrees of freedom parameter set to 10."
   ]
  },
  {
   "cell_type": "code",
   "execution_count": 4,
   "id": "95782b30-6dea-4261-9c34-cf5dfa565046",
   "metadata": {},
   "outputs": [
    {
     "data": {
      "image/png": "[encoded data removed]",
      "text/plain": [
       "<Figure size 640x480 with 1 Axes>"
      ]
     },
     "metadata": {},
     "output_type": "display_data"
    }
   ],
   "source": [
    "import matplotlib.pyplot as plt\n",
    "import numpy as np\n",
    "import scipy.stats as stats\n",
    "df=10\n",
    "x=np.arange(-4,4,0.1)\n",
    "y=stats.t.pdf(x,df)\n",
    "plt.plot(x,y,label='t-distribution')\n",
    "#plt.legend()\n",
    "plt.xlabel(\"x\")\n",
    "plt.ylabel('probability density')\n",
    "plt.show()"
   ]
  },
  {
   "cell_type": "markdown",
   "id": "4b38d3ec-332e-4b6c-87d7-48a9b91c835f",
   "metadata": {},
   "source": [
    "## Q10. Write a Python program to calculate the two-sample t-test for independent samples, given two random samples of equal size and a null hypothesis that the population means are equal."
   ]
  },
  {
   "cell_type": "code",
   "execution_count": 12,
   "id": "e2bb37c9-f682-44f8-8385-a9b901ea4505",
   "metadata": {},
   "outputs": [
    {
     "name": "stdout",
     "output_type": "stream",
     "text": [
      "t-statistic:  -7.295774841487338\n",
      "p-value:  7.004017564371496e-12\n"
     ]
    }
   ],
   "source": [
    "from scipy.stats import ttest_ind\n",
    "samp1=np.random.normal(0,1,100)\n",
    "samp2=np.random.normal(1,1,100)\n",
    "t_stat, p_val = ttest_ind(samp1, samp2)\n",
    "print(\"t-statistic: \", t_stat)\n",
    "print(\"p-value: \", p_val)"
   ]
  },
  {
   "cell_type": "markdown",
   "id": "8c5c7e0e-3e59-4a83-b5cb-6cc61ffa6bb7",
   "metadata": {},
   "source": [
    "## Q11: What is Student’s t distribution? When to use the t-Distribution."
   ]
  },
  {
   "cell_type": "markdown",
   "id": "1a0f9051-e2bc-4016-aedc-f50d85793565",
   "metadata": {},
   "source": [
    "Student's t-distribution, or simply the t-distribution, is a probability distribution that arises when we estimate the mean of a normally distributed population from a small sample.\n",
    "\n",
    "We use the t-distribution when we have a small sample size (usually less than 30) and we need to estimate a population parameter, such as the population mean, based on the sample. Specifically, the t-distribution is used to calculate confidence intervals and hypothesis tests for the population mean when the population standard deviation is unknown and must be estimated from the sample."
   ]
  },
  {
   "cell_type": "markdown",
   "id": "4b3f24d0-7492-44ce-98d9-4f644bcfe484",
   "metadata": {},
   "source": [
    "## Q12: What is t-statistic? State the formula for t-statistic."
   ]
  },
  {
   "cell_type": "markdown",
   "id": "5ed3f9c2-bb48-41b5-8637-69e47cf424fb",
   "metadata": {},
   "source": [
    " The t-statistic is a test statistic that is used to test the null hypothesis that there is no significant difference between the means of two populations. Specifically, it is used in the two-sample t-test for independent samples.\n",
    "formula: \n",
    "\n",
    "t = (x1 - x2) / (s * sqrt(2/n))\n",
    "\n",
    "where s is pooled standered deviation which is calculated as \n",
    "\n",
    "s = sqrt(((n1 - 1) * s1^2 + (n2 - 1) * s2^2) / (n1 + n2 - 2))"
   ]
  },
  {
   "cell_type": "markdown",
   "id": "274686b3-bd64-433e-8595-66475a58f8a6",
   "metadata": {},
   "source": [
    "Q17. A marketing company wants to estimate the average number of ads watched by viewers during a TV\n",
    "program. They take a random sample of 50 viewers and find that the sample mean is 4 with a standard\n",
    "deviation of 1.5. Estimate the population mean with a 99% confidence interval.Q17. A marketing company wants to estimate the average number of ads watched by viewers during a TV\n",
    "program. They take a random sample of 50 viewers and find that the sample mean is 4 with a standard\n",
    "deviation of 1.5. Estimate the population mean with a 99% confidence interval.Q17. A marketing company wants to estimate the average number of ads watched by viewers during a TV\n",
    "program. They take a random sample of 50 viewers and find that the sample mean is 4 with a standard\n",
    "deviation of 1.5. Estimate the population mean with a 99% confidence interval.## Q13. A coffee shop owner wants to estimate the average daily revenue for their shop. They take a randomsample of 50 days and find the sample mean revenue to be $500  with a standard deviation of $50.Estimate the population mean revenue with a 95% confidence interval."
   ]
  },
  {
   "cell_type": "markdown",
   "id": "040c53af-90a1-409a-a24c-6710bbad5291",
   "metadata": {},
   "source": [
    "CI = x̄ ± z*(s/√n)\n",
    "\n",
    "z-score=1.96 \n",
    "\n",
    "CI = 500 ± 1.96*(50/√50)\n",
    "\n",
    "CI = 500 ± 13.14\n",
    "\n",
    "the 95% confidence interval for the population mean difference is 486.86 to 513.14."
   ]
  },
  {
   "cell_type": "markdown",
   "id": "63a4c3a0-fcf4-4d9c-adc2-1a0fbb3edb31",
   "metadata": {},
   "source": [
    "## Q14. A researcher hypothesizes that a new drug will decrease blood pressure by 10 mmHg. They conduct a clinical trial with 100 patients and find that the sample mean decrease in blood pressure is 8 mmHg with a standard deviation of 3 mmHg. Test the hypothesis with a significance level of 0.05."
   ]
  },
  {
   "cell_type": "markdown",
   "id": "c69eecc9-7c11-4ef8-9245-9564f56e52ba",
   "metadata": {},
   "source": [
    "H0 : μ=10\n",
    "Ha : μ<10\n",
    "\n",
    "We can calculate the t-statistic using the formula:\n",
    "\n",
    "t = (x̄ - μ) / (s / √n)\n",
    "\n",
    "t = (8 - 10) / (3 / √100)\n",
    "t = -2.67\n",
    "\n",
    "he degrees of freedom for this test are df = n - 1 = 99. Using a t-table or a t-distribution calculator with 99 degrees of freedom, we can find the critical t-value for a one-tailed test at a significance level of 0.05:\n",
    "\n",
    "t_crit = -1.660\n",
    "\n",
    "Since our calculated t-statistic (-2.67) is less than the critical t-value (-1.660), we reject the null hypothesis and conclude that there is evidence that the new drug decreases blood pressure by less than 10 mmHg at a significance level of 0.05."
   ]
  },
  {
   "cell_type": "markdown",
   "id": "a752825d-8113-4551-96d5-caf82b02ab68",
   "metadata": {},
   "source": [
    "## Q15. An electronics company produces a certain type of product with a mean weight of 5 pounds and a standard deviation of 0.5 pounds. A random sample of 25 products is taken, and the sample mean weight is found to be 4.8 pounds. Test the hypothesis that the true mean weight of the products is less than 5 pounds with a significance level of 0.01."
   ]
  },
  {
   "cell_type": "markdown",
   "id": "ba6006be-ade2-4cf8-a08a-3eff8c09d87d",
   "metadata": {},
   "source": [
    "H0=mean weigth of the product is 5 pound\n",
    "\n",
    "Ha=mean weigth of the product is less than 5\n",
    "\n",
    "t = (sample mean - hypothesized mean) / (sample standard deviation / sqrt(sample size))\n",
    "\n",
    "t = (4.8 - 5) / (0.5 / sqrt(25)) = -2.0\n",
    "\n",
    "degree of freedom is 25-1=24\n",
    "\n",
    "singnificance level=0.01\n",
    "\n",
    "critical value=-2.492\n",
    "\n",
    "since calculated t-value is greater than -2.0\n",
    "\n",
    "so we failed to reject null hypothesis"
   ]
  },
  {
   "cell_type": "markdown",
   "id": "9fe93701-b25a-416e-980e-46562820745d",
   "metadata": {},
   "source": [
    "## Q16. Two groups of students are given different study materials to prepare for a test. The first group (n1 = 30) has a mean score of 80 with a standard deviation of 10, and the second group (n2 = 40) has a mean score of 75 with a standard deviation of 8. Test the hypothesis that the population means for the two groups are equal with a significance level of 0.01."
   ]
  },
  {
   "cell_type": "markdown",
   "id": "fd4f1e81-74fb-43ee-8c9d-bb8a0b7347c2",
   "metadata": {},
   "source": [
    "Null hypothesis: The population means for the two groups are equal.\n",
    "\n",
    "Alternative hypothesis: The population means for the two groups are not equal.\n",
    "\n",
    "We can calculate the test statistic as follows:\n",
    "\n",
    "t = (x̄1 - x̄2) / (sqrt((s1^2/n1) + (s2^2/n2)))\n",
    "\n",
    "t = (80 - 75) / (sqrt((10^2/30) + (8^2/40))) = 2.17\n",
    "\n",
    "df=(n1+n2-2)=68\n",
    "\n",
    "critical t-value=2.625    .... from t distribution table\n",
    "\n",
    "since ontainded t-value is less than critical value we failed to reject null hypothesis."
   ]
  },
  {
   "cell_type": "markdown",
   "id": "21f4a7ab-5890-42b0-a331-8a715c325850",
   "metadata": {},
   "source": [
    "## Q17. A marketing company wants to estimate the average number of ads watched by viewers during a TV program. They take a random sample of 50 viewers and find that the sample mean is 4 with a standard deviation of 1.5. Estimate the population mean with a 99% confidence interval."
   ]
  },
  {
   "cell_type": "markdown",
   "id": "a6c68b75-b779-4645-807a-168905e9a519",
   "metadata": {},
   "source": [
    "z-value=2.576\n",
    " \n",
    "CI = 4 ± 2.576 * (1.5 / sqrt(50))\n",
    "\n",
    "CI = 4 ± 0.663\n",
    "\n",
    "number of ads watched by viewers during a TV program is between 3.337 and 4.663 based on the sample data."
   ]
  },
  {
   "cell_type": "code",
   "execution_count": null,
   "id": "9c175d28-4e19-41de-902d-963770cfa0bc",
   "metadata": {},
   "outputs": [],
   "source": []
  }
 ],
 "metadata": {
  "kernelspec": {
   "display_name": "Python 3 (ipykernel)",
   "language": "python",
   "name": "python3"
  },
  "language_info": {
   "codemirror_mode": {
    "name": "ipython",
    "version": 3
   },
   "file_extension": ".py",
   "mimetype": "text/x-python",
   "name": "python",
   "nbconvert_exporter": "python",
   "pygments_lexer": "ipython3",
   "version": "3.10.8"
  }
 },
 "nbformat": 4,
 "nbformat_minor": 5
}
