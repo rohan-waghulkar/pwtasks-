{
 "cells": [
  {
   "cell_type": "markdown",
   "id": "3f23da69-8a87-4236-9343-23f97f278e73",
   "metadata": {},
   "source": [
    "## Q1. What is Statistics?"
   ]
  },
  {
   "cell_type": "markdown",
   "id": "6ddfadae-489a-4a88-8bb5-4323d8ef0b0b",
   "metadata": {},
   "source": [
    "#### Statistics is a branch of mathematics that deals with the collection, analysis, interpretation, presentation, and organization of data. "
   ]
  },
  {
   "cell_type": "markdown",
   "id": "7ad2572e-0b67-4fa6-97a1-254b8f50759b",
   "metadata": {},
   "source": [
    "## Q2. Define the different types of statistics and give an example of when each type might be used."
   ]
  },
  {
   "cell_type": "markdown",
   "id": "967b0b0c-ced8-48ff-ad7d-e922dd1b8105",
   "metadata": {},
   "source": [
    "There are two main types of statistics :\n",
    "1. Discriptive \n",
    "   \n",
    "   this type involves collection,presentation, and discription of data.it includes measure such as mean,mode,median,standard deviation,frequency distribution etc.\n",
    "   \n",
    "   example:\n",
    "    Suppose you are interested in knowing the average age of employees in a company. You would collect data on the age of all employees and use descriptive statistics to calculate the mean or median age.\n",
    "2. Inferential \n",
    "    \n",
    "    This type of statistics involves making inferences or predictions about a population based on a sample of data. It includes methods such as hypothesis testing, confidence intervals, and regression analysis."
   ]
  },
  {
   "cell_type": "markdown",
   "id": "6387cdc8-d182-4685-bc64-62618ae4a329",
   "metadata": {},
   "source": [
    "## Q3. What are the different types of data and how do they differ from each other? Provide an example of each type of data."
   ]
  },
  {
   "cell_type": "markdown",
   "id": "48db7c74-6ca8-43ad-961e-3186899cd609",
   "metadata": {},
   "source": [
    "Ther are 4 types of data :\n",
    "\n",
    "1. Nominal:\n",
    "\n",
    "This type of data refers to categorical or qualitative data that are represented by labels or names. Nominal data cannot be ranked or ordered.\n",
    "example : gender.\n",
    "\n",
    "2. ordinal\n",
    "\n",
    "Ordinal data: This type of data also refers to categorical or qualitative data, but the categories have a natural order or ranking.\n",
    "example: customer satisfaction ratings (e.g. very satisfied, somewhat satisfied, neutral, somewhat dissatisfied, very dissatisfied) \n",
    "\n",
    "3. Interval:\n",
    "\n",
    "Interval data: This type of data refers to numerical data that are measured on a scale where the intervals between values are equal.\n",
    "Example: Temperature measured in Celsius or Fahrenheit is an example of interval data.\n",
    "\n",
    "4. Ratio :\n",
    "\n",
    "Ratio data: This type of data refers to numerical data that have a true zero point, meaning that zero represents the absence of the measured quantity.\n",
    "Example: Height, weight, or age are examples of ratio data."
   ]
  },
  {
   "cell_type": "markdown",
   "id": "7203fdef-7e70-4426-9ee0-d122c7d00afa",
   "metadata": {},
   "source": [
    "## Q4. Categorise the following datasets with respect to quantitative and qualitative data types:\n",
    "## (i) Grading in exam: A+, A, B+, B, C+, C, D, E\n",
    "## (ii) Colour of mangoes: yellow, green, orange, red\n",
    "## (iii) Height data of a class: [178.9, 179, 179.5, 176, 177.2, 178.3, 175.8,...]\n",
    "## (iv) Number of mangoes exported by a farm: [500, 600, 478, 672, ...]"
   ]
  },
  {
   "cell_type": "markdown",
   "id": "dfed1b62-0778-43ea-af10-c97080faa09e",
   "metadata": {},
   "source": [
    "1. Qualitative \n",
    "2. Qualitative \n",
    "3. Quantitative (continuous)\n",
    "4. Quantitative (discrete)"
   ]
  },
  {
   "cell_type": "markdown",
   "id": "a43bea47-db7e-48e9-9d6c-aac1cf7e908b",
   "metadata": {},
   "source": [
    "## Q5. Explain the concept of levels of measurement and give an example of a variable for each level."
   ]
  },
  {
   "cell_type": "markdown",
   "id": "2aa26fbb-7816-4dfd-b7a8-baa148db731c",
   "metadata": {},
   "source": [
    "Nominal level of measurement: This level of measurement involves assigning names, labels, or categories to data. Nominal data cannot be ordered or ranked.\n",
    "Example: Gender (male or female), blood type (A, B, AB, or O), or car models (Toyota, Honda, Ford, etc.) are examples of nominal variables.\n",
    "\n",
    "Ordinal level of measurement: This level of measurement involves ranking or ordering data based on some criteria, but the difference between values is not meaningful.\n",
    "Example: Education level (elementary school, high school, bachelor's degree, etc.) or military rank (private, sergeant, lieutenant, etc.) are examples of ordinal variables.\n",
    "\n",
    "Interval level of measurement: This level of measurement involves measuring data on a scale where the intervals between values are equal, but there is no true zero point.\n",
    "Example: Temperature measured in Celsius or Fahrenheit is an example of an interval variable.\n",
    "\n",
    "Ratio level of measurement: This level of measurement involves measuring data on a scale where there is a true zero point, meaning that zero represents the absence of the measured quantity.\n",
    "Example: Height, weight, or age are examples of ratio variables.\n",
    "\n",
    "The level of measurement is important because it determines the types of statistical analysis that can be performed on the data. Nominal and ordinal variables can only be analyzed using descriptive statistics, while interval and ratio variables can be analyzed using both descriptive and inferential statistics.\n"
   ]
  },
  {
   "cell_type": "markdown",
   "id": "671e759d-c7d8-4418-9502-5fa33e1571cd",
   "metadata": {},
   "source": [
    "## Q6. Why is it important to understand the level of measurement when analyzing data? Provide an example to illustrate your answer."
   ]
  },
  {
   "cell_type": "markdown",
   "id": "b0aea1fd-1779-4653-b4e7-7596a77bf4b4",
   "metadata": {},
   "source": [
    "Understanding the level of measurement is important when analyzing data because it determines the type of statistical analysis that can be carried out and affects both the nature and depth of insights that can be gleaned from the data. The level at which a variable is measured determines how the data can be analyzed, and depending on the level of measurement, different descriptive statistics can be performed to get an overall summary of the data, and inferential statistics can be used to see if results support or refute a hypothesis.\n",
    "\n",
    "For example, let's say we are analyzing data on customer satisfaction with a product. If we measure customer satisfaction using nominal data (e.g., \"satisfied\" or \"not satisfied\"), we can only categorize customers into groups based on their responses. We cannot rank them in any meaningful way or perform any calculations with this type of data. However, if we measure customer satisfaction using interval or ratio data (e.g., a rating scale from 1-10), we can calculate means and standard deviations to get an overall summary of customer satisfaction levels and compare them across different groups.\n"
   ]
  },
  {
   "cell_type": "markdown",
   "id": "27023973-7a44-474e-9746-24b318f03c81",
   "metadata": {},
   "source": [
    "## Q7. How nominal data type is different from ordinal data type."
   ]
  },
  {
   "cell_type": "markdown",
   "id": "c4d1e80f-39ed-43bb-b074-6cdc48c1220b",
   "metadata": {},
   "source": [
    "both are the categorical data types but ordinal data has ranking and nomial don't."
   ]
  },
  {
   "cell_type": "markdown",
   "id": "15cafdbe-874f-4a78-b430-b07315ff362d",
   "metadata": {},
   "source": [
    "## Q8. Which type of plot can be used to display data in terms of range?"
   ]
  },
  {
   "cell_type": "markdown",
   "id": "2c2c2812-0dbd-4484-974f-0f97b52934dd",
   "metadata": {},
   "source": [
    "A box plot (also known as a box-and-whisker plot) can be used to display data in terms of range. The box plot is a graphical representation of the five-number summary (minimum value, lower quartile, median, upper quartile, maximum value) of a dataset. The \"box\" in the plot represents the middle 50% of the data (i.e., the interquartile range), while the \"whiskers\" extend to the minimum and maximum values. Outliers are represented as individual points beyond the whiskers."
   ]
  },
  {
   "cell_type": "markdown",
   "id": "10b5089d-f489-410a-a68b-f3d472e78abe",
   "metadata": {},
   "source": [
    "## Q9. Describe the difference between descriptive and inferential statistics. Give an example of eachtype of statistics and explain how they are used."
   ]
  },
  {
   "cell_type": "markdown",
   "id": "e2ded6be-5704-4559-81c5-c05002cb62c9",
   "metadata": {},
   "source": [
    "Descriptive statistics involve methods of summarizing and describing the main features of a dataset, such as measures of central tendency (e.g., mean, median, mode) and measures of variability (e.g., range, variance, standard deviation). These methods are used to provide an overview of the dataset and to summarize its main characteristics.\n",
    "\n",
    "Example: Suppose we have a dataset of heights (in centimeters) of 100 students in a school. Descriptive statistics can be used to calculate the mean height (a measure of central tendency), the standard deviation (a measure of variability), and the range (the difference between the tallest and shortest student) of the dataset.\n",
    "\n",
    "Inferential statistics, on the other hand, involve methods of making inferences and drawing conclusions about a larger population based on a sample of data. These methods use probability theory and sampling distributions to estimate population parameters (such as means or proportions) and test hypotheses about the population.\n",
    "\n",
    "Example: Suppose we want to determine whether the mean height of all students in the school is significantly different from the national average height. Inferential statistics can be used to estimate the population mean height (using the sample mean and standard deviation) and test hypotheses about whether the population mean is equal to, greater than, or less than the national average height."
   ]
  },
  {
   "cell_type": "markdown",
   "id": "72cd667e-bb7a-48a2-b665-8e3611709c96",
   "metadata": {},
   "source": [
    "## Q10. What are some common measures of central tendency and variability used in statistics? Explain how each measure can be used to describe a dataset."
   ]
  },
  {
   "cell_type": "markdown",
   "id": "de872375-1ae9-4613-a323-1441d7686ba2",
   "metadata": {},
   "source": [
    "Measures of central tendency and variability are common summary statistics used to describe a dataset.\n",
    "\n",
    "Measures of central tendency are used to describe the \"center\" of a distribution or dataset. There are three main measures of central tendency: mean, median, and mode\n",
    "\n",
    "Measures of variability are used to describe the spread or dispersion of a distribution or dataset. There are three main measures of variability: range, variance, and standard deviation.\n",
    "\n"
   ]
  },
  {
   "cell_type": "code",
   "execution_count": null,
   "id": "abdb95d3-6f8a-4557-9d13-1c8cb5971cf9",
   "metadata": {},
   "outputs": [],
   "source": []
  }
 ],
 "metadata": {
  "kernelspec": {
   "display_name": "Python 3 (ipykernel)",
   "language": "python",
   "name": "python3"
  },
  "language_info": {
   "codemirror_mode": {
    "name": "ipython",
    "version": 3
   },
   "file_extension": ".py",
   "mimetype": "text/x-python",
   "name": "python",
   "nbconvert_exporter": "python",
   "pygments_lexer": "ipython3",
   "version": "3.10.8"
  }
 },
 "nbformat": 4,
 "nbformat_minor": 5
}
