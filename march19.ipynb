{
 "cells": [
  {
   "cell_type": "markdown",
   "id": "c368f836-8e6f-4045-90d1-5131821421d7",
   "metadata": {},
   "source": [
    "## Q1. What is Min-Max scaling, and how is it used in data preprocessing? Provide an example to illustrate its application."
   ]
  },
  {
   "cell_type": "markdown",
   "id": "9fb8ecfd-e606-444a-a1fc-72e198e49137",
   "metadata": {},
   "source": [
    "Min-Max scaling is a data processing technique that rescale each feature in the range of 0-1.\n",
    "this rescaling is done by substracting the minimum value of the feature from each value and then deviding it by the range of the feature.\n",
    "\n",
    "let's say we have a dataset with features x,y,and,z of any range when we apply min-max scalar to the dataset each value in the dataset will rescaled  to range of [0,1]"
   ]
  },
  {
   "cell_type": "code",
   "execution_count": 1,
   "id": "c3ef632e-6a98-4172-b783-7b7505d3fa63",
   "metadata": {},
   "outputs": [],
   "source": [
    "import pandas as pd\n",
    "import seaborn as sns"
   ]
  },
  {
   "cell_type": "code",
   "execution_count": 2,
   "id": "48c32672-7245-4b77-88cd-c273ac7e54dc",
   "metadata": {},
   "outputs": [],
   "source": [
    "df=sns.load_dataset('titanic')"
   ]
  },
  {
   "cell_type": "code",
   "execution_count": 3,
   "id": "3a57bcc9-bdd9-460b-9dda-35c63c7d6dd0",
   "metadata": {},
   "outputs": [
    {
     "data": {
      "text/html": [
       "<div>\n",
       "<style scoped>\n",
       "    .dataframe tbody tr th:only-of-type {\n",
       "        vertical-align: middle;\n",
       "    }\n",
       "\n",
       "    .dataframe tbody tr th {\n",
       "        vertical-align: top;\n",
       "    }\n",
       "\n",
       "    .dataframe thead th {\n",
       "        text-align: right;\n",
       "    }\n",
       "</style>\n",
       "<table border=\"1\" class=\"dataframe\">\n",
       "  <thead>\n",
       "    <tr style=\"text-align: right;\">\n",
       "      <th></th>\n",
       "      <th>survived</th>\n",
       "      <th>pclass</th>\n",
       "      <th>sex</th>\n",
       "      <th>age</th>\n",
       "      <th>sibsp</th>\n",
       "      <th>parch</th>\n",
       "      <th>fare</th>\n",
       "      <th>embarked</th>\n",
       "      <th>class</th>\n",
       "      <th>who</th>\n",
       "      <th>adult_male</th>\n",
       "      <th>deck</th>\n",
       "      <th>embark_town</th>\n",
       "      <th>alive</th>\n",
       "      <th>alone</th>\n",
       "    </tr>\n",
       "  </thead>\n",
       "  <tbody>\n",
       "    <tr>\n",
       "      <th>0</th>\n",
       "      <td>0</td>\n",
       "      <td>3</td>\n",
       "      <td>male</td>\n",
       "      <td>22.0</td>\n",
       "      <td>1</td>\n",
       "      <td>0</td>\n",
       "      <td>7.2500</td>\n",
       "      <td>S</td>\n",
       "      <td>Third</td>\n",
       "      <td>man</td>\n",
       "      <td>True</td>\n",
       "      <td>NaN</td>\n",
       "      <td>Southampton</td>\n",
       "      <td>no</td>\n",
       "      <td>False</td>\n",
       "    </tr>\n",
       "    <tr>\n",
       "      <th>1</th>\n",
       "      <td>1</td>\n",
       "      <td>1</td>\n",
       "      <td>female</td>\n",
       "      <td>38.0</td>\n",
       "      <td>1</td>\n",
       "      <td>0</td>\n",
       "      <td>71.2833</td>\n",
       "      <td>C</td>\n",
       "      <td>First</td>\n",
       "      <td>woman</td>\n",
       "      <td>False</td>\n",
       "      <td>C</td>\n",
       "      <td>Cherbourg</td>\n",
       "      <td>yes</td>\n",
       "      <td>False</td>\n",
       "    </tr>\n",
       "    <tr>\n",
       "      <th>2</th>\n",
       "      <td>1</td>\n",
       "      <td>3</td>\n",
       "      <td>female</td>\n",
       "      <td>26.0</td>\n",
       "      <td>0</td>\n",
       "      <td>0</td>\n",
       "      <td>7.9250</td>\n",
       "      <td>S</td>\n",
       "      <td>Third</td>\n",
       "      <td>woman</td>\n",
       "      <td>False</td>\n",
       "      <td>NaN</td>\n",
       "      <td>Southampton</td>\n",
       "      <td>yes</td>\n",
       "      <td>True</td>\n",
       "    </tr>\n",
       "    <tr>\n",
       "      <th>3</th>\n",
       "      <td>1</td>\n",
       "      <td>1</td>\n",
       "      <td>female</td>\n",
       "      <td>35.0</td>\n",
       "      <td>1</td>\n",
       "      <td>0</td>\n",
       "      <td>53.1000</td>\n",
       "      <td>S</td>\n",
       "      <td>First</td>\n",
       "      <td>woman</td>\n",
       "      <td>False</td>\n",
       "      <td>C</td>\n",
       "      <td>Southampton</td>\n",
       "      <td>yes</td>\n",
       "      <td>False</td>\n",
       "    </tr>\n",
       "    <tr>\n",
       "      <th>4</th>\n",
       "      <td>0</td>\n",
       "      <td>3</td>\n",
       "      <td>male</td>\n",
       "      <td>35.0</td>\n",
       "      <td>0</td>\n",
       "      <td>0</td>\n",
       "      <td>8.0500</td>\n",
       "      <td>S</td>\n",
       "      <td>Third</td>\n",
       "      <td>man</td>\n",
       "      <td>True</td>\n",
       "      <td>NaN</td>\n",
       "      <td>Southampton</td>\n",
       "      <td>no</td>\n",
       "      <td>True</td>\n",
       "    </tr>\n",
       "  </tbody>\n",
       "</table>\n",
       "</div>"
      ],
      "text/plain": [
       "   survived  pclass     sex   age  sibsp  parch     fare embarked  class  \\\n",
       "0         0       3    male  22.0      1      0   7.2500        S  Third   \n",
       "1         1       1  female  38.0      1      0  71.2833        C  First   \n",
       "2         1       3  female  26.0      0      0   7.9250        S  Third   \n",
       "3         1       1  female  35.0      1      0  53.1000        S  First   \n",
       "4         0       3    male  35.0      0      0   8.0500        S  Third   \n",
       "\n",
       "     who  adult_male deck  embark_town alive  alone  \n",
       "0    man        True  NaN  Southampton    no  False  \n",
       "1  woman       False    C    Cherbourg   yes  False  \n",
       "2  woman       False  NaN  Southampton   yes   True  \n",
       "3  woman       False    C  Southampton   yes  False  \n",
       "4    man        True  NaN  Southampton    no   True  "
      ]
     },
     "execution_count": 3,
     "metadata": {},
     "output_type": "execute_result"
    }
   ],
   "source": [
    "df.head()"
   ]
  },
  {
   "cell_type": "code",
   "execution_count": 4,
   "id": "b4851fa0-e712-42e6-8782-2369b20f98aa",
   "metadata": {},
   "outputs": [],
   "source": [
    "from sklearn.preprocessing import MinMaxScaler"
   ]
  },
  {
   "cell_type": "code",
   "execution_count": 5,
   "id": "ba3cb464-dfdd-426e-8e7e-5471d475af57",
   "metadata": {},
   "outputs": [],
   "source": [
    "minmaxscalar=MinMaxScaler()"
   ]
  },
  {
   "cell_type": "code",
   "execution_count": 6,
   "id": "806d8268-3b24-4daf-8cb7-17ccdd6f5ee5",
   "metadata": {},
   "outputs": [],
   "source": [
    "numeric=df.select_dtypes(include=['int','float'])\n",
    "scaled_df=pd.DataFrame(minmaxscalar.fit_transform(numeric),columns=numeric.columns)"
   ]
  },
  {
   "cell_type": "code",
   "execution_count": 7,
   "id": "7ff724c1-0091-4944-b63c-bd6efa482bfc",
   "metadata": {},
   "outputs": [
    {
     "data": {
      "text/html": [
       "<div>\n",
       "<style scoped>\n",
       "    .dataframe tbody tr th:only-of-type {\n",
       "        vertical-align: middle;\n",
       "    }\n",
       "\n",
       "    .dataframe tbody tr th {\n",
       "        vertical-align: top;\n",
       "    }\n",
       "\n",
       "    .dataframe thead th {\n",
       "        text-align: right;\n",
       "    }\n",
       "</style>\n",
       "<table border=\"1\" class=\"dataframe\">\n",
       "  <thead>\n",
       "    <tr style=\"text-align: right;\">\n",
       "      <th></th>\n",
       "      <th>survived</th>\n",
       "      <th>pclass</th>\n",
       "      <th>age</th>\n",
       "      <th>sibsp</th>\n",
       "      <th>parch</th>\n",
       "      <th>fare</th>\n",
       "    </tr>\n",
       "  </thead>\n",
       "  <tbody>\n",
       "    <tr>\n",
       "      <th>0</th>\n",
       "      <td>0.0</td>\n",
       "      <td>1.0</td>\n",
       "      <td>0.271174</td>\n",
       "      <td>0.125</td>\n",
       "      <td>0.000000</td>\n",
       "      <td>0.014151</td>\n",
       "    </tr>\n",
       "    <tr>\n",
       "      <th>1</th>\n",
       "      <td>1.0</td>\n",
       "      <td>0.0</td>\n",
       "      <td>0.472229</td>\n",
       "      <td>0.125</td>\n",
       "      <td>0.000000</td>\n",
       "      <td>0.139136</td>\n",
       "    </tr>\n",
       "    <tr>\n",
       "      <th>2</th>\n",
       "      <td>1.0</td>\n",
       "      <td>1.0</td>\n",
       "      <td>0.321438</td>\n",
       "      <td>0.000</td>\n",
       "      <td>0.000000</td>\n",
       "      <td>0.015469</td>\n",
       "    </tr>\n",
       "    <tr>\n",
       "      <th>3</th>\n",
       "      <td>1.0</td>\n",
       "      <td>0.0</td>\n",
       "      <td>0.434531</td>\n",
       "      <td>0.125</td>\n",
       "      <td>0.000000</td>\n",
       "      <td>0.103644</td>\n",
       "    </tr>\n",
       "    <tr>\n",
       "      <th>4</th>\n",
       "      <td>0.0</td>\n",
       "      <td>1.0</td>\n",
       "      <td>0.434531</td>\n",
       "      <td>0.000</td>\n",
       "      <td>0.000000</td>\n",
       "      <td>0.015713</td>\n",
       "    </tr>\n",
       "    <tr>\n",
       "      <th>...</th>\n",
       "      <td>...</td>\n",
       "      <td>...</td>\n",
       "      <td>...</td>\n",
       "      <td>...</td>\n",
       "      <td>...</td>\n",
       "      <td>...</td>\n",
       "    </tr>\n",
       "    <tr>\n",
       "      <th>886</th>\n",
       "      <td>0.0</td>\n",
       "      <td>0.5</td>\n",
       "      <td>0.334004</td>\n",
       "      <td>0.000</td>\n",
       "      <td>0.000000</td>\n",
       "      <td>0.025374</td>\n",
       "    </tr>\n",
       "    <tr>\n",
       "      <th>887</th>\n",
       "      <td>1.0</td>\n",
       "      <td>0.0</td>\n",
       "      <td>0.233476</td>\n",
       "      <td>0.000</td>\n",
       "      <td>0.000000</td>\n",
       "      <td>0.058556</td>\n",
       "    </tr>\n",
       "    <tr>\n",
       "      <th>888</th>\n",
       "      <td>0.0</td>\n",
       "      <td>1.0</td>\n",
       "      <td>NaN</td>\n",
       "      <td>0.125</td>\n",
       "      <td>0.333333</td>\n",
       "      <td>0.045771</td>\n",
       "    </tr>\n",
       "    <tr>\n",
       "      <th>889</th>\n",
       "      <td>1.0</td>\n",
       "      <td>0.0</td>\n",
       "      <td>0.321438</td>\n",
       "      <td>0.000</td>\n",
       "      <td>0.000000</td>\n",
       "      <td>0.058556</td>\n",
       "    </tr>\n",
       "    <tr>\n",
       "      <th>890</th>\n",
       "      <td>0.0</td>\n",
       "      <td>1.0</td>\n",
       "      <td>0.396833</td>\n",
       "      <td>0.000</td>\n",
       "      <td>0.000000</td>\n",
       "      <td>0.015127</td>\n",
       "    </tr>\n",
       "  </tbody>\n",
       "</table>\n",
       "<p>891 rows × 6 columns</p>\n",
       "</div>"
      ],
      "text/plain": [
       "     survived  pclass       age  sibsp     parch      fare\n",
       "0         0.0     1.0  0.271174  0.125  0.000000  0.014151\n",
       "1         1.0     0.0  0.472229  0.125  0.000000  0.139136\n",
       "2         1.0     1.0  0.321438  0.000  0.000000  0.015469\n",
       "3         1.0     0.0  0.434531  0.125  0.000000  0.103644\n",
       "4         0.0     1.0  0.434531  0.000  0.000000  0.015713\n",
       "..        ...     ...       ...    ...       ...       ...\n",
       "886       0.0     0.5  0.334004  0.000  0.000000  0.025374\n",
       "887       1.0     0.0  0.233476  0.000  0.000000  0.058556\n",
       "888       0.0     1.0       NaN  0.125  0.333333  0.045771\n",
       "889       1.0     0.0  0.321438  0.000  0.000000  0.058556\n",
       "890       0.0     1.0  0.396833  0.000  0.000000  0.015127\n",
       "\n",
       "[891 rows x 6 columns]"
      ]
     },
     "execution_count": 7,
     "metadata": {},
     "output_type": "execute_result"
    }
   ],
   "source": [
    "scaled_df"
   ]
  },
  {
   "cell_type": "markdown",
   "id": "3603c059-bcea-4e19-b6b1-1a54de334e6e",
   "metadata": {},
   "source": [
    "## Q2. What is the Unit Vector technique in feature scaling, and how does it differ from Min-Max scaling? Provide an example to illustrate its application."
   ]
  },
  {
   "cell_type": "markdown",
   "id": "8fa281fe-72bd-4b7e-91a4-a304c02ef31f",
   "metadata": {},
   "source": [
    "Unit vector scaling is a technique that rescales each feature to a unit vector. This means that the length of each feature vector is 1. This is done by dividing each feature vector by its magnitude.\n",
    "\n",
    "The main difference between unit vector scaling and min-max scaling is that unit vector scaling ensures that all features have the same importance, while min-max scaling ensures that all features are on a similar scale.\n",
    "\n",
    " let's say we have a dataset of customer data with the following features:\n",
    "\n",
    "Age\n",
    "Income\n",
    "Spending\n",
    "The age of the customers ranges from 18 to 65, the income ranges from 20,000 to 200,000, and the spending ranges from 1,000 to 10,000.\n",
    "\n",
    "If we apply unit vector scaling to this dataset, the age of the customers will be rescaled to a unit vector, the income will be rescaled to a unit vector, and the spending will be rescaled to a unit vector.\n",
    "\n",
    "This will ensure that all features have the same importance, but it will not ensure that all features are on a similar scale. For example, the age of the customers will still have a much larger range than the spending, even after unit vector scaling."
   ]
  },
  {
   "cell_type": "markdown",
   "id": "a17517d7-4fc5-4f3a-9c3b-38520409f344",
   "metadata": {},
   "source": [
    "## Q3. What is PCA (Principle Component Analysis), and how is it used in dimensionality reduction? Provide an example to illustrate its application."
   ]
  },
  {
   "cell_type": "markdown",
   "id": "f9bd0de8-8116-452d-b241-7ddc4d356e47",
   "metadata": {},
   "source": [
    "Principal component analysis (PCA) is a dimensionality reduction technique that finds a set of orthogonal (uncorrelated) directions in the data that capture the most variance. These directions are called principal components. The first principal component captures the most variance in the data, the second principal component captures the second most variance, and so on.\n",
    "\n"
   ]
  },
  {
   "cell_type": "markdown",
   "id": "49ab6a0a-8015-4122-835e-c265391cc8bf",
   "metadata": {},
   "source": [
    "## Q4. What is the relationship between PCA and Feature Extraction, and how can PCA be used for Feature Extraction? Provide an example to illustrate this concept."
   ]
  },
  {
   "cell_type": "markdown",
   "id": "1469b99d-d824-41b2-a592-a631441b98d4",
   "metadata": {},
   "source": [
    "Feature extraction is the process of reducing the number of features in a dataset while preserving as much information as possible. This can be done by selecting a subset of the original features, or by transforming the original features into a new set of features.\n",
    "\n",
    "PCA can be used for feature extraction by selecting the first few principal components. This will reduce the number of features in the dataset while preserving as much information as possible.\n",
    "\n",
    "Let's say we have a dataset of images of cats and dogs. We have a dataset of images with the following features:\n",
    "\n",
    "The color of the fur\n",
    "The shape of the ears\n",
    "The length of the tail\n",
    "The dataset has 1000 images, each with 3 features.\n",
    "\n",
    "We can apply PCA to the dataset to reduce the number of features. We choose to keep the first two principal components, which capture 90% of the variance in the data.\n",
    "\n",
    "This means that we can reduce the number of features from 3 to 2 without losing too much information. The two principal components can be used to represent the images of cats and dogs."
   ]
  },
  {
   "cell_type": "markdown",
   "id": "1b927d85-8e67-479c-a9b5-5a081be37fc6",
   "metadata": {},
   "source": [
    "## Q5. You are working on a project to build a recommendation system for a food delivery service. The dataset contains features such as price, rating, and delivery time. Explain how you would use Min-Max scaling to preprocess the data."
   ]
  },
  {
   "cell_type": "markdown",
   "id": "d976a513-6494-45e7-a3a6-4ed5942fa07a",
   "metadata": {},
   "source": [
    "To use Min-Max scaling on the dataset for the food delivery service, these are the steps:\n",
    "\n",
    "Import the MinMaxScaler class from the scikit-learn library.\n",
    "\n",
    "Create a MinMaxScaler object.\n",
    "\n",
    "Fit the MinMaxScaler object to the dataset.\n",
    "\n",
    "Transform the dataset using the MinMaxScaler object."
   ]
  },
  {
   "cell_type": "markdown",
   "id": "1164944b-a25d-4b8c-bfe1-aedc04667b9d",
   "metadata": {},
   "source": [
    "## Q6. You are working on a project to build a model to predict stock prices. The dataset contains many features, such as company financial data and market trends. Explain how you would use PCA to reduce the dimensionality of the dataset."
   ]
  },
  {
   "cell_type": "markdown",
   "id": "a08c8c8a-a3dc-489f-ab6e-29866ea7441e",
   "metadata": {},
   "source": [
    "Import the PCA class from the scikit-learn library.\n",
    "\n",
    "Create a PCA object.\n",
    "\n",
    "Fit the PCA object to the dataset.\n",
    "\n",
    "Transform the dataset using the PCA object."
   ]
  },
  {
   "cell_type": "markdown",
   "id": "8787eccb-8f96-4e0c-ae9e-5fd9907cbc0c",
   "metadata": {},
   "source": [
    "## Q7. For a dataset containing the following values: [1, 5, 10, 15, 20], perform Min-Max scaling to transform the values to a range of -1 to 1."
   ]
  },
  {
   "cell_type": "code",
   "execution_count": 8,
   "id": "d926df56-9176-477e-8a63-e7c1cb821997",
   "metadata": {},
   "outputs": [],
   "source": [
    "df1=pd.DataFrame([1, 5, 10, 15, 20],columns=['values'])\n",
    "minmaxscalar=MinMaxScaler(feature_range=(-1,1))\n",
    "minmaxscalar.fit(df1)\n",
    "scaled_values=minmaxscalar.transform(df1)"
   ]
  },
  {
   "cell_type": "code",
   "execution_count": 9,
   "id": "1bac518d-1e51-4a67-89bd-c4355f11f928",
   "metadata": {},
   "outputs": [
    {
     "data": {
      "text/plain": [
       "array([[-1.        ],\n",
       "       [-0.57894737],\n",
       "       [-0.05263158],\n",
       "       [ 0.47368421],\n",
       "       [ 1.        ]])"
      ]
     },
     "execution_count": 9,
     "metadata": {},
     "output_type": "execute_result"
    }
   ],
   "source": [
    "scaled_values"
   ]
  },
  {
   "cell_type": "markdown",
   "id": "34371d32-e1ae-40c5-a8b2-357f9807c49e",
   "metadata": {},
   "source": [
    "## Q8. For a dataset containing the following features: [height, weight, age, gender, blood pressure], perform Feature Extraction using PCA. How many principal components would you choose to retain, and why?"
   ]
  },
  {
   "cell_type": "code",
   "execution_count": 43,
   "id": "94bad900-453e-402d-8df8-521188697450",
   "metadata": {},
   "outputs": [
    {
     "data": {
      "text/html": [
       "<div>\n",
       "<style scoped>\n",
       "    .dataframe tbody tr th:only-of-type {\n",
       "        vertical-align: middle;\n",
       "    }\n",
       "\n",
       "    .dataframe tbody tr th {\n",
       "        vertical-align: top;\n",
       "    }\n",
       "\n",
       "    .dataframe thead th {\n",
       "        text-align: right;\n",
       "    }\n",
       "</style>\n",
       "<table border=\"1\" class=\"dataframe\">\n",
       "  <thead>\n",
       "    <tr style=\"text-align: right;\">\n",
       "      <th></th>\n",
       "      <th>height</th>\n",
       "      <th>weight</th>\n",
       "      <th>gender</th>\n",
       "    </tr>\n",
       "  </thead>\n",
       "  <tbody>\n",
       "    <tr>\n",
       "      <th>0</th>\n",
       "      <td>166</td>\n",
       "      <td>75</td>\n",
       "      <td>F</td>\n",
       "    </tr>\n",
       "    <tr>\n",
       "      <th>1</th>\n",
       "      <td>149</td>\n",
       "      <td>50</td>\n",
       "      <td>F</td>\n",
       "    </tr>\n",
       "    <tr>\n",
       "      <th>2</th>\n",
       "      <td>143</td>\n",
       "      <td>67</td>\n",
       "      <td>M</td>\n",
       "    </tr>\n",
       "    <tr>\n",
       "      <th>3</th>\n",
       "      <td>164</td>\n",
       "      <td>44</td>\n",
       "      <td>M</td>\n",
       "    </tr>\n",
       "    <tr>\n",
       "      <th>4</th>\n",
       "      <td>165</td>\n",
       "      <td>81</td>\n",
       "      <td>M</td>\n",
       "    </tr>\n",
       "    <tr>\n",
       "      <th>5</th>\n",
       "      <td>149</td>\n",
       "      <td>70</td>\n",
       "      <td>F</td>\n",
       "    </tr>\n",
       "    <tr>\n",
       "      <th>6</th>\n",
       "      <td>151</td>\n",
       "      <td>79</td>\n",
       "      <td>M</td>\n",
       "    </tr>\n",
       "    <tr>\n",
       "      <th>7</th>\n",
       "      <td>145</td>\n",
       "      <td>63</td>\n",
       "      <td>M</td>\n",
       "    </tr>\n",
       "    <tr>\n",
       "      <th>8</th>\n",
       "      <td>142</td>\n",
       "      <td>58</td>\n",
       "      <td>F</td>\n",
       "    </tr>\n",
       "    <tr>\n",
       "      <th>9</th>\n",
       "      <td>160</td>\n",
       "      <td>57</td>\n",
       "      <td>M</td>\n",
       "    </tr>\n",
       "  </tbody>\n",
       "</table>\n",
       "</div>"
      ],
      "text/plain": [
       "   height  weight gender\n",
       "0     166      75      F\n",
       "1     149      50      F\n",
       "2     143      67      M\n",
       "3     164      44      M\n",
       "4     165      81      M\n",
       "5     149      70      F\n",
       "6     151      79      M\n",
       "7     145      63      M\n",
       "8     142      58      F\n",
       "9     160      57      M"
      ]
     },
     "execution_count": 43,
     "metadata": {},
     "output_type": "execute_result"
    }
   ],
   "source": [
    "import numpy as np\n",
    "import pandas as pd\n",
    "df2=pd.DataFrame({'height':np.random.randint(140,190,10),\n",
    "                 'weight':np.random.randint(40,90,10),\n",
    "                 'gender':np.random.choice(['M','F'],size=10)})\n",
    "df2"
   ]
  },
  {
   "cell_type": "code",
   "execution_count": 45,
   "id": "708e935b-be64-4962-8912-321e76476c2b",
   "metadata": {},
   "outputs": [],
   "source": [
    "from sklearn.preprocessing import StandardScaler\n",
    "from sklearn.decomposition import PCA\n",
    "to_scale=df2[['height','weight']]\n",
    "scalar=StandardScaler()\n",
    "scaled=scalar.fit_transform(to_scale)\n",
    "pca=PCA()\n",
    "transformed=pca.fit_transform(scaled)"
   ]
  },
  {
   "cell_type": "code",
   "execution_count": 46,
   "id": "0b330b74-6a36-4ba6-b094-b60ba55b3417",
   "metadata": {},
   "outputs": [
    {
     "data": {
      "text/plain": [
       "array([[ 1.63725155,  0.35200173],\n",
       "       [-1.22032982,  0.52566994],\n",
       "       [-0.66333669, -0.97858665],\n",
       "       [-0.40000043,  2.07349922],\n",
       "       [ 1.92206288, -0.09068684],\n",
       "       [-0.00782999, -0.68682989],\n",
       "       [ 0.69567218, -1.07457757],\n",
       "       [-0.74795941, -0.57820944],\n",
       "       [-1.28790024, -0.51190035],\n",
       "       [ 0.07236997,  0.96961984]])"
      ]
     },
     "execution_count": 46,
     "metadata": {},
     "output_type": "execute_result"
    }
   ],
   "source": [
    "transformed"
   ]
  },
  {
   "cell_type": "code",
   "execution_count": null,
   "id": "015643bc-cd2a-422f-ae76-a421db4d4f37",
   "metadata": {},
   "outputs": [],
   "source": []
  }
 ],
 "metadata": {
  "kernelspec": {
   "display_name": "Python 3 (ipykernel)",
   "language": "python",
   "name": "python3"
  },
  "language_info": {
   "codemirror_mode": {
    "name": "ipython",
    "version": 3
   },
   "file_extension": ".py",
   "mimetype": "text/x-python",
   "name": "python",
   "nbconvert_exporter": "python",
   "pygments_lexer": "ipython3",
   "version": "3.10.8"
  }
 },
 "nbformat": 4,
 "nbformat_minor": 5
}
