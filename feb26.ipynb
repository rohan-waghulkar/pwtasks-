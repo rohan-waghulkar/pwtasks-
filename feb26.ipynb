{
 "cells": [
  {
   "cell_type": "code",
   "execution_count": 1,
   "id": "b3abfa6a-bf2d-4325-89f1-5599de392900",
   "metadata": {},
   "outputs": [],
   "source": [
    "import numpy as np\n",
    "list_ = [ '1' , '2' , '3' , '4' , '5' ]\n",
    "array_list = np.array(object = list_)"
   ]
  },
  {
   "cell_type": "markdown",
   "id": "bbe35766-fb7a-49fd-93ac-da997cda8c25",
   "metadata": {},
   "source": [
    "## Q1. Is there any difference in the data type of variables list_ and array_list? If there is then write a code to print the data types of both the variables."
   ]
  },
  {
   "cell_type": "markdown",
   "id": "cbb6ca5c-e2be-4273-bcef-9ff2068dd63d",
   "metadata": {},
   "source": [
    "## a Python list (list) can contain elements of any data type, while a NumPy array (numpy.ndarray) has a fixed data type for all its elements"
   ]
  },
  {
   "cell_type": "code",
   "execution_count": 2,
   "id": "0561bf71-6817-415b-a6cb-8998ca7e4623",
   "metadata": {},
   "outputs": [
    {
     "name": "stdout",
     "output_type": "stream",
     "text": [
      "<class 'list'>\n",
      "<class 'numpy.ndarray'>\n"
     ]
    }
   ],
   "source": [
    "\n",
    "list_ = [1, 2, 3, 4, 5]\n",
    "array_list = np.array([1, 2, 3, 4, 5])\n",
    "\n",
    "print(type(list_))\n",
    "print(type(array_list))\n"
   ]
  },
  {
   "cell_type": "markdown",
   "id": "c06dc70b-6ccd-40b1-b80d-8bc06f64ac9e",
   "metadata": {},
   "source": [
    "## Q2. Write a code to print the data type of each and every element of both the variables list_ and arra_list."
   ]
  },
  {
   "cell_type": "code",
   "execution_count": 3,
   "id": "3ad639f3-878a-48bf-8d78-454050e1a105",
   "metadata": {},
   "outputs": [],
   "source": [
    "def dtype(l):\n",
    "    for i in l:\n",
    "        print(type(i))\n",
    "    return None"
   ]
  },
  {
   "cell_type": "code",
   "execution_count": 4,
   "id": "7c0e595f-0a57-4dd4-8fa9-4a36e8c00e05",
   "metadata": {},
   "outputs": [
    {
     "name": "stdout",
     "output_type": "stream",
     "text": [
      "<class 'int'>\n",
      "<class 'int'>\n",
      "<class 'int'>\n",
      "<class 'int'>\n",
      "<class 'int'>\n"
     ]
    }
   ],
   "source": [
    "dtype(list_)"
   ]
  },
  {
   "cell_type": "code",
   "execution_count": 6,
   "id": "54b1ae97-5884-4466-b7bb-be11d7bec248",
   "metadata": {},
   "outputs": [
    {
     "name": "stdout",
     "output_type": "stream",
     "text": [
      "<class 'numpy.int64'>\n",
      "<class 'numpy.int64'>\n",
      "<class 'numpy.int64'>\n",
      "<class 'numpy.int64'>\n",
      "<class 'numpy.int64'>\n"
     ]
    }
   ],
   "source": [
    "dtype(array_list)"
   ]
  },
  {
   "cell_type": "markdown",
   "id": "75cf52f5-a7d4-45ab-b3a2-8241a2d3f809",
   "metadata": {},
   "source": [
    "## Q3. Considering the following changes in the variable, array_list:\n",
    "## array_list = np.array(object = list_, dtype = int)\n",
    "## Will there be any difference in the data type of the elements present in both the variables, list_ and arra_list? If so then print the data types of each and every element present in both the variables, list_ and arra_list.\n",
    "## Consider the below code to answer further questions:\n"
   ]
  },
  {
   "cell_type": "code",
   "execution_count": 2,
   "id": "3bfe36fc-9e7e-404a-9aa6-ecba79813fee",
   "metadata": {},
   "outputs": [],
   "source": [
    "import numpy as np\n",
    "num_list = [ [ 1 , 2 , 3 ] , [ 4 , 5 , 6 ] ]\n",
    "num_array = np.array(object = num_list)"
   ]
  },
  {
   "cell_type": "markdown",
   "id": "dbf9492d-3712-495f-82d3-fc848eef132f",
   "metadata": {},
   "source": [
    "Yes, there will be a difference in the data type of the elements present in the variables list_ and array_list\n",
    "\n",
    "The dtype parameter in the np.array() function specifies the desired data type of the elements in the resulting NumPy array. In this case, we have specified int as the data type, which means that all elements in array_list will be of integer type, regardless of their original type in list_"
   ]
  },
  {
   "cell_type": "code",
   "execution_count": 1,
   "id": "9449118c-d3db-4dad-9e7e-396d2ded9d73",
   "metadata": {},
   "outputs": [
    {
     "name": "stdout",
     "output_type": "stream",
     "text": [
      "<class 'int'>\n",
      "<class 'int'>\n",
      "<class 'int'>\n",
      "<class 'int'>\n",
      "<class 'int'>\n",
      "<class 'numpy.int64'>\n",
      "<class 'numpy.int64'>\n",
      "<class 'numpy.int64'>\n",
      "<class 'numpy.int64'>\n",
      "<class 'numpy.int64'>\n"
     ]
    }
   ],
   "source": [
    "import numpy as np\n",
    "\n",
    "list_ = [1, 2, 3, 4, 5]\n",
    "array_list = np.array(object=list_, dtype=int)\n",
    "for element in list_:\n",
    "    print(type(element))\n",
    "for element in array_list:\n",
    "    print(type(element))\n"
   ]
  },
  {
   "cell_type": "markdown",
   "id": "43fc9e65-4dd1-42aa-ae1c-62b98adc3f53",
   "metadata": {},
   "source": [
    "## Q4. Write a code to find the following characteristics of variable, num_array:\n",
    "## (i) shape\n",
    "## (ii) size"
   ]
  },
  {
   "cell_type": "code",
   "execution_count": 4,
   "id": "b034fa1c-e755-4d18-b0f3-edbe90b51a93",
   "metadata": {},
   "outputs": [
    {
     "data": {
      "text/plain": [
       "(2, 3)"
      ]
     },
     "execution_count": 4,
     "metadata": {},
     "output_type": "execute_result"
    }
   ],
   "source": [
    "num_array.shape"
   ]
  },
  {
   "cell_type": "code",
   "execution_count": 5,
   "id": "f0f1a723-1b57-4fac-a476-f2159dd6d35e",
   "metadata": {},
   "outputs": [
    {
     "data": {
      "text/plain": [
       "6"
      ]
     },
     "execution_count": 5,
     "metadata": {},
     "output_type": "execute_result"
    }
   ],
   "source": [
    "num_array.size"
   ]
  },
  {
   "cell_type": "markdown",
   "id": "8dbcd0b6-fcb9-43dd-9b87-938064c21664",
   "metadata": {},
   "source": [
    "## Q5. Write a code to create numpy array of 3*3 matrix containing zeros only, using a numpy array creation function.\n",
    " [Hint: The size of the array will be 9 and the shape will be (3,3).]"
   ]
  },
  {
   "cell_type": "code",
   "execution_count": 7,
   "id": "5b906e51-2e2d-4538-b4ea-6769a2c9fb64",
   "metadata": {},
   "outputs": [],
   "source": [
    "zeromat=np.zeros((3,3))"
   ]
  },
  {
   "cell_type": "code",
   "execution_count": 8,
   "id": "6460a98a-62d9-4e19-a395-8451c36076df",
   "metadata": {},
   "outputs": [
    {
     "data": {
      "text/plain": [
       "array([[0., 0., 0.],\n",
       "       [0., 0., 0.],\n",
       "       [0., 0., 0.]])"
      ]
     },
     "execution_count": 8,
     "metadata": {},
     "output_type": "execute_result"
    }
   ],
   "source": [
    "zeromat"
   ]
  },
  {
   "cell_type": "markdown",
   "id": "1f7935b4-4464-41c3-bcdd-b2be191a9d13",
   "metadata": {},
   "source": [
    "## Q6. Create an identity matrix of shape (5,5) using numpy functions?\n",
    "[Hint: An identity matrix is a matrix containing 1 diagonally and other elements will be 0.]"
   ]
  },
  {
   "cell_type": "code",
   "execution_count": 9,
   "id": "4a79a176-f2a7-467e-b9fd-6ecc95d013ce",
   "metadata": {},
   "outputs": [],
   "source": [
    "id_mat=np.identity(5)"
   ]
  },
  {
   "cell_type": "code",
   "execution_count": 10,
   "id": "e6bf6731-0a90-41c2-8e2a-99130307527c",
   "metadata": {},
   "outputs": [
    {
     "data": {
      "text/plain": [
       "array([[1., 0., 0., 0., 0.],\n",
       "       [0., 1., 0., 0., 0.],\n",
       "       [0., 0., 1., 0., 0.],\n",
       "       [0., 0., 0., 1., 0.],\n",
       "       [0., 0., 0., 0., 1.]])"
      ]
     },
     "execution_count": 10,
     "metadata": {},
     "output_type": "execute_result"
    }
   ],
   "source": [
    "id_mat"
   ]
  },
  {
   "cell_type": "code",
   "execution_count": null,
   "id": "4d5bdf94-7d80-4c0f-8cf8-1c2a498bc526",
   "metadata": {},
   "outputs": [],
   "source": []
  }
 ],
 "metadata": {
  "kernelspec": {
   "display_name": "Python 3 (ipykernel)",
   "language": "python",
   "name": "python3"
  },
  "language_info": {
   "codemirror_mode": {
    "name": "ipython",
    "version": 3
   },
   "file_extension": ".py",
   "mimetype": "text/x-python",
   "name": "python",
   "nbconvert_exporter": "python",
   "pygments_lexer": "ipython3",
   "version": "3.10.8"
  }
 },
 "nbformat": 4,
 "nbformat_minor": 5
}
