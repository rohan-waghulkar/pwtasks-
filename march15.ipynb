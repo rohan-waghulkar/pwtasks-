{
 "cells": [
  {
   "cell_type": "markdown",
   "id": "3b322aec-97ce-4148-9649-efc9613304a2",
   "metadata": {},
   "source": [
    "## Q1 Explain the following with an eample :\n",
    "1) Artificial Intelligence\n",
    "2) Machine Learning\n",
    "3) Deep Learning"
   ]
  },
  {
   "cell_type": "markdown",
   "id": "f4946afe-d85d-4ebe-918e-8a0101931038",
   "metadata": {},
   "source": [
    "1. Artificial intelligence (AI): it refers to the simulation of intelligent behavior in machine that can perform tasks that usually require human intelligence,such as learning,problem-solving,make prediction etc.\n",
    "Example: various AI tools like chat GPT ,perplexity ai and much more where we can ask anything and we will get an appropriate answer for our query.\n",
    "2. MAchine Lerning (ML): ML is the subset of AI that involves use of algorithms to enable machine to learn from previous data.\n",
    "Example : image recognition.\n",
    "3. Deep Learning (DL) : Deep Learning (DL): DL is a subset of ML that involves the use of artificial neural networks to enable machines to learn from data and improve their performance in complex tasks. \n",
    "Example: A common example of DL is self-driving cars. "
   ]
  },
  {
   "cell_type": "markdown",
   "id": "47d5f665-fc18-4f43-b3bc-cf9760eba0d0",
   "metadata": {},
   "source": [
    "## Q2 What is supervised learning? List some examples of supervised learning."
   ]
  },
  {
   "cell_type": "markdown",
   "id": "2ec33846-ce9c-47f7-b446-eeb5cc2cbd4c",
   "metadata": {},
   "source": [
    "supervised learning is a type of machine learning in which an algorithm learns to make predictions or decisions based on labeled data. The labeled data includes both input data and the corresponding correct output or target variable. The algorithm tries to find patterns or relationships between the input data and the target variable, so that it can accurately predict the target variable for new, unseen data.\n",
    "\n",
    "Examples of supervised learning include:\n",
    "\n",
    "Image classification: given a set of labeled images of different objects, the algorithm learns to classify new images into the correct category.\n",
    "\n",
    "Spam detection: given a set of labeled emails as spam or not spam, the algorithm learns to classify new emails as spam or not spam.\n",
    "\n",
    "Regression: given a set of labeled data with input features and corresponding numerical values, the algorithm learns to predict a continuous target variable for new input data. An example could be predicting house prices based on features like location, size, and number of bedrooms.\n",
    "\n",
    "\n",
    "\n",
    "\n"
   ]
  },
  {
   "cell_type": "markdown",
   "id": "a5922250-e7a3-4d2d-a7fc-8a932def2637",
   "metadata": {},
   "source": [
    "## Q3 What is unsupervised learning? List some examples of unsupervised learning."
   ]
  },
  {
   "cell_type": "markdown",
   "id": "54acd64f-e3f7-4719-874e-9f1b9b44bf8a",
   "metadata": {},
   "source": [
    "Unsupervised learning is a type of machine learning in which the algorithm learns to find patterns or relationships in unlabeled data. Unlike supervised learning, there is no target variable or output to predict.\n",
    "\n",
    "Anomaly detection: identifying data points that are significantly different from the rest of the data. For example, detecting fraudulent transactions in a financial dataset.\n",
    "\n",
    "Dimensionality reduction: reducing the number of features in a dataset while retaining the most important information. For example, reducing the number of variables in a customer dataset while retaining the most important features that influence their purchasing behavior.\n",
    "\n",
    "Association rule learning: identifying patterns of co-occurrence or association between variables in a dataset. For example, identifying which products are often purchased together in a supermarket.\n"
   ]
  },
  {
   "cell_type": "markdown",
   "id": "f9ac133e-d8af-412f-af69-faca523c95f3",
   "metadata": {},
   "source": [
    "## Q4 What is thK difference between AI, ML, DL, and DS?"
   ]
  },
  {
   "cell_type": "markdown",
   "id": "bb2294e8-1ca0-4119-a6ac-2d171c765f64",
   "metadata": {},
   "source": [
    "1. AI (Artificial Intelligence) is a broad field that involves creating intelligent machines that can perform tasks that typically require human intelligence, such as understanding natural language, recognizing images, and making decisions. AI encompasses both machine learning and other methods such as rule-based systems and expert systems.\n",
    "\n",
    "2. ML (Machine Learning) is a subset of AI that involves training algorithms to learn patterns or relationships from data, without being explicitly programmed. ML algorithms use statistical techniques to improve their performance over time, and can be used for a variety of tasks such as classification, regression, and clustering.\n",
    "\n",
    "3. DL (Deep Learning) is a subset of ML that involves training deep neural networks, which are artificial neural networks with multiple layers of interconnected nodes. DL algorithms can learn complex patterns and representations from data, and are particularly effective for tasks such as image recognition, speech recognition, and natural language processing.\n",
    "\n",
    "4. DS (Data Science) is an interdisciplinary field that involves using scientific methods, processes, algorithms, and systems to extract knowledge and insights from structured and unstructured data. DS combines techniques from statistics, mathematics, computer science, and domain-specific knowledge to analyze and interpret data, and to develop predictive models and visualizations that can inform business decisions and scientific research."
   ]
  },
  {
   "cell_type": "markdown",
   "id": "6209e2e9-1339-4fe3-9878-ce2031404d3e",
   "metadata": {},
   "source": [
    "## Q5 What are the main differences between supervised, unsupervised, and semi-supervised learning?"
   ]
  },
  {
   "cell_type": "markdown",
   "id": "3d0891cb-0ad5-4f91-b56b-bf74d6788f96",
   "metadata": {},
   "source": [
    "Supervised Learning: In supervised learning, the algorithm learns to make predictions or decisions based on labeled data.\n",
    "\n",
    "Unsupervised learning : In unsupervised learning, the algorithm learns to find patterns or relationships in unlabeled data.\n",
    "\n",
    "Semi-Supervised Learning: In semi-supervised learning, the algorithm learns from a combination of labeled and unlabeled data. "
   ]
  },
  {
   "cell_type": "markdown",
   "id": "8776cb92-5e38-4d78-97ef-8e3cd9f7aa24",
   "metadata": {},
   "source": [
    "## Q6 What is train, test and validation split? Explain the importance of each term."
   ]
  },
  {
   "cell_type": "markdown",
   "id": "0c26ebb8-efa0-451d-bdfb-5ad971e231bb",
   "metadata": {},
   "source": [
    "The trainnig set is used to train the model or the data maodel is trained on the this data to learn the relationship between input data and target variable.\n",
    "\n",
    "The testing set is used to evaluate the performance of the trained model.\n",
    "\n",
    "The validation set is used to tune the hyperparameters of the model. Hyperparameters are parameters that are not learned from the training data, but are set manually by the user, such as the learning rate or regularization strength.\n",
    "\n",
    "The importance of each of these subsets is as follows:\n",
    "\n",
    "Training set: The training set is the most important subset, as it is used to train the model. The quality and size of the training set can greatly affect the performance of the model.\n",
    "\n",
    "Testing set: The testing set is important because it provides an estimate of how well the model will perform on new, unseen data. It is important to use a separate testing set, so that the model is evaluated on data that it has not seen before.\n",
    "\n",
    "Validation set: The validation set is important because it is used to tune the hyperparameters of the model. By evaluating the performance of the model on the validation set, the user can adjust the hyperparameters to optimize the performance of the model on the testing set."
   ]
  },
  {
   "cell_type": "markdown",
   "id": "fc5617f7-5c78-4570-bbd7-e4841f28f905",
   "metadata": {},
   "source": [
    "## Q7 How can unsupervised learning be used in anomaly detection?"
   ]
  },
  {
   "cell_type": "markdown",
   "id": "a5e96d2e-0135-4d34-9a1d-f66df206685a",
   "metadata": {},
   "source": [
    "Unsupervised learning can be used in anomaly detection by training a model to identify patterns in the data, and then using those patterns to detect unusual or anomalous data points.\n",
    "\n",
    "One common approach is to use clustering algorithms to group similar data points together. Data points that are significantly different from the clusters may be considered anomalous. Another approach is to use density-based anomaly detection algorithms, which identify anomalies as data points that have a low probability of belonging to the same distribution as the rest of the data."
   ]
  },
  {
   "cell_type": "markdown",
   "id": "5f80145e-9be7-413a-8c79-870c7895eb70",
   "metadata": {},
   "source": [
    "## Q8 List down some commonly used supervised learning algorithms and unsupervised learning algorithms."
   ]
  },
  {
   "cell_type": "markdown",
   "id": "6251f2d8-8ac4-4069-87f5-ad72ef389104",
   "metadata": {},
   "source": [
    "#### Supervised learning algorithms:\n",
    "\n",
    "1. Linear Regression\n",
    "2. Logistic Regression\n",
    "3. Support Vector Machines (SVM)\n",
    "4. Decision Trees\n",
    "5. Random Forest\n",
    "6. Neural Networks\n",
    "7. K-Nearest Neighbors (KNN)\n",
    "8. Naive Bayes\n",
    "#### Unsupervised learning algorithms:\n",
    "\n",
    "1. K-Means Clustering\n",
    "2. Hierarchical Clustering\n",
    "3. Principal Component Analysis (PCA)\n",
    "4. Independent Component Analysis (ICA)\n",
    "5. t-Distributed Stochastic Neighbor Embedding (t-SNE)\n",
    "6. Gaussian Mixture Models (GMM)\n",
    "7. Apriori Algorithm (for Association Rule Mining)\n",
    "8. DBSCAN Clustering"
   ]
  },
  {
   "cell_type": "code",
   "execution_count": null,
   "id": "6eb0215e-f374-4861-86b0-0de148649d00",
   "metadata": {},
   "outputs": [],
   "source": []
  }
 ],
 "metadata": {
  "kernelspec": {
   "display_name": "Python 3 (ipykernel)",
   "language": "python",
   "name": "python3"
  },
  "language_info": {
   "codemirror_mode": {
    "name": "ipython",
    "version": 3
   },
   "file_extension": ".py",
   "mimetype": "text/x-python",
   "name": "python",
   "nbconvert_exporter": "python",
   "pygments_lexer": "ipython3",
   "version": "3.10.8"
  }
 },
 "nbformat": 4,
 "nbformat_minor": 5
}
