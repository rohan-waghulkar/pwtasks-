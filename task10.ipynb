{
 "cells": [
  {
   "cell_type": "markdown",
   "id": "14f8ddb1-30dd-410c-9dfa-1c8a92214ffb",
   "metadata": {},
   "source": [
    "## Q1. Which function is used to open a file? What are the different modes of opening a file? Explain each mode of file opening."
   ]
  },
  {
   "cell_type": "markdown",
   "id": "af7f14de-5761-469c-9a03-a335d9448bc2",
   "metadata": {},
   "source": [
    "###  There are two ways to open a file in perticular mode \n",
    "###  1. f=open(\"filename\",\"mode in which you want to open a file\")\n",
    "###  2. with open(\"filename\",\"mode in which you want to open a file\") as f:\n",
    "###  dufferent modes to open a file \n",
    "###  'r'       open for reading (default)\n",
    "###  'w'       open for writing, truncating the file first\n",
    "###  'x'       create a new file and open it for writing\n",
    "###  'a'       open for writing, appending to the end of the file if it exists\n",
    "###  'b'       binary mode\n",
    "###  't'       text mode (default)\n",
    "###  '+'       open a disk file for updating (reading and writing)\n",
    "###  'U'       universal newline mode (deprecated)\n"
   ]
  },
  {
   "cell_type": "markdown",
   "id": "ed1c675f-be71-4f73-be4d-925742402b9a",
   "metadata": {},
   "source": [
    "## Q2. Why close() function is used? Why is it important to close a file?"
   ]
  },
  {
   "cell_type": "markdown",
   "id": "9e6b4920-be4a-4c00-97bc-f5a17244699c",
   "metadata": {},
   "source": [
    "#### 1.when you open a file operating system allocates the system resourses to keep file open if you do not close the file after you are done using it, these resources will not be freed up, and your program may run out of resources if you open too many files.\n",
    "#### 2.Saving data: When you write data to a file, it is often buffered in memory before it is actually written to disk. If you do not close the file, there is a risk that some of the data may not be properly saved to disk.    "
   ]
  },
  {
   "cell_type": "markdown",
   "id": "737cf9e0-05b8-40d1-863d-d236c2c8e884",
   "metadata": {},
   "source": [
    "## Q3. Write a python program to create a text file. Write ‘I want to become a Data Scientist’ in that file. Then close the file. Open this file and read the content of the file."
   ]
  },
  {
   "cell_type": "code",
   "execution_count": 5,
   "id": "0e88a992-f33b-4041-8224-84b36378ebbf",
   "metadata": {},
   "outputs": [
    {
     "name": "stdout",
     "output_type": "stream",
     "text": [
      "i want to become data Scientist\n"
     ]
    }
   ],
   "source": [
    "f=open('test.txt','w')\n",
    "f.write(\"i want to become data Scientist\")\n",
    "f.close()\n",
    "f=open(\"test.txt\",'r')\n",
    "print(f.read())\n",
    "f.close()"
   ]
  },
  {
   "cell_type": "markdown",
   "id": "78eb7cb3-0348-47f8-afb4-840035fa534e",
   "metadata": {},
   "source": [
    "## Q4. Explain the following with python code: read(), readline() and readlines()."
   ]
  },
  {
   "cell_type": "markdown",
   "id": "3504ef80-3e48-4cad-ba3e-16bbbf0e2d09",
   "metadata": {},
   "source": [
    "#### 1.read(): This function reads the entire content of a file and returns it as a string. It takes an optional parameter that specifies the number of characters to read. If you do not specify a value, it will read the entire file.\n",
    "#### 2. readline(): This function reads a single line from a file and returns it as a string. It reads up to and including the first newline character ('\\n').\n",
    "#### 3.readlines(): This function reads the entire content of a file and returns it as a list of strings, with each string representing a single line from the file."
   ]
  },
  {
   "cell_type": "markdown",
   "id": "1a35c45f-1299-4b7c-b735-f1a2e63cccbe",
   "metadata": {},
   "source": [
    "## Q5. Explain why with statement is used with open(). What is the advantage of using with statement and open() together?"
   ]
  },
  {
   "cell_type": "markdown",
   "id": "8d150870-d31a-49af-a9e3-01d0ed297352",
   "metadata": {},
   "source": [
    "#### provide a way to automatically close a file after you are done using it. The advantage of using the with statement and open() together is that it simplifies your code and helps ensure that your files are properly closed, even if an error occurs.\n",
    "#### Here we do not have to close the file by calling close()"
   ]
  },
  {
   "cell_type": "markdown",
   "id": "ec3e396e-691a-437e-a559-4cb93976da6f",
   "metadata": {},
   "source": [
    "## Q6. Explain the write() and writelines() functions. Give a suitable example."
   ]
  },
  {
   "cell_type": "markdown",
   "id": "c50ad4ec-35ae-4832-aaec-b0deb5a1f4a0",
   "metadata": {},
   "source": [
    "#### Both write() and writelines() are uset to write data to the file but the difference is\n",
    "#### write(): This function writes a string of characters to a file. It returns the number of characters written to the file.\n",
    "#### writelines(): This function writes a list of strings to a file. Each string is written as a separate line in the file. It does not add newline characters between the strings.\n",
    "### Example :"
   ]
  },
  {
   "cell_type": "code",
   "execution_count": 1,
   "id": "69aa7159-ed3e-477c-bab0-5542262cba9f",
   "metadata": {},
   "outputs": [],
   "source": [
    "with open('test2.txt','w') as f1:\n",
    "    f1.write('this is a file for write method')"
   ]
  },
  {
   "cell_type": "code",
   "execution_count": 8,
   "id": "a96a6c2c-40bf-4f27-8732-9276e4ec1af8",
   "metadata": {},
   "outputs": [],
   "source": [
    "with open('test3.txt','w') as f2:\n",
    "    f2.writelines(['hello \\n','this is a file for writelines method \\n','thank you'])"
   ]
  },
  {
   "cell_type": "code",
   "execution_count": 9,
   "id": "5395529f-ddd6-4a11-a632-8b032452815d",
   "metadata": {},
   "outputs": [
    {
     "name": "stdout",
     "output_type": "stream",
     "text": [
      "this is a file for write method\n",
      "['hello \\n', 'this is a file for writelines method \\n', 'thank you']\n"
     ]
    }
   ],
   "source": [
    "with open('test2.txt','r') as f1,open('test3.txt','r') as f2:\n",
    "    print(f1.read())\n",
    "    s=f2.readlines()\n",
    "    print(s)"
   ]
  },
  {
   "cell_type": "code",
   "execution_count": null,
   "id": "8923a04b-557c-4a97-8ed2-b4e8d0fb9f49",
   "metadata": {},
   "outputs": [],
   "source": []
  },
  {
   "cell_type": "code",
   "execution_count": null,
   "id": "f7a54400-3ef6-401a-bcec-01452b26c8d4",
   "metadata": {},
   "outputs": [],
   "source": []
  }
 ],
 "metadata": {
  "kernelspec": {
   "display_name": "Python 3 (ipykernel)",
   "language": "python",
   "name": "python3"
  },
  "language_info": {
   "codemirror_mode": {
    "name": "ipython",
    "version": 3
   },
   "file_extension": ".py",
   "mimetype": "text/x-python",
   "name": "python",
   "nbconvert_exporter": "python",
   "pygments_lexer": "ipython3",
   "version": "3.10.8"
  }
 },
 "nbformat": 4,
 "nbformat_minor": 5
}
