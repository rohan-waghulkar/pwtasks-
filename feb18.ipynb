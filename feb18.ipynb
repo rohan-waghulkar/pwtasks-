{
 "cells": [
  {
   "cell_type": "markdown",
   "id": "0140e295-f989-4568-a601-b3f89eae277d",
   "metadata": {},
   "source": [
    "## Q1. What is an API? Give an example, where an API is used in real life."
   ]
  },
  {
   "cell_type": "markdown",
   "id": "61d766ae-75d4-452b-be61-80daa78956a7",
   "metadata": {},
   "source": [
    "An API Stands for Application Programming Interface which allows two applications to communicate with each other. an API allows a software to use the services of other software or application.\n",
    "\n",
    "For example, imagine you want to build a weather app. Instead of collecting weather data yourself, you can use an API provided by a weather service such as the National Weather Service or Weather Underground.\n",
    "\n",
    "Examples of API are :\n",
    " Google map api being used by cab service apps like ola and uber."
   ]
  },
  {
   "cell_type": "markdown",
   "id": "5711739f-a95b-4ddd-a81a-c68e82f080c0",
   "metadata": {},
   "source": [
    "## Q2. Give advantages and disadvantages of using API."
   ]
  },
  {
   "cell_type": "markdown",
   "id": "14573525-986d-4020-9542-12552930add8",
   "metadata": {},
   "source": [
    "#### Advantages :\n",
    "1. time and cost is saved by using api's of exisiting application\n",
    "2. APIs provide a standardized way for different applications to communicate with each other\n",
    "3. Flexibility: APIs can be used to add new features and functionality to an existing application without having to change the entire application.\n",
    "#### Disadvantages:\n",
    "1. Flexibility: APIs can be used to add new features and functionality to an existing application without having to change the entire application.\n",
    "2. Security: API's can expose sensitive data or cause other security issue."
   ]
  },
  {
   "cell_type": "markdown",
   "id": "edc5708c-2cd4-46cf-b931-a9582ac0b6eb",
   "metadata": {},
   "source": [
    "## Q3. What is a Web API? Differentiate between API and Web API."
   ]
  },
  {
   "cell_type": "markdown",
   "id": "807591e6-b11e-4c94-aa96-42b1bfb626ad",
   "metadata": {},
   "source": [
    "web api is a api that is accessed using HTTP protocol.it is used to interact with web based protocol\n",
    "\n",
    "The main difference between an API and a Web API is the way they are accessed. While an API can be accessed through any protocol or communication channel, a Web API is designed to be accessed using HTTP or HTTPS protocols over the internet.\n",
    "\n",
    "APIs can use any data format for their inputs and outputs, while Web APIs commonly use formats such as JSON or XML.\n"
   ]
  },
  {
   "cell_type": "markdown",
   "id": "bc920aa5-c656-4428-833f-1da8c923f218",
   "metadata": {},
   "source": [
    "## Q4. Explain REST and SOAP Architecture. Mention shortcomings of SOAP."
   ]
  },
  {
   "cell_type": "markdown",
   "id": "40522b27-1795-4480-9872-68cdc4dddd65",
   "metadata": {},
   "source": [
    "Representational State Transfer(REST) Architecture:\n",
    "REST is a lightweight and flexible architecture that is mainly used to build web-based APIs. \n",
    "\n",
    "REST is based on the HTTP protocol and uses HTTP methods such as GET, POST, PUT, and DELETE to interact with resources. \n",
    "\n",
    "REST APIs use URLs to identify resources and return responses in formats such as JSON or XML. \n",
    "\n",
    "REST architecture is simple, scalable, and easy to implement.\n",
    "\n",
    "Simple Object Access Protocol (SOAP) Architecture:\n",
    "\n",
    "SOAP is a messaging protocol used for exchanging structured information between applications. \n",
    "\n",
    "SOAP uses XML to define its message format and is designed to work with other protocols such as HTTP, SMTP, and TCP. \n",
    "\n",
    "SOAP APIs use the SOAP envelope to define the message format and are considered to be more structured and formal than REST APIs.\n",
    "\n",
    "Shortcomings of SOAP:\n",
    "Complexity: SOAP is more complex than other architectures, and can be difficult to understand and implement.\n",
    "\n",
    "Overhead: SOAP messages tend to be larger and more complex than messages from other architectures, which can create more overhead and slow down the API.\n",
    "\n",
    "Limited browser support: Since SOAP uses complex messages and XML formats, it can be difficult to use with web browsers and may require additional plugins or software.\n"
   ]
  },
  {
   "cell_type": "markdown",
   "id": "61ce0094-1055-4e68-8a17-a69a29e69582",
   "metadata": {},
   "source": [
    "## Q5. Differentiate between REST and SOAP."
   ]
  },
  {
   "cell_type": "markdown",
   "id": "c0033ce5-189d-40d4-bb5d-24b2d4e62715",
   "metadata": {},
   "source": [
    "Protocol: Rest uses HTTP and HTTPs protocol for communication and SOAP uses HTTP,SMTP,and TCP/IP protocol.\n",
    "\n",
    "Message format:REST APIs use simpler formats like JSON or XML to transfer data between clients and servers, whereas SOAP APIs use the XML format to encode messages.\n",
    "Performance: REST api is consider faster than SOAP due to their simpler message format."
   ]
  }
 ],
 "metadata": {
  "kernelspec": {
   "display_name": "Python 3 (ipykernel)",
   "language": "python",
   "name": "python3"
  },
  "language_info": {
   "codemirror_mode": {
    "name": "ipython",
    "version": 3
   },
   "file_extension": ".py",
   "mimetype": "text/x-python",
   "name": "python",
   "nbconvert_exporter": "python",
   "pygments_lexer": "ipython3",
   "version": "3.10.8"
  }
 },
 "nbformat": 4,
 "nbformat_minor": 5
}
