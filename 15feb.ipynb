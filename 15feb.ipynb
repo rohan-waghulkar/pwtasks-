{
 "cells": [
  {
   "cell_type": "markdown",
   "id": "4dc514e6-25c6-48ca-827a-6497111dead2",
   "metadata": {},
   "source": [
    "## Q1. What is multiprocessing in python? Why is it useful?"
   ]
  },
  {
   "cell_type": "markdown",
   "id": "87f0c517-5c7c-49fb-915c-42134b53317d",
   "metadata": {},
   "source": [
    "Multiprocessing a process of running multiple processes at single time. to do so we use module 'multipriocessing'\n",
    "\n",
    "it allows us to use multiple core of the processor that leads to fater execution of the program.\n",
    "\n",
    "it improves performance and reliability of the program."
   ]
  },
  {
   "cell_type": "markdown",
   "id": "7ff2efa9-3e5e-4234-b877-71915283b7d7",
   "metadata": {},
   "source": [
    "## Q2. What are the differences between multiprocessing and multithreading?"
   ]
  },
  {
   "cell_type": "markdown",
   "id": "75abf06f-9544-4b62-8c0d-6aefa7c006c2",
   "metadata": {},
   "source": [
    "1. Multiprocessing involves running multiple processes in parallel, each with its own memory space, while multithreading involves running multiple threads within a single process that share the same memory space.\n",
    "2. multiprocessing allocates saperate memory for every single proccess while multithreading share common memory\n",
    "3. multiprocessing is faster than multithreding because it uses multiple cores"
   ]
  },
  {
   "cell_type": "markdown",
   "id": "a66fd5ac-061a-4e2c-8ab4-89af31008245",
   "metadata": {},
   "source": [
    "## Q3. Write a python code to create a process using the multiprocessing module."
   ]
  },
  {
   "cell_type": "code",
   "execution_count": 32,
   "id": "ad1d9096-9690-407f-877e-4c258228510a",
   "metadata": {},
   "outputs": [],
   "source": [
    "def revnum(x):\n",
    "    result=0\n",
    "    while(x>0):\n",
    "        t=x%10\n",
    "        result=(result*10)+t\n",
    "        x=x//10\n",
    "    print(result)"
   ]
  },
  {
   "cell_type": "code",
   "execution_count": 33,
   "id": "25fabe28-b665-4133-9cba-bc338b7b3387",
   "metadata": {},
   "outputs": [],
   "source": [
    "import multiprocessing"
   ]
  },
  {
   "cell_type": "code",
   "execution_count": 34,
   "id": "e7f31003-34fb-417e-9032-1f73cefdc905",
   "metadata": {},
   "outputs": [],
   "source": [
    "lst=[113,321,234,453,2334,234]"
   ]
  },
  {
   "cell_type": "code",
   "execution_count": 35,
   "id": "6357e97e-edb5-482e-9a1f-0d375596261a",
   "metadata": {},
   "outputs": [
    {
     "name": "stdout",
     "output_type": "stream",
     "text": [
      "311\n",
      "123\n",
      "432\n",
      "354\n",
      "4332\n",
      "432\n"
     ]
    }
   ],
   "source": [
    "for i in lst:\n",
    "    p=multiprocessing.Process(target=revnum,args=(i,))\n",
    "    p.start()\n",
    "if __name__=='__main__':\n",
    "    for _ in lst:\n",
    "        p.join()"
   ]
  },
  {
   "cell_type": "markdown",
   "id": "d1cdbb15-61ea-4a65-ad33-8c003b8d2d1c",
   "metadata": {},
   "source": [
    "## Q4. What is a multiprocessing pool in python? Why is it used?"
   ]
  },
  {
   "cell_type": "markdown",
   "id": "81cc5395-e68d-43ad-bf4f-2bcc36bfaf1d",
   "metadata": {},
   "source": [
    "A multiprocessing pool in Python is a way to create multiple processes that execute the same function in parallel."
   ]
  },
  {
   "cell_type": "markdown",
   "id": "6c08e368-8832-4efa-a879-989782fc8739",
   "metadata": {},
   "source": [
    "## Q5. How can we create a pool of worker processes in python using the multiprocessing module?"
   ]
  },
  {
   "cell_type": "code",
   "execution_count": 12,
   "id": "741a6d25-cfe3-4138-abaf-55d094cf51dc",
   "metadata": {},
   "outputs": [],
   "source": [
    "def sqr(x):\n",
    "    print(x**2)\n"
   ]
  },
  {
   "cell_type": "code",
   "execution_count": 13,
   "id": "436cf2e7-81e4-4d1c-9c4b-114e0b679f25",
   "metadata": {},
   "outputs": [
    {
     "name": "stdout",
     "output_type": "stream",
     "text": [
      "1491625\n",
      "\n",
      "\n",
      "\n",
      "\n"
     ]
    }
   ],
   "source": [
    "import multiprocessing\n",
    "\n",
    "if __name__=='__main__':\n",
    "    with multiprocessing.Pool(processes=5) as p:\n",
    "        p.map(sqr,[1,2,3,4,5])"
   ]
  },
  {
   "cell_type": "markdown",
   "id": "13350d01-e23f-47bf-827a-a0417f996b3b",
   "metadata": {},
   "source": [
    "## Q6. Write a python program to create 4 processes,each process should print a different number using the multiprocessing module in python."
   ]
  },
  {
   "cell_type": "code",
   "execution_count": 25,
   "id": "aa9b58b9-d0f9-40f0-bef1-f9e64531cf8e",
   "metadata": {},
   "outputs": [
    {
     "name": "stdout",
     "output_type": "stream",
     "text": [
      "1023\n",
      "\n",
      "\n",
      "\n"
     ]
    }
   ],
   "source": [
    "def prnt(x):\n",
    "    print(x)\n",
    "with multiprocessing.Pool(processes=4) as p1:\n",
    "    p1.map(prnt, range(4)) "
   ]
  },
  {
   "cell_type": "code",
   "execution_count": null,
   "id": "ee6203ce-bdff-4fba-9e4a-b6082289c972",
   "metadata": {},
   "outputs": [],
   "source": []
  },
  {
   "cell_type": "code",
   "execution_count": null,
   "id": "8a545a60-c208-4628-a1ba-03b77e44ffbe",
   "metadata": {},
   "outputs": [],
   "source": []
  }
 ],
 "metadata": {
  "kernelspec": {
   "display_name": "Python 3 (ipykernel)",
   "language": "python",
   "name": "python3"
  },
  "language_info": {
   "codemirror_mode": {
    "name": "ipython",
    "version": 3
   },
   "file_extension": ".py",
   "mimetype": "text/x-python",
   "name": "python",
   "nbconvert_exporter": "python",
   "pygments_lexer": "ipython3",
   "version": "3.10.8"
  }
 },
 "nbformat": 4,
 "nbformat_minor": 5
}
