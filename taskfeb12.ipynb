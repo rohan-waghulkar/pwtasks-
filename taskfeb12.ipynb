{
 "cells": [
  {
   "cell_type": "markdown",
   "id": "07bbcb17-3ae0-49e1-bf6a-4f6ce7ce1ac8",
   "metadata": {},
   "source": [
    "# What is an Exception in python ? write the difference between Exception and Syntax error"
   ]
  },
  {
   "cell_type": "markdown",
   "id": "5d5037e1-b2d4-4178-a244-046644368943",
   "metadata": {},
   "source": [
    "#### an exception is an error that occurs during the execution of a program that disrupts the normal flow of control. Exceptions are raised when an error occurs, and they can be caught and handled by the program to prevent the program from crashing.\n",
    "#### A syntax error, on the other hand, is an error in the syntax of a program. It is a type of error that is detected by the interpreter when it is trying to parse the code. Syntax errors occur when the code violates the grammar rules of the programming language.\n",
    "#### The main difference between an exception and a syntax error is that a syntax error is a type of error that is detected by the interpreter during the parsing of the code, while an exception is an error that occurs during the execution of the program. Syntax errors are typically caused by typos, missing brackets, or other mistakes in the code, while exceptions are typically caused by errors in the logic or data used by the program."
   ]
  },
  {
   "cell_type": "markdown",
   "id": "164f322f-90d8-4d48-8c91-218070e6b631",
   "metadata": {},
   "source": [
    "# Q2. What happens when exception is not handled ? Explain with Example."
   ]
  },
  {
   "cell_type": "markdown",
   "id": "37a28a0e-3e28-401f-9451-7bf6e53c487e",
   "metadata": {},
   "source": [
    "#### when an exception is not handled at the time when exception occurce the program get terminate forcefully.this can couse unexpected bihavior of program and may be data loss  "
   ]
  },
  {
   "cell_type": "markdown",
   "id": "a3f11825-5079-436b-8f5d-2af663350754",
   "metadata": {},
   "source": [
    "#### example when exception is not handled"
   ]
  },
  {
   "cell_type": "code",
   "execution_count": 2,
   "id": "45097e40-afbb-4f20-821e-4a726a96a8d1",
   "metadata": {},
   "outputs": [
    {
     "ename": "ZeroDivisionError",
     "evalue": "division by zero",
     "output_type": "error",
     "traceback": [
      "\u001b[0;31m---------------------------------------------------------------------------\u001b[0m",
      "\u001b[0;31mZeroDivisionError\u001b[0m                         Traceback (most recent call last)",
      "Cell \u001b[0;32mIn[2], line 1\u001b[0m\n\u001b[0;32m----> 1\u001b[0m \u001b[38;5;28mprint\u001b[39m(\u001b[38;5;241;43m10\u001b[39;49m\u001b[38;5;241;43m/\u001b[39;49m\u001b[38;5;241;43m0\u001b[39;49m)\n\u001b[1;32m      2\u001b[0m \u001b[38;5;28mprint\u001b[39m(\u001b[38;5;124m'\u001b[39m\u001b[38;5;124mNext Statement\u001b[39m\u001b[38;5;124m'\u001b[39m)\n",
      "\u001b[0;31mZeroDivisionError\u001b[0m: division by zero"
     ]
    }
   ],
   "source": [
    "print(10/0)\n",
    "print('Next Statement')"
   ]
  },
  {
   "cell_type": "markdown",
   "id": "6260e0a4-92ad-4044-b32a-1a2a0caf8eba",
   "metadata": {},
   "source": [
    "when Exception is handled"
   ]
  },
  {
   "cell_type": "code",
   "execution_count": 3,
   "id": "959bc3fa-83f5-43de-b87e-4f40e14a8322",
   "metadata": {},
   "outputs": [
    {
     "name": "stdout",
     "output_type": "stream",
     "text": [
      "exception is handled\n",
      "Statement after handling exception\n"
     ]
    }
   ],
   "source": [
    "try:\n",
    "    print(10/0)\n",
    "except:\n",
    "    print('exception is handled')\n",
    "print('Statement after handling exception')"
   ]
  },
  {
   "cell_type": "markdown",
   "id": "cc642141-9e3b-4c9b-8668-cc0707255b88",
   "metadata": {},
   "source": [
    "# Q3. Which python statement is used to catch and handle exception ? explian with example."
   ]
  },
  {
   "cell_type": "markdown",
   "id": "f87715e2-65f4-4210-b1f2-c9fc4d50f516",
   "metadata": {},
   "source": [
    "To catch and handle exceptions in Python, we use the try-except statement. The try block contains the code that may raise an exception, and the except block contains the code that handles the exception if it is raised."
   ]
  },
  {
   "cell_type": "code",
   "execution_count": 6,
   "id": "21a06bb4-c3c8-48f0-ae71-bde8fccc51f8",
   "metadata": {},
   "outputs": [
    {
     "name": "stdout",
     "output_type": "stream",
     "text": [
      "division by zero\n"
     ]
    }
   ],
   "source": [
    "try:\n",
    "    1/0\n",
    "except Exception as e:\n",
    "    print(e)"
   ]
  },
  {
   "cell_type": "markdown",
   "id": "467f3336-7ddd-4e73-97bb-2d55cecd1200",
   "metadata": {},
   "source": [
    "## Q4. Explain with an Example \n",
    "##   try and else\n",
    "##   finally\n",
    "##   raise"
   ]
  },
  {
   "cell_type": "markdown",
   "id": "76bd7328-e1f2-4db1-a220-cee90886327c",
   "metadata": {},
   "source": [
    "1.The try block contains the code that may raise an exception and the else block has statement and this block execute only if the try block completes it execution without any exception \n",
    "\n",
    "2.finally :\n",
    "Using the finally block allows us to ensure that certain actions are always performed, regardless of whether an exception is raised or not. This is particularly useful when working with resources such as files, network connections, or database connections, which need to be closed or released to avoid resource leaks.\n",
    "\n",
    "3.raise:\n",
    " the raise keyword is used to raise an exception explicitly. This allows us to create and raise custom exceptions, or to re-raise an existing exception with additional information."
   ]
  },
  {
   "cell_type": "markdown",
   "id": "b8955455-6324-4748-b9ce-2bc93e3e454e",
   "metadata": {},
   "source": [
    "# Q5. What are coustom Exception in pyton ? Why do we need coustom exception ? Explian with an example"
   ]
  },
  {
   "cell_type": "markdown",
   "id": "5140a438-9d6e-467e-904a-9b30f3bd9c78",
   "metadata": {},
   "source": [
    " custom exceptions are user-defined exceptions that can be used to handle specific error conditions in a more tailored way than the built-in exceptions. Custom exceptions allow us to create our own exception types that are specific to our application and its requirements. This can make our code more readable, easier to maintain, and more robust."
   ]
  },
  {
   "cell_type": "code",
   "execution_count": 24,
   "id": "19a112d4-7b5b-49d7-b24f-c9e6d88f56fc",
   "metadata": {},
   "outputs": [],
   "source": [
    "class costomexcep(Exception):\n",
    "    def __init__(self,name):\n",
    "        self.name=name"
   ]
  },
  {
   "cell_type": "code",
   "execution_count": 28,
   "id": "dd314979-40ce-4577-ae4e-7bf823f85bb1",
   "metadata": {},
   "outputs": [],
   "source": [
    "def handlenameexceptiom(name):\n",
    "    if name.islower():\n",
    "        raise costomexcep(\"name must be in upper case\")\n",
    "    else:\n",
    "        return name"
   ]
  },
  {
   "cell_type": "code",
   "execution_count": 29,
   "id": "0fb4ea2e-5bc9-48ab-b1af-dda48e535ceb",
   "metadata": {},
   "outputs": [
    {
     "name": "stdin",
     "output_type": "stream",
     "text": [
      "Enter your name ferf\n"
     ]
    },
    {
     "name": "stdout",
     "output_type": "stream",
     "text": [
      "name must be in upper case\n"
     ]
    }
   ],
   "source": [
    "try:\n",
    "    name=handlenameexceptiom(str(input(\"Enter your name\")))\n",
    "except costomexcep as e:\n",
    "    print(e)\n",
    "else :\n",
    "    print('Entered name is ',name)"
   ]
  },
  {
   "cell_type": "markdown",
   "id": "489b8563-c512-44cd-abe4-db0925941e31",
   "metadata": {},
   "source": [
    "# Q6 crete a custom exception class. use this class to handle an exception"
   ]
  },
  {
   "cell_type": "code",
   "execution_count": 30,
   "id": "29069b17-7f0f-4949-bee3-747e15d2728c",
   "metadata": {},
   "outputs": [],
   "source": [
    "class InvalidPasswordException(Exception):\n",
    "    def __init__(self,password):\n",
    "        self.password=password"
   ]
  },
  {
   "cell_type": "code",
   "execution_count": 36,
   "id": "921da306-1c7f-4cb7-bd47-761ee421b7e5",
   "metadata": {},
   "outputs": [],
   "source": [
    "def throw(password):\n",
    "    digit=0\n",
    "    if len(password)!=8:\n",
    "        raise InvalidPasswordException(\"password must contian 8 characters\")\n",
    "    for i in password:\n",
    "        if i.isdigit():\n",
    "            digit+=1\n",
    "    if digit<3:\n",
    "        raise InvalidPasswordException(\"password must contain at least 3 digits\")\n",
    "    return password"
   ]
  },
  {
   "cell_type": "code",
   "execution_count": 38,
   "id": "386373b5-d99f-4f2b-9dc3-575d01359ec6",
   "metadata": {},
   "outputs": [
    {
     "name": "stdin",
     "output_type": "stream",
     "text": [
      "Enter password eee4444d\n"
     ]
    },
    {
     "name": "stdout",
     "output_type": "stream",
     "text": [
      "password accepted\n"
     ]
    }
   ],
   "source": [
    "try :\n",
    "    password=throw(str(input(\"Enter password\")))\n",
    "except InvalidPasswordException as e:\n",
    "    print(e)\n",
    "else:\n",
    "    print(\"password accepted\")"
   ]
  },
  {
   "cell_type": "code",
   "execution_count": null,
   "id": "f6a788cc-2973-43df-88f1-63b960105f56",
   "metadata": {},
   "outputs": [],
   "source": []
  }
 ],
 "metadata": {
  "kernelspec": {
   "display_name": "Python 3 (ipykernel)",
   "language": "python",
   "name": "python3"
  },
  "language_info": {
   "codemirror_mode": {
    "name": "ipython",
    "version": 3
   },
   "file_extension": ".py",
   "mimetype": "text/x-python",
   "name": "python",
   "nbconvert_exporter": "python",
   "pygments_lexer": "ipython3",
   "version": "3.10.8"
  }
 },
 "nbformat": 4,
 "nbformat_minor": 5
}
