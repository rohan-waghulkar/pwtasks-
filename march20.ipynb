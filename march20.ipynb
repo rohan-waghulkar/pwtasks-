{
 "cells": [
  {
   "cell_type": "markdown",
   "id": "54e3c621-4e61-42f7-955b-e7b42bd4a5bd",
   "metadata": {},
   "source": [
    "## Q1. What is data encoding? How is it useful in data science?"
   ]
  },
  {
   "cell_type": "markdown",
   "id": "0580523c-e4b6-49f0-94bd-cc8fcb2e349f",
   "metadata": {},
   "source": [
    "Data encodind is process of convering the data from one form to another for efficient sorage,transmission and processing \n",
    "\n",
    "Data encoding makes the data easier to process.\n",
    "\n",
    "### use of data encoding in data science\n",
    "data encoding is useful in training  the algorithms in machine learning algorithm.\n",
    "\n",
    "as models works only on numerical data so it is important to convert the categorical data into numerical data, this is done by data encoding\n"
   ]
  },
  {
   "cell_type": "markdown",
   "id": "36495c89-c95a-4b08-88c4-6c2d21a321a7",
   "metadata": {},
   "source": [
    "## Q2. What is nominal encoding? Provide an example of how you would use it in a real-world scenario."
   ]
  },
  {
   "cell_type": "markdown",
   "id": "a44fb383-4b69-46a3-9d46-5f99ad84550c",
   "metadata": {},
   "source": [
    "the nominal encoding is a technique of converting the categorical data to numerical data.It is also known as categorical encoding \n",
    "\n",
    "OneHOtEncoding is one of the common encoding technique where each category is transformed into a binary vector where only one element is Hot(1) other elenents are cold(0).\n",
    "\n",
    "let's consider an we have data of an coustomer who have given tip,now we are using this data in owr machine learning algorithms. but there are some colums like sex,time etc.containing categorical data which is not processable to owr model. in this scenario we can yes nominal encoding\n",
    "\n",
    "for example:"
   ]
  },
  {
   "cell_type": "code",
   "execution_count": 1,
   "id": "7767f070-c0ee-4816-9a37-814b8066de1e",
   "metadata": {},
   "outputs": [],
   "source": [
    "import seaborn as sns\n",
    "from sklearn.preprocessing import OneHotEncoder\n",
    "import pandas as pd\n",
    "df=sns.load_dataset('tips')\n",
    "\n"
   ]
  },
  {
   "cell_type": "code",
   "execution_count": 2,
   "id": "7d39e560-2bd1-418d-ab29-184918bb9fc0",
   "metadata": {},
   "outputs": [
    {
     "data": {
      "text/html": [
       "<div>\n",
       "<style scoped>\n",
       "    .dataframe tbody tr th:only-of-type {\n",
       "        vertical-align: middle;\n",
       "    }\n",
       "\n",
       "    .dataframe tbody tr th {\n",
       "        vertical-align: top;\n",
       "    }\n",
       "\n",
       "    .dataframe thead th {\n",
       "        text-align: right;\n",
       "    }\n",
       "</style>\n",
       "<table border=\"1\" class=\"dataframe\">\n",
       "  <thead>\n",
       "    <tr style=\"text-align: right;\">\n",
       "      <th></th>\n",
       "      <th>total_bill</th>\n",
       "      <th>tip</th>\n",
       "      <th>sex</th>\n",
       "      <th>smoker</th>\n",
       "      <th>day</th>\n",
       "      <th>time</th>\n",
       "      <th>size</th>\n",
       "    </tr>\n",
       "  </thead>\n",
       "  <tbody>\n",
       "    <tr>\n",
       "      <th>0</th>\n",
       "      <td>16.99</td>\n",
       "      <td>1.01</td>\n",
       "      <td>Female</td>\n",
       "      <td>No</td>\n",
       "      <td>Sun</td>\n",
       "      <td>Dinner</td>\n",
       "      <td>2</td>\n",
       "    </tr>\n",
       "    <tr>\n",
       "      <th>1</th>\n",
       "      <td>10.34</td>\n",
       "      <td>1.66</td>\n",
       "      <td>Male</td>\n",
       "      <td>No</td>\n",
       "      <td>Sun</td>\n",
       "      <td>Dinner</td>\n",
       "      <td>3</td>\n",
       "    </tr>\n",
       "    <tr>\n",
       "      <th>2</th>\n",
       "      <td>21.01</td>\n",
       "      <td>3.50</td>\n",
       "      <td>Male</td>\n",
       "      <td>No</td>\n",
       "      <td>Sun</td>\n",
       "      <td>Dinner</td>\n",
       "      <td>3</td>\n",
       "    </tr>\n",
       "    <tr>\n",
       "      <th>3</th>\n",
       "      <td>23.68</td>\n",
       "      <td>3.31</td>\n",
       "      <td>Male</td>\n",
       "      <td>No</td>\n",
       "      <td>Sun</td>\n",
       "      <td>Dinner</td>\n",
       "      <td>2</td>\n",
       "    </tr>\n",
       "    <tr>\n",
       "      <th>4</th>\n",
       "      <td>24.59</td>\n",
       "      <td>3.61</td>\n",
       "      <td>Female</td>\n",
       "      <td>No</td>\n",
       "      <td>Sun</td>\n",
       "      <td>Dinner</td>\n",
       "      <td>4</td>\n",
       "    </tr>\n",
       "  </tbody>\n",
       "</table>\n",
       "</div>"
      ],
      "text/plain": [
       "   total_bill   tip     sex smoker  day    time  size\n",
       "0       16.99  1.01  Female     No  Sun  Dinner     2\n",
       "1       10.34  1.66    Male     No  Sun  Dinner     3\n",
       "2       21.01  3.50    Male     No  Sun  Dinner     3\n",
       "3       23.68  3.31    Male     No  Sun  Dinner     2\n",
       "4       24.59  3.61  Female     No  Sun  Dinner     4"
      ]
     },
     "execution_count": 2,
     "metadata": {},
     "output_type": "execute_result"
    }
   ],
   "source": [
    "df.head()"
   ]
  },
  {
   "cell_type": "code",
   "execution_count": 3,
   "id": "2c691984-79a8-4d20-b1ef-605fec947893",
   "metadata": {},
   "outputs": [],
   "source": [
    "encoder=OneHotEncoder()"
   ]
  },
  {
   "cell_type": "code",
   "execution_count": 4,
   "id": "0c2d22ce-fad2-490a-a7cc-23805a8a4d4b",
   "metadata": {},
   "outputs": [],
   "source": [
    "encoded_field=encoder.fit_transform(df[['sex']]).toarray()   # encoding sex column "
   ]
  },
  {
   "cell_type": "code",
   "execution_count": 5,
   "id": "bbc5e394-b857-4a2e-9d49-edc0a49549b3",
   "metadata": {},
   "outputs": [],
   "source": [
    "encoded_df=pd.DataFrame(encoded_field,columns=encoder.get_feature_names_out())"
   ]
  },
  {
   "cell_type": "code",
   "execution_count": 6,
   "id": "10cc15ea-2947-4f2c-aa56-bee6687c03e7",
   "metadata": {},
   "outputs": [
    {
     "data": {
      "text/html": [
       "<div>\n",
       "<style scoped>\n",
       "    .dataframe tbody tr th:only-of-type {\n",
       "        vertical-align: middle;\n",
       "    }\n",
       "\n",
       "    .dataframe tbody tr th {\n",
       "        vertical-align: top;\n",
       "    }\n",
       "\n",
       "    .dataframe thead th {\n",
       "        text-align: right;\n",
       "    }\n",
       "</style>\n",
       "<table border=\"1\" class=\"dataframe\">\n",
       "  <thead>\n",
       "    <tr style=\"text-align: right;\">\n",
       "      <th></th>\n",
       "      <th>sex_Female</th>\n",
       "      <th>sex_Male</th>\n",
       "    </tr>\n",
       "  </thead>\n",
       "  <tbody>\n",
       "    <tr>\n",
       "      <th>0</th>\n",
       "      <td>1.0</td>\n",
       "      <td>0.0</td>\n",
       "    </tr>\n",
       "    <tr>\n",
       "      <th>1</th>\n",
       "      <td>0.0</td>\n",
       "      <td>1.0</td>\n",
       "    </tr>\n",
       "    <tr>\n",
       "      <th>2</th>\n",
       "      <td>0.0</td>\n",
       "      <td>1.0</td>\n",
       "    </tr>\n",
       "    <tr>\n",
       "      <th>3</th>\n",
       "      <td>0.0</td>\n",
       "      <td>1.0</td>\n",
       "    </tr>\n",
       "    <tr>\n",
       "      <th>4</th>\n",
       "      <td>1.0</td>\n",
       "      <td>0.0</td>\n",
       "    </tr>\n",
       "    <tr>\n",
       "      <th>...</th>\n",
       "      <td>...</td>\n",
       "      <td>...</td>\n",
       "    </tr>\n",
       "    <tr>\n",
       "      <th>239</th>\n",
       "      <td>0.0</td>\n",
       "      <td>1.0</td>\n",
       "    </tr>\n",
       "    <tr>\n",
       "      <th>240</th>\n",
       "      <td>1.0</td>\n",
       "      <td>0.0</td>\n",
       "    </tr>\n",
       "    <tr>\n",
       "      <th>241</th>\n",
       "      <td>0.0</td>\n",
       "      <td>1.0</td>\n",
       "    </tr>\n",
       "    <tr>\n",
       "      <th>242</th>\n",
       "      <td>0.0</td>\n",
       "      <td>1.0</td>\n",
       "    </tr>\n",
       "    <tr>\n",
       "      <th>243</th>\n",
       "      <td>1.0</td>\n",
       "      <td>0.0</td>\n",
       "    </tr>\n",
       "  </tbody>\n",
       "</table>\n",
       "<p>244 rows × 2 columns</p>\n",
       "</div>"
      ],
      "text/plain": [
       "     sex_Female  sex_Male\n",
       "0           1.0       0.0\n",
       "1           0.0       1.0\n",
       "2           0.0       1.0\n",
       "3           0.0       1.0\n",
       "4           1.0       0.0\n",
       "..          ...       ...\n",
       "239         0.0       1.0\n",
       "240         1.0       0.0\n",
       "241         0.0       1.0\n",
       "242         0.0       1.0\n",
       "243         1.0       0.0\n",
       "\n",
       "[244 rows x 2 columns]"
      ]
     },
     "execution_count": 6,
     "metadata": {},
     "output_type": "execute_result"
    }
   ],
   "source": [
    "encoded_df"
   ]
  },
  {
   "cell_type": "markdown",
   "id": "0828ca05-cc9d-4add-b36e-82886c2c0a4a",
   "metadata": {},
   "source": [
    "## Q3. In what situations is nominal encoding preferred over one-hot encoding? Provide a practical example."
   ]
  },
  {
   "cell_type": "markdown",
   "id": "792016e9-16c3-4747-ae4d-51d113145197",
   "metadata": {},
   "source": [
    "1. When dealing with categorical variables that have a high number of unique categories (high cardinality), one-hot encoding can result in a large number of columns, which can be computationally expensive and may lead to the curse of dimensionality. In such cases, nominal encoding techniques like label encoding or frequency encoding can be preferred as they reduce the dimensionality by assigning a single numerical value to each category.\n",
    "\n",
    "2. Ordinal encoding:  ordinal values has ranking among them so creating individual column for each category may not be a good approch. In this situation we can use the nominal encoding which will maintain the order..\n"
   ]
  },
  {
   "cell_type": "markdown",
   "id": "35bab9a3-327c-4286-9351-c9a9b57deb79",
   "metadata": {},
   "source": [
    "## Q4. Suppose you have a dataset containing categorical data with 5 unique values. Which encoding technique would you use to transform this data into a format suitable for machine learning algorithms? Explain why you made this choice."
   ]
  },
  {
   "cell_type": "markdown",
   "id": "472693b8-cc64-47c2-8059-4a49d9c8350a",
   "metadata": {},
   "source": [
    "It will be better to choose One-Hot Encodig technique because :\n",
    "\n",
    " 1. It ensures that each unique value has its own column, allowing machine learning algorithms to learn and differentiate between different categories effectively.\n",
    " 2. at it has only 5 unique values only 5 extra columns will be generated so it will not lead to any high dimensionality issue.\n",
    " 3. Compatibility with Algorithms: One-hot encoding is compatible with a wide range of machine learning algorithms. "
   ]
  },
  {
   "cell_type": "markdown",
   "id": "c6909c0a-fc2d-446a-ae38-9316bd0a6e86",
   "metadata": {},
   "source": [
    "## Q5. In a machine learning project, you have a dataset with 1000 rows and 5 columns. Two of the columns are categorical, and the remaining three columns are numerical. If you were to use nominal encoding to transform the categorical data, how many new columns would be created? Show your calculations."
   ]
  },
  {
   "cell_type": "markdown",
   "id": "3f5af389-6012-483e-906d-7d2ce7961423",
   "metadata": {},
   "source": [
    "Number of new columns to be generated after nominal encoding on a categorical data is depend on no of uniqe values in a column if there a n number of unique column n number of new rows will be generated \n",
    "\n",
    "in the example we have 2 categorical columns :\n",
    "suppose frist column has 4 unique values and second column has 5 unique values \n",
    "\n",
    "No.of new columns created are 4+5=9\n",
    "\n",
    "#### Number of new colums that will be created after nominal encodeing depends on number of unique valuesn in each column\n"
   ]
  },
  {
   "cell_type": "markdown",
   "id": "78ea5f24-331b-48d4-9a29-8e2778390b68",
   "metadata": {},
   "source": [
    "## Q6. You are working with a dataset containing information about different types of animals, including their species, habitat, and diet. Which encoding technique would you use to transform the categorical data into a format suitable for machine learning algorithms? Justify your answer."
   ]
  },
  {
   "cell_type": "markdown",
   "id": "67d235c1-87b7-4b45-9ad9-f3acfda3ea02",
   "metadata": {},
   "source": [
    "To transform the categorical data about different types of animals into a format suitable for machine learning algorithms, a suitable encoding technique would be one-hot encoding.\n",
    "\n",
    "1. for each distinct category seperate column will be created .which will be efficient for model to learn.\n",
    "2. Compatibility with Algorithms: One-hot encoding is widely supported by various machine learning algorithms. Many algorithms expect numerical inputs and are designed to handle binary-encoded categorical variables effectively. By transforming the categorical data into a binary format, one-hot encoding ensures compatibility and allows the \n",
    "3. Flexibility and Generalizability: One-hot encoding is a versatile technique that can handle categorical variables with varying numbers of unique categories. Whether you have a few or many unique categories in your dataset, one-hot encoding can efficiently transform the data into a format suitable for machine learning algorithms. It provides a scalable and generalizable approach to handle categorical data in a wide range of scenarios."
   ]
  },
  {
   "cell_type": "markdown",
   "id": "26cee846-7b1f-433f-bcc0-2e029b475845",
   "metadata": {},
   "source": [
    "## Q7.You are working on a project that involves predicting customer churn for a telecommunications company. You have a dataset with 5 features, including the customer's gender, age, contract type, monthly charges, and tenure. Which encoding technique(s) would you use to transform the categorical data into numerical data? Provide a step-by-step explanation of how you would implement the encoding."
   ]
  },
  {
   "cell_type": "markdown",
   "id": "aeb62bb9-3859-4b85-b28e-0cdeb5f1c62c",
   "metadata": {},
   "source": [
    "Here we can use a combination of encoding techniques depending on the nature and characteristics of the categorical features.\n",
    "\n",
    "there are 5 features among them 2 are categorical features we will use appropriate technique for each categorical feature.\n",
    "\n",
    "for Gender we can use binary encoding: as age is an binary categorical feature one of the value will be represented by 0 and another with 1.\n",
    "\n",
    "for contact type we can use One-Hot encoding technique :  Create separate binary columns for each unique category in the contract type feature. Each column will represent a specific contract type, and the presence of 1 in a column indicates the presence of that contract type for a particular customer.\n",
    " \n",
    " rest of the columns are numeric columns so no need to encode..\n",
    " \n",
    " By this combination of binary encoding we can conver categorical data to the numerical data ."
   ]
  },
  {
   "cell_type": "code",
   "execution_count": null,
   "id": "6d6aa100-0c02-4484-8685-ceab8ce48000",
   "metadata": {},
   "outputs": [],
   "source": []
  }
 ],
 "metadata": {
  "kernelspec": {
   "display_name": "Python 3 (ipykernel)",
   "language": "python",
   "name": "python3"
  },
  "language_info": {
   "codemirror_mode": {
    "name": "ipython",
    "version": 3
   },
   "file_extension": ".py",
   "mimetype": "text/x-python",
   "name": "python",
   "nbconvert_exporter": "python",
   "pygments_lexer": "ipython3",
   "version": "3.10.8"
  }
 },
 "nbformat": 4,
 "nbformat_minor": 5
}
