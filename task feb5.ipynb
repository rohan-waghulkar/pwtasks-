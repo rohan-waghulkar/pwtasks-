{
 "cells": [
  {
   "cell_type": "markdown",
   "id": "86b1e523-6c51-4402-a1be-712c5f48d644",
   "metadata": {},
   "source": [
    "## Q1. Explain Class and Object with respect to Object-Oriented Programming. Give a suitable example."
   ]
  },
  {
   "cell_type": "markdown",
   "id": "2a530ba4-d974-4234-9d75-d5919d191c29",
   "metadata": {},
   "source": [
    "###  Class:\n",
    "###       A class in Python is a blueprint for creating objects (a particular data structure), providing initial values for state (member variables or attributes), and implementations of behavior (member functions or methods).\n",
    "### Object:\n",
    "###        The object is a runtime entity and has a state, which is represented by the values of its attributes, and behavior, which is represented by the methods of the class. The attributes of an object represent the object's data, and the methods of the class define the object's behavior."
   ]
  },
  {
   "cell_type": "code",
   "execution_count": 3,
   "id": "26a5a6ae-a03a-4ce9-905d-c2a32a128970",
   "metadata": {},
   "outputs": [],
   "source": [
    "class car:\n",
    "    def __init__(self,name,company):\n",
    "        self.name=name\n",
    "        self.company=company             ## here car is Class \n",
    "    def car_details(self):\n",
    "        print(self.name,self.company)"
   ]
  },
  {
   "cell_type": "code",
   "execution_count": 6,
   "id": "958808ed-fa1a-4fb2-98d9-ea1e4f4f1d0e",
   "metadata": {},
   "outputs": [],
   "source": [
    "car1=car('Thar','Mahindra') ## here car1 is an Object"
   ]
  },
  {
   "cell_type": "code",
   "execution_count": 7,
   "id": "3c866dc4-6dcf-4b74-b1a2-69720951f6a8",
   "metadata": {},
   "outputs": [
    {
     "name": "stdout",
     "output_type": "stream",
     "text": [
      "Thar Mahindra\n"
     ]
    }
   ],
   "source": [
    "car1.car_details()"
   ]
  },
  {
   "cell_type": "markdown",
   "id": "1c9e99e0-419f-43dd-8ab1-6fd164e8f515",
   "metadata": {},
   "source": [
    "## Q2. Name the four pillars of OOPs.\n",
    "##  Answer:"
   ]
  },
  {
   "cell_type": "markdown",
   "id": "1459c211-ff02-420d-bc67-cd991142a0fe",
   "metadata": {},
   "source": [
    "#### 1. Abstraction : Abstraction means hiding implimentation details and showing only features \n",
    "#### 2. Encapsulation : This provides a secure way of accessing and manipulating an object's state and behavior\n",
    "#### 3. Inheritance : Here a class inherits all attributs and behavior of other existing class \n",
    "#### 3. Polymorphism : An object can behave in different ways depending on the context in which it is used.  "
   ]
  },
  {
   "cell_type": "markdown",
   "id": "919a2b8f-8332-4574-aa0d-c19e6d774c71",
   "metadata": {},
   "source": [
    "## Q3. Explain why the __init__() function is used. Give a suitable example.\n"
   ]
  },
  {
   "cell_type": "markdown",
   "id": "77f0c327-c351-440b-aff6-effb724e17fc",
   "metadata": {},
   "source": [
    "## The __init__ method is also known as constructor which is outomatically called when an object is created for a class ,it is use to initialize the attributes of an object and set their initial values."
   ]
  },
  {
   "cell_type": "code",
   "execution_count": 12,
   "id": "be32a692-447b-468b-959e-3b45826a6f5a",
   "metadata": {},
   "outputs": [],
   "source": [
    "class student:\n",
    "    def __init__(self,name,rollno):\n",
    "        self.name=name\n",
    "        self.rollno=rollno\n",
    "    def printdetails(self):\n",
    "        print(self.name,self.rollno)"
   ]
  },
  {
   "cell_type": "code",
   "execution_count": 15,
   "id": "0092cee9-3763-4238-8f37-81c3f295158a",
   "metadata": {},
   "outputs": [],
   "source": [
    "stud1=student('rohan',101)"
   ]
  },
  {
   "cell_type": "code",
   "execution_count": 16,
   "id": "cd415ba9-bddd-4432-b85c-3cb356296bfb",
   "metadata": {},
   "outputs": [
    {
     "name": "stdout",
     "output_type": "stream",
     "text": [
      "rohan 101\n"
     ]
    }
   ],
   "source": [
    "stud1.printdetails()"
   ]
  },
  {
   "cell_type": "markdown",
   "id": "2a69a4d5-7fae-4773-bd8d-538a7ec7c093",
   "metadata": {
    "tags": []
   },
   "source": [
    "## Q4. Why self is used in OOPs?"
   ]
  },
  {
   "cell_type": "markdown",
   "id": "efd77380-e5ab-458b-be3b-66b087fb45cc",
   "metadata": {},
   "source": [
    "###    The self keyword is used to differentiate instance from arguments, the self keyword is also used as the first argument in the methods        of a class which refers to the instance of the object that the method is being called on"
   ]
  },
  {
   "cell_type": "markdown",
   "id": "8d17867c-ac9f-49c6-909b-d98d68df05b2",
   "metadata": {},
   "source": [
    "## Q5.What is inheritance? Give an example for each type of inheritance."
   ]
  },
  {
   "cell_type": "markdown",
   "id": "6579d646-dfcb-4436-b64a-35e583d09f57",
   "metadata": {},
   "source": [
    "#### In inheritance, a new class is defined that inherits attributes and behaviors from an existing class, known as the base or parent class. The new class is called the derived or child class.\n",
    "### There are several types of inheritance in OOP, including:\n",
    "\n",
    "#### 1.Single inheritance: A child class inherits attributes and behaviors from a single parent class.\n",
    "#### 2.Multiple inheritance: A child class inherits attributes and behaviors from multiple parent classes.\n",
    "#### 3.Hierarchical inheritance: A single parent class is inherited by multiple child classes.\n",
    "#### 4.Multi-level inheritance: A child class inherits from a parent class, which in turn inherits from a grandparent class.\n",
    "#### 5.Hybrid inheritance: A combination of multiple inheritance and hierarchical inheritance, where a child class inherits from multiple parent classes and also acts as a parent class for other classes."
   ]
  },
  {
   "cell_type": "code",
   "execution_count": 2,
   "id": "f2467827-23d2-456f-9805-8ecb2a1be458",
   "metadata": {},
   "outputs": [],
   "source": [
    "class parent():\n",
    "    def pmethod(self):\n",
    "        pass "
   ]
  },
  {
   "cell_type": "code",
   "execution_count": 3,
   "id": "8f3a03c3-ddb3-42c2-8f25-4ae87a73b946",
   "metadata": {},
   "outputs": [],
   "source": [
    "class child():\n",
    "    def child(self):\n",
    "        pass"
   ]
  },
  {
   "cell_type": "code",
   "execution_count": 4,
   "id": "cbaa6e1e-73bb-4685-84e5-9d515f33cad2",
   "metadata": {},
   "outputs": [],
   "source": [
    "class child1(parent):\n",
    "    def cmethod(self): ## Single inheritance\n",
    "        pass "
   ]
  },
  {
   "cell_type": "code",
   "execution_count": 5,
   "id": "42e06afe-5cd1-4cc2-8fd5-d3a49d48e040",
   "metadata": {},
   "outputs": [],
   "source": [
    "class child2(parent,child):\n",
    "    def selfmethod(self):  ## Multiple Inheritance \n",
    "        pass "
   ]
  },
  {
   "cell_type": "code",
   "execution_count": 6,
   "id": "73f33dd5-2b04-48c8-86bd-23e2adf06677",
   "metadata": {},
   "outputs": [],
   "source": [
    "class child3(child2):\n",
    "    def selfmethod(self):  ## multi-level inheritance \n",
    "        pass"
   ]
  },
  {
   "cell_type": "code",
   "execution_count": 7,
   "id": "90cc98e3-70c6-4cef-befb-b9446c7d3c24",
   "metadata": {},
   "outputs": [],
   "source": [
    "class child4(parent):\n",
    "    def selfmethod(self): ##  the parent class is inherited by child1 and child4 so it is an example of hyrarchicle\n",
    "        pass"
   ]
  },
  {
   "cell_type": "code",
   "execution_count": null,
   "id": "faa10d59-19a5-45e7-aaed-a2d68ed37263",
   "metadata": {},
   "outputs": [],
   "source": []
  }
 ],
 "metadata": {
  "kernelspec": {
   "display_name": "Python 3 (ipykernel)",
   "language": "python",
   "name": "python3"
  },
  "language_info": {
   "codemirror_mode": {
    "name": "ipython",
    "version": 3
   },
   "file_extension": ".py",
   "mimetype": "text/x-python",
   "name": "python",
   "nbconvert_exporter": "python",
   "pygments_lexer": "ipython3",
   "version": "3.10.8"
  }
 },
 "nbformat": 4,
 "nbformat_minor": 5
}
