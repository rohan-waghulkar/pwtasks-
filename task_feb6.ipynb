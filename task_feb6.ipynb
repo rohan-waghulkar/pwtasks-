{
 "cells": [
  {
   "cell_type": "markdown",
   "id": "bfd348fc-2e5f-4538-a1b7-50b05fe5fc83",
   "metadata": {
    "tags": []
   },
   "source": [
    "#Create a function which will take a list as an argument and return the product of all the numbers  after creating a flat list. \n",
    "Use the below-given list as an argument for your function. \n",
    "list1 = [1,2,3,4, [44,55,66, True], False, (34,56,78,89,34), {1,2,3,3,2,1}, {1:34, \"key2\": [55, 67, 78, 89], 4: (45,  22, 61, 34)}, [56, 'data science'], 'Machine Learning'] \n"
   ]
  },
  {
   "cell_type": "code",
   "execution_count": 1,
   "id": "b93abdaa-59a8-439b-82b6-18190fa4e37b",
   "metadata": {},
   "outputs": [],
   "source": [
    "list1 = [1,2,3,4, [44,55,66, True], False, (34,56,78,89,34), {1,2,3,3,2,1}, {1:34, \"key2\": [55, 67, 78, 89], 4: (45,  22, 61, 34)}, [56, 'data science'], 'Machine Learning'] \n"
   ]
  },
  {
   "cell_type": "code",
   "execution_count": 2,
   "id": "d3241279-f8fa-4f05-aeaf-dae44bf1d7de",
   "metadata": {},
   "outputs": [
    {
     "data": {
      "text/plain": [
       "[1,\n",
       " 2,\n",
       " 3,\n",
       " 4,\n",
       " [44, 55, 66, True],\n",
       " False,\n",
       " (34, 56, 78, 89, 34),\n",
       " {1, 2, 3},\n",
       " {1: 34, 'key2': [55, 67, 78, 89], 4: (45, 22, 61, 34)},\n",
       " [56, 'data science'],\n",
       " 'Machine Learning']"
      ]
     },
     "execution_count": 2,
     "metadata": {},
     "output_type": "execute_result"
    }
   ],
   "source": [
    "list1"
   ]
  },
  {
   "cell_type": "code",
   "execution_count": 3,
   "id": "c48e9f96-91f9-42c2-9f06-140c4b4f5a7d",
   "metadata": {},
   "outputs": [],
   "source": [
    "def arrange(lst):\n",
    "    list2 = []\n",
    "    stack = [lst]\n",
    "    while stack:\n",
    "        cur_lst = stack.pop()\n",
    "        for i in cur_lst:\n",
    "            if type(i) == int:\n",
    "                list2.append(i)\n",
    "            elif type(i) == set or type(i) == tuple:\n",
    "                stack.append(list(i))\n",
    "            elif type(i) == dict:\n",
    "                stack.append(list(i.keys()))\n",
    "                stack.append(list(i.values()))\n",
    "            elif type(i) == list:\n",
    "                stack.append(i)\n",
    "    return list2\n"
   ]
  },
  {
   "cell_type": "code",
   "execution_count": 4,
   "id": "2deea78b-bc55-4383-a826-af0089eb0b7d",
   "metadata": {},
   "outputs": [],
   "source": [
    "list2=arrange(list1)"
   ]
  },
  {
   "cell_type": "code",
   "execution_count": 5,
   "id": "f6fb4ea7-9612-47d8-b6a0-bdc60f80e161",
   "metadata": {},
   "outputs": [
    {
     "data": {
      "text/plain": [
       "[1,\n",
       " 2,\n",
       " 3,\n",
       " 4,\n",
       " 56,\n",
       " 34,\n",
       " 45,\n",
       " 22,\n",
       " 61,\n",
       " 34,\n",
       " 55,\n",
       " 67,\n",
       " 78,\n",
       " 89,\n",
       " 1,\n",
       " 4,\n",
       " 1,\n",
       " 2,\n",
       " 3,\n",
       " 34,\n",
       " 56,\n",
       " 78,\n",
       " 89,\n",
       " 34,\n",
       " 44,\n",
       " 55,\n",
       " 66]"
      ]
     },
     "execution_count": 5,
     "metadata": {},
     "output_type": "execute_result"
    }
   ],
   "source": [
    "list2"
   ]
  },
  {
   "cell_type": "code",
   "execution_count": 6,
   "id": "8420e105-b45d-42ac-8854-92d9dc8a5a43",
   "metadata": {},
   "outputs": [],
   "source": [
    "from functools import reduce\n"
   ]
  },
  {
   "cell_type": "code",
   "execution_count": 7,
   "id": "f44ce7a2-178a-45f7-a8a6-ac89c0c832b3",
   "metadata": {},
   "outputs": [],
   "source": [
    "output=reduce(lambda x,y:x*y,list2)\n"
   ]
  },
  {
   "cell_type": "code",
   "execution_count": 8,
   "id": "abe78cdd-6b49-4a42-aa0e-5d8571c8db16",
   "metadata": {},
   "outputs": [
    {
     "data": {
      "text/plain": [
       "4134711838987085478833841242112000"
      ]
     },
     "execution_count": 8,
     "metadata": {},
     "output_type": "execute_result"
    }
   ],
   "source": [
    "output"
   ]
  },
  {
   "cell_type": "markdown",
   "id": "80de53c8-b23e-499e-bb9d-37364bf71c31",
   "metadata": {},
   "source": [
    "## Q2. Write a python program for encrypting a message sent to you by your friend. The logic of encryption  should be such that, for a the output should be z. For b, the output should be y. For c, the output should  be x respectively. Also, the whitespace should be replaced with a dollar sign. Keep the punctuation  marks unchanged. \n",
    "Input Sentence: I want to become a Data Scientist. \n",
    "Encrypt the above input sentence using the program you just created. \n"
   ]
  },
  {
   "cell_type": "code",
   "execution_count": 10,
   "id": "5aa48fc8-41ca-4098-960b-63e3b0b8d467",
   "metadata": {},
   "outputs": [],
   "source": [
    "def encrypt(str1):\n",
    "    str2=''\n",
    "    map1={'a':'z','b':'y','c':'x',' ':'$'}\n",
    "    for i in str1:\n",
    "        if i=='.':\n",
    "            str2+=i\n",
    "        elif i in map1:\n",
    "            str2+=map1.get(i)\n",
    "        else:\n",
    "            str2+=i\n",
    "    return str2\n"
   ]
  },
  {
   "cell_type": "code",
   "execution_count": 11,
   "id": "7c0d6b51-3714-47c6-a928-b2c714b35658",
   "metadata": {},
   "outputs": [],
   "source": [
    "str1=encrypt('I want to become a Data Scientist')"
   ]
  },
  {
   "cell_type": "code",
   "execution_count": 12,
   "id": "0cbb85fb-12c5-448f-9f6b-a28a77ba9800",
   "metadata": {},
   "outputs": [
    {
     "name": "stdout",
     "output_type": "stream",
     "text": [
      "I$wznt$to$yexome$z$Dztz$Sxientist\n"
     ]
    }
   ],
   "source": [
    "print(str1)"
   ]
  },
  {
   "cell_type": "code",
   "execution_count": null,
   "id": "a9376328-52e7-4a14-89b9-7292daeb4f73",
   "metadata": {},
   "outputs": [],
   "source": []
  }
 ],
 "metadata": {
  "kernelspec": {
   "display_name": "Python 3 (ipykernel)",
   "language": "python",
   "name": "python3"
  },
  "language_info": {
   "codemirror_mode": {
    "name": "ipython",
    "version": 3
   },
   "file_extension": ".py",
   "mimetype": "text/x-python",
   "name": "python",
   "nbconvert_exporter": "python",
   "pygments_lexer": "ipython3",
   "version": "3.10.8"
  }
 },
 "nbformat": 4,
 "nbformat_minor": 5
}
