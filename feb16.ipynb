{
 "cells": [
  {
   "cell_type": "markdown",
   "id": "aa41363c-6b9a-4034-9f34-c7dcdc366379",
   "metadata": {},
   "source": [
    "## Q1. What is a database? Differentiate between SQL and NoSQL databases."
   ]
  },
  {
   "cell_type": "markdown",
   "id": "00e97e1c-e00d-479b-b334-d36fdfef51cb",
   "metadata": {},
   "source": [
    "A Database is collaction of data that organized and stored in such a that the accessing and management of data would be done in efficient manner\n",
    "#### Difference between SQL and NoSQL: \n",
    "1. SQL uses table structure to store data which is already defined, i.e SQL databases are structured,Whereas  NoSQL databases are unstructures they can store such as key-value format,document or graphs.\n",
    "2. NoSQL are highly scalable i.e they can handle large amount of data easily than SQL.\n",
    "3. In SQL all nodes in the database will have the same view of the data at all times. on other hand  in NoSQL invidual nodes may have slightly different views of the data in some situations.\n",
    "5. SQL is used where data must be in well structured and consistant.NoSQL is used when data need to be highly scalable and flexible "
   ]
  },
  {
   "cell_type": "markdown",
   "id": "2404202c-fbf9-4ff4-813e-4941f1b37b97",
   "metadata": {},
   "source": [
    "## Q2. What is DDL? Explain why CREATE, DROP, ALTER, and TRUNCATE are used with an example."
   ]
  },
  {
   "cell_type": "markdown",
   "id": "cefffa61-11d3-449b-bca4-ddf6baaa80f6",
   "metadata": {},
   "source": [
    "#### DDL stand for Data Defination language. this statements are used to create,modify,and delete tables in databases.\n",
    "1. Create is used to create new table or veiws.\n",
    "2. Drop is used to delete pre-exist table or veiw\n",
    "3. Alter is used to modify the structure of existing database object\n",
    "4. Truncate statement is used to delete all the data from an existing table"
   ]
  },
  {
   "cell_type": "markdown",
   "id": "1460b52f-f497-43ec-b427-0e208fc27644",
   "metadata": {},
   "source": [
    "## Q3. What is DML? Explain INSERT, UPDATE, and DELETE with an example."
   ]
  },
  {
   "cell_type": "markdown",
   "id": "c622607e-329a-4650-84ab-99fff7cea7dd",
   "metadata": {},
   "source": [
    "Data Manupulation language(DML) is used to modify the data in the database \n",
    "1. Insert it is used to add new row to a table  \n",
    "2. Update is used to modify the data of a table \n",
    "3. Delete this statement is used to delete row/s from the table ."
   ]
  },
  {
   "cell_type": "markdown",
   "id": "0d869da1-0fe1-466b-b6f3-e58f07a34c80",
   "metadata": {},
   "source": [
    "## Q4. What is DQL? Explain SELECT with an example."
   ]
  },
  {
   "cell_type": "markdown",
   "id": "3e7b1ab9-741d-48d5-89dd-80c6ef73540a",
   "metadata": {},
   "source": [
    "#### DQL stand for Data Query Language. DQL statements are used to retrive data from the database \n",
    "### Select statement is used to retrive data from one or more tables. "
   ]
  },
  {
   "cell_type": "markdown",
   "id": "808904a1-89e2-4504-ac8b-1c0b49f318ed",
   "metadata": {},
   "source": [
    "## Q5. Explain Primary Key and Foreign Key."
   ]
  },
  {
   "cell_type": "markdown",
   "id": "57428cfc-5292-4bd6-9214-1d617c0163db",
   "metadata": {},
   "source": [
    "#### primary key \n",
    " it is a column or group of columns which uniquely identifies each row in the table,it helps us to find unique row in the table\n",
    "#### foreign key\n",
    " A column or group of column in a table that refers to primary key of another table is known as foreign key\n",
    " \n",
    "Foreign keys are used to establish a relationship between two tables and enforce referential integrity."
   ]
  },
  {
   "cell_type": "markdown",
   "id": "14d828fe-d723-431e-915f-b188c6cf2762",
   "metadata": {},
   "source": [
    "## Q6. Write a python code to connect MySQL to python. Explain the cursor() and execute() method."
   ]
  },
  {
   "cell_type": "code",
   "execution_count": null,
   "id": "75f2b135-bab0-49a1-bd8b-091db96b886c",
   "metadata": {},
   "outputs": [],
   "source": [
    "import mysql.connector\n",
    "mydb = mysql.connector.connect(\n",
    "  host=\"localhost\",\n",
    "  user=\"abc\",\n",
    "  password=\"password\"\n",
    ")\n",
    "mycursor = mydb.cursor()"
   ]
  },
  {
   "cell_type": "markdown",
   "id": "967ffb9a-7862-49a6-812d-e71438e96232",
   "metadata": {},
   "source": [
    "1. The execute() method is used to execute a SQL query\n",
    "2. The fetchall() method is used to get the results of the query as a list of tuples. Each tuple represents a row in the table"
   ]
  },
  {
   "cell_type": "markdown",
   "id": "ee288004-3f0d-4b6c-8e7c-e2e1f7d1db48",
   "metadata": {},
   "source": [
    "## Q7. Give the order of execution of SQL clauses in an SQL query."
   ]
  },
  {
   "cell_type": "markdown",
   "id": "489dbfcd-5c12-4c68-b03d-20d69ec9ff35",
   "metadata": {},
   "source": [
    "SELECT: This clause is used to specify the columns that you want to retrieve from the database. It is executed first in the query.\n",
    "\n",
    "FROM: This clause is used to specify the table or tables that you want to retrieve data from. It is executed after the SELECT clause.\n",
    "\n",
    "JOIN: This clause is used to combine data from two or more tables based on a related column between them. It is executed after the FROM clause.\n",
    "\n",
    "WHERE: This clause is used to specify the conditions that the data must meet in order to be included in the query results. It is executed after the JOIN clause.\n",
    "\n",
    "GROUP BY: This clause is used to group the query results based on one or more columns. It is executed after the WHERE clause.\n",
    "\n",
    "HAVING: This clause is used to filter the grouped query results based on a condition. It is executed after the GROUP BY clause.\n",
    "\n",
    "ORDER BY: This clause is used to sort the query results based on one or more columns. It is executed after the HAVING clause.\n",
    "\n",
    "LIMIT: This clause is used to limit the number of rows that are returned by the query. It is executed last in the query."
   ]
  },
  {
   "cell_type": "code",
   "execution_count": null,
   "id": "bd34bf6f-cdd2-4f6e-83fb-aabc4f89853a",
   "metadata": {},
   "outputs": [],
   "source": []
  }
 ],
 "metadata": {
  "kernelspec": {
   "display_name": "Python 3 (ipykernel)",
   "language": "python",
   "name": "python3"
  },
  "language_info": {
   "codemirror_mode": {
    "name": "ipython",
    "version": 3
   },
   "file_extension": ".py",
   "mimetype": "text/x-python",
   "name": "python",
   "nbconvert_exporter": "python",
   "pygments_lexer": "ipython3",
   "version": "3.10.8"
  }
 },
 "nbformat": 4,
 "nbformat_minor": 5
}
