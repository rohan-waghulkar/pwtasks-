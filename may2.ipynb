{
 "cells": [
  {
   "cell_type": "markdown",
   "id": "4fa95702-9e0c-4abb-be02-d868bbbabe9a",
   "metadata": {},
   "source": [
    "## Q1. What is anomaly detection and what is its purpose?"
   ]
  },
  {
   "cell_type": "markdown",
   "id": "e59731a3-e0c0-47ce-9716-dc40f834eb98",
   "metadata": {},
   "source": [
    "- Anomaly detection is a technique used of identify the patterns,events or observation that are different from expected or normal behavior.\n",
    "- It is a technique of detecting outliers in the data.\n",
    "##### Purpose of anomaly detection \n",
    "- Identify potential problems : it is used to identify the probles and irregularities that needs to be examined in the dataset.\n",
    "- Descover hidden insights :  Not all anomalies are bad. Anomalous data points can also reveal new patterns, trends, or opportunities that were previously hidden within the regular noise of the data. "
   ]
  },
  {
   "cell_type": "markdown",
   "id": "b2eed1ce-1608-45ae-8a2b-eba041ceb0a9",
   "metadata": {},
   "source": [
    "## Q2. What are the key challenges in anomaly detection?"
   ]
  },
  {
   "cell_type": "markdown",
   "id": "9de54b1f-bb7b-4bc0-9f4f-4298e20b3ba1",
   "metadata": {},
   "source": [
    "- Definition of Normal : Defining what constitutes normal behavior can be challenging, as it may change over time or be context-dependent. Anomalies are often defined relative to the normal behavior of a system, and accurately capturing this normal behavior is crucial for effective anomaly detection.\n",
    "- Imbalanced Datasets : a dataset may have unconsistant set of recoreds.\n",
    "- Dynamic Enviroment : Enviorement may change periodically, so what to cosider normal may becomes challenging.\n",
    "- Noise in dataset : Distinguishing between anomalies and noise is challenging, and noisy data can lead to false positives, where normal instances are incorrectly classified as anomalies.\n"
   ]
  },
  {
   "cell_type": "markdown",
   "id": "0c5c1719-da2e-4394-a312-f58f037561f8",
   "metadata": {},
   "source": [
    "## Q3. How does unsupervised anomaly detection differ from supervised anomaly detection?"
   ]
  },
  {
   "cell_type": "markdown",
   "id": "258642e7-55e5-4101-9c52-ac1912b6d13b",
   "metadata": {},
   "source": [
    "##### Unsupervise Anomaly Detection :\n",
    "- Unsupervise anomaly detection does not require labaled data to find anomalies during training phase.algorithm learns from charactericstics of the data.\n",
    "- most common methods are clusetering,Local outlier factor etc.\n",
    "\n",
    "##### Supervise Anomaly Detection :\n",
    "- In supervised anomaly detection algorithm used labled data that has examples of both normal and anomalous data. the model learns to distinguish between normal and anomalous data.\n"
   ]
  },
  {
   "cell_type": "markdown",
   "id": "1e8c8f93-823e-4049-b82f-cc9b76f6fe66",
   "metadata": {},
   "source": [
    "## Q4. What are the main categories of anomaly detection algorithms?"
   ]
  },
  {
   "cell_type": "markdown",
   "id": "19b3e4c0-f86a-4ae8-9956-c06786155497",
   "metadata": {},
   "source": [
    "##### Statistical :\n",
    "Probabilistic models: These algorithms assume a specific probability distribution for normal data and flag data points with low probabilities as anomalies.\n",
    "##### Distance based :\n",
    "lgorithms measure the distance of each data point from its neighbors or from a central point. Data points with unusually large distances are considered anomalies.\n",
    "##### Clustering- Based :\n",
    "this algorithm combines datapoints together into the clusters and the datapoints that doesnot belongs to any cluster or cluster with very less data point are considered as anomaly.\n",
    "##### Ensemble :\n",
    " Ensemble methods combine the results of multiple anomaly detection algorithms to improve overall performance and robustness."
   ]
  },
  {
   "cell_type": "markdown",
   "id": "99a5c2e2-f89b-4288-be99-b6b5787cdf0f",
   "metadata": {},
   "source": [
    "## Q5. What are the main assumptions made by distance-based anomaly detection methods?"
   ]
  },
  {
   "cell_type": "markdown",
   "id": "984d6237-6b82-401d-98e0-0147e0bb8481",
   "metadata": {},
   "source": [
    "##### Normal Instances Cluster Together:\n",
    " In normal circumstances, instances of the same class (normal instances) tend to cluster together in the feature space.\n",
    "##### Anomalies Are Isolated or Sparse:\n",
    " Anomalous instances are expected to be isolated, rare, or form sparse clusters in the feature space.\n",
    "\n",
    "Density-based methods assume that normal instances occur in denser regions of the feature space, while anomalies occur in sparser regions.\n",
    "The impact of noise or irrelevant features on distance measures is minimal."
   ]
  },
  {
   "cell_type": "markdown",
   "id": "0cc9b3db-3005-45b1-8346-1c3140f4a278",
   "metadata": {},
   "source": [
    "## Q6. How does the LOF algorithm compute anomaly scores?"
   ]
  },
  {
   "cell_type": "markdown",
   "id": "0fd599d3-59fc-45c5-96bd-233abaf60601",
   "metadata": {},
   "source": [
    "For each data point p, LOF computes the local density, which is the inverse of the average reachability distance to its k-nearest neighbors. The reachability distance is a measure of how \"reachable\" a point is from its neighbors.\n",
    "\n",
    "LOF considers the distance between a point p and its k-nearest neighbors. It calculates the reachability distance for each neighbor and then takes the average. The local density L(p)) is the inverse of this average reachability distance.\n",
    "\n",
    "Comparing Local Densities:\n",
    "\n",
    "LOF compares the local density of the target point (p) with the local densities of its neighbors. If a point has a much lower local density than its neighbors, it suggests that the point is in a less dense region, indicating a potential anomaly.\n",
    "The LOF of a point p is computed as the ratio of the average local density of its k-nearest neighbors to its own local density.\n",
    "\n",
    "Anomaly Score:\n",
    "\n",
    "An anomaly score is then assigned to each data point based on its LOF value. A higher LOF value indicates that the point is less dense than its neighbors, making it more likely to be an anomaly.\n"
   ]
  },
  {
   "cell_type": "markdown",
   "id": "0d0b493f-9133-498e-96ce-4892ae1300d5",
   "metadata": {},
   "source": [
    "## Q7. What are the key parameters of the Isolation Forest algorithm?"
   ]
  },
  {
   "cell_type": "markdown",
   "id": "e4654006-78b0-4a45-aa33-b2857b78a8e5",
   "metadata": {},
   "source": [
    "1. n_estimators or number of trees : number of trees to  build in the forest.More the trees better the accuracy.\n",
    "2. max_samples or subsample size : maximum number of samples to be used to build the isolation tree.\n",
    "3. max_depth : maximum number of levels of the tree to built.\n",
    "4. contamination : The proportion of anomalies in the dataset. It helps in setting the threshold for classifying instances as anomalies.\n"
   ]
  },
  {
   "cell_type": "markdown",
   "id": "513372cc-3c6d-4a80-b7f7-f4ffd022416d",
   "metadata": {},
   "source": [
    "## Q8. Using the Isolation Forest algorithm with 100 trees and a dataset of 3000 data points, what is the anomaly score for a data point that has an average path length of 5.0 compared to the average path length of the trees?"
   ]
  },
  {
   "cell_type": "markdown",
   "id": "d21a35ea-88d3-421f-a350-619ca8d48868",
   "metadata": {},
   "source": [
    "Since the exact normalization factor c(3000) is not provided, and it depends on the average path length of an unsuccessful search in a binary search tree, we'll assume c(3000)=2\n",
    "\n",
    "Anomaly Score(x)=2^-5/2\n",
    "\n",
    "Anomaly Score(x)=2^−2.5\n",
    "\n",
    "Anomaly Score(x)≈0.1768"
   ]
  },
  {
   "cell_type": "code",
   "execution_count": null,
   "id": "792af8cf-5100-4a47-a62f-cef69357fb47",
   "metadata": {},
   "outputs": [],
   "source": []
  }
 ],
 "metadata": {
  "kernelspec": {
   "display_name": "Python 3 (ipykernel)",
   "language": "python",
   "name": "python3"
  },
  "language_info": {
   "codemirror_mode": {
    "name": "ipython",
    "version": 3
   },
   "file_extension": ".py",
   "mimetype": "text/x-python",
   "name": "python",
   "nbconvert_exporter": "python",
   "pygments_lexer": "ipython3",
   "version": "3.10.8"
  }
 },
 "nbformat": 4,
 "nbformat_minor": 5
}
