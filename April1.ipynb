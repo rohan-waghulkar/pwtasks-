{
 "cells": [
  {
   "cell_type": "markdown",
   "id": "ad1de1e8-1ea2-4d3e-be9c-c8c6964fca32",
   "metadata": {},
   "source": [
    "## Q1. Explain the difference between linear regression and logistic regression models. Provide an example of a scenario where logistic regression would be more appropriate."
   ]
  },
  {
   "cell_type": "markdown",
   "id": "cd40c09b-d49e-4b97-a438-5cdc6cd68ded",
   "metadata": {},
   "source": [
    "- In Linear regression we can predicts a continuous value based on a set of independent variables. For example, you could use linear regression to predict the price of a house based on its square footage, number of bedrooms, and location. The output of a linear regression model is a line that best fits the data.\n",
    "\n",
    "- In Logistic regression we can predicts a categorical value based on a set of independent variables. For example, you could use logistic regression to predict whether a patient has cancer based on their medical history, symptoms, and test results. \n",
    "\n",
    "- The main difference between linear regression and logistic regression is the type of output they produce. Linear regression produces a continuous value, while logistic regression produces a categorical output. "
   ]
  },
  {
   "cell_type": "markdown",
   "id": "75e49eb4-4cd3-461f-bab7-5db82c8c8f42",
   "metadata": {},
   "source": [
    "## Q2. What is the cost function used in logistic regression, and how is it optimized?"
   ]
  },
  {
   "cell_type": "markdown",
   "id": "d46380e0-42a8-40cf-8948-1eab30fc793b",
   "metadata": {},
   "source": [
    "- In logistic regression, the cost function used is the logistic loss function, also known as the cross-entropy loss or log loss. The purpose of the cost function is to measure the error or the dissimilarity between the predicted probabilities and the actual binary outcomes in the training data.\n",
    "\n",
    "- For a binary classification problem the cost function will be :\n",
    "#### Cost(y_actual, y_pred) = - y_actual * log(y_pred) - (1 - y_actual) * log(1 - y_pred)\n"
   ]
  },
  {
   "cell_type": "markdown",
   "id": "7606678f-c748-4945-80ff-b0de1e9dcf77",
   "metadata": {},
   "source": [
    "## Q3. Explain the concept of regularization in logistic regression and how it helps prevent overfitting."
   ]
  },
  {
   "cell_type": "markdown",
   "id": "c12daffa-6f9e-4a32-bea9-c65e75af37a6",
   "metadata": {},
   "source": [
    "- Regularization is techique used to prevent the overfitting in the machine learning models.overfitting means a machine learning model performs very well for the training dataset but perform poorly for the new data.\n",
    "- Regularization add the panelty term to the cost function of the model, in case of the logistic regression the panelty term will be added to the Log Loss Function.This penalty penalizes the model for having large coefficients, which helps to prevent the model from learning too much from the training data. \n",
    "#### There are two main types of regularization: L1 regularization and L2 regularization.\n",
    "- L1 Regression : penalizes the sum of the absolute value of the model's coefficient. here the model will shrink the coefficient which are closer to zero and may set some of them equal to zero. now the model can ignore those feature who have coefficient equal to zero and prevent the overfitting .this selection of features is known as  feature selection.\n",
    "- L2 Regression : penalizes the sum of square of the model's coefficient.it Shrinks all the coefficient but not set's any one the equal to zero.it helps the model from overfitting by reducing the magnitude of coefficients.\n"
   ]
  },
  {
   "cell_type": "markdown",
   "id": "100184a8-5060-47f2-8a42-d8a6de177cad",
   "metadata": {},
   "source": [
    "## Q4. What is the ROC curve, and how is it used to evaluate the performance of the logistic regression model?"
   ]
  },
  {
   "cell_type": "markdown",
   "id": "63e4b018-de43-4b63-a2c2-4e4ea7aa2e9a",
   "metadata": {},
   "source": [
    "- The ROC curve is a Receiver Operating Characteristic curve. It is a graph that shows the performance of a binary classifier at all classification thresholds. This curve plots two parameters:\n",
    "\n",
    "- True Positive Rate (TPR): This is the proportion of positive instances that are correctly classified.\n",
    "- False Positive Rate (FPR): This is the proportion of negative instances that are incorrectly classified.\n",
    "- The ROC curve is a useful tool for evaluating the performance of a logistic regression model because it shows the trade-off between TPR and FPR. A perfect classifier would have a TPR of 1 and an FPR of 0. However, in practice, no classifier is perfect, so there is always a trade-off between TPR and FPR.\n",
    "\n",
    "- The ROC curve is typically used to select the optimal classification threshold for a logistic regression model. The optimal threshold is the one that minimizes the Area Under the Curve (AUC). The AUC is a measure of the overall performance of the classifier. A higher AUC indicates a better classifier."
   ]
  },
  {
   "cell_type": "markdown",
   "id": "97c099b8-6905-4e8e-9567-e3ec735603c3",
   "metadata": {},
   "source": [
    "## Q5. What are some common techniques for feature selection in logistic regression? How do these techniques help improve the model's performance?"
   ]
  },
  {
   "cell_type": "markdown",
   "id": "3f1c1376-bd32-4edd-8c69-a83e9f4029bc",
   "metadata": {},
   "source": [
    "#### Here are some techniques used for feature selection in logistic regression :\n",
    "1. L1 Regression : penalizes the sum of the absolute value of the model's coefficient. here the model will shrink the coefficient which are closer to zero and may set some of them equal to zero. now the model can ignore those feature who have coefficient equal to zero and prevent the overfitting .this selection of features is known as feature selection.\n",
    "2. Elastic net regularization: This technique is a combination of L1 and L2 regularization. It can be used to shrink the coefficients of the features that are not important, and it can also help to remove features from the model."
   ]
  },
  {
   "cell_type": "markdown",
   "id": "aaa1f385-68f1-4c5b-98ac-56b19e9b2b6b",
   "metadata": {},
   "source": [
    "## Q6. How can you handle imbalanced datasets in logistic regression? What are some strategies for dealing with class imbalance?"
   ]
  },
  {
   "cell_type": "markdown",
   "id": "70b180c2-3b03-4db4-bc85-3819c4e3eb12",
   "metadata": {},
   "source": [
    "#### There are a number of strategies for dealing with class imbalance in logistic regression. Some of the most common strategies include:\n",
    "- Oversampling: This involves increasing the number of samples in the minority class. This can be done by duplicating samples from the minority class or by generating synthetic samples.\n",
    "- Undersampling: This involves reducing the number of samples in the majority class. This can be done by randomly removing samples from the majority class or by using a technique called SMOTE (Synthetic Minority Oversampling Technique).\n",
    "- Cost-sensitive learning: This involves assigning different costs to misclassifications in different classes. This can help to reduce the bias towards the majority class."
   ]
  },
  {
   "cell_type": "markdown",
   "id": "8e610398-0482-4b16-bcff-e1135ff1d90e",
   "metadata": {},
   "source": [
    "## Q7. Can you discuss some common issues and challenges that may arise when implementing logistic regression, and how they can be addressed? For example, what can be done if there is multicollinearityamong the independent variables?"
   ]
  },
  {
   "cell_type": "markdown",
   "id": "c4916fa3-72c3-44fc-becb-3ec91d920ccb",
   "metadata": {},
   "source": [
    "#### here are some common issues and challenges that may arise when implementing logistic regression, and how they can be addressed:\n",
    "1. Multicollinearity: This situation occurs when two or more features are highly correlated  it can make model difficult to estimate the coefficients of the independent variables.\n",
    " #### To address multicollinearity we can:\n",
    "- Remove one of correlated feature \n",
    "- Use regularization techniqure like L1 and L2 regularization.\n",
    "2. Overfitting : This is a condition where the model perform very well to the training data but performs poorly to the new data.\n",
    "#### To address overfitting we can :\n",
    "- Reduce the number of parameters in the model.This can be done by using a simpler model, or by using regularization techniques.\n",
    "- Get more training data.\n",
    "3. Underfitting :  This occurs when the model does not learn the training data well enough. This can happen when the model is too simple, or when the training data is not representative of the real world.\n",
    "#### To address underfitting we can :\n",
    "- Use a more complex model.** This can help the model to learn the training data better.\n",
    "- Get more training data."
   ]
  },
  {
   "cell_type": "code",
   "execution_count": null,
   "id": "fea53818-3c07-41e9-a7ad-35b0fe1723b6",
   "metadata": {},
   "outputs": [],
   "source": []
  }
 ],
 "metadata": {
  "kernelspec": {
   "display_name": "Python 3 (ipykernel)",
   "language": "python",
   "name": "python3"
  },
  "language_info": {
   "codemirror_mode": {
    "name": "ipython",
    "version": 3
   },
   "file_extension": ".py",
   "mimetype": "text/x-python",
   "name": "python",
   "nbconvert_exporter": "python",
   "pygments_lexer": "ipython3",
   "version": "3.10.8"
  }
 },
 "nbformat": 4,
 "nbformat_minor": 5
}
