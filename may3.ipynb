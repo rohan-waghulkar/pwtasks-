{
 "cells": [
  {
   "cell_type": "markdown",
   "id": "d7257741-3a78-4f07-bd98-4f9ddcc01c3a",
   "metadata": {},
   "source": [
    "## Q1. What is the role of feature selection in anomaly detection?"
   ]
  },
  {
   "cell_type": "markdown",
   "id": "f4529982-dc34-4e20-beed-c7530ef76543",
   "metadata": {},
   "source": [
    "1. Dimensionality Reduction : feature selection  helps dimesionality reduction of the data by selecting subset of relevent features.it speed up the training process and reduces overfitting.\n",
    "\n",
    "2. Noise Reduction : Some features may be noisy or irrelevant to the anomaly detection task.feature selection help to identify and remove such features.\n"
   ]
  },
  {
   "cell_type": "markdown",
   "id": "25c61bf6-f24d-4f02-9b66-c3fbeb9102eb",
   "metadata": {},
   "source": [
    "## Q2. What are some common evaluation metrics for anomaly detection algorithms and how are they computed?"
   ]
  },
  {
   "cell_type": "markdown",
   "id": "70283cd0-95c4-44d3-8bfa-b38c8a683c44",
   "metadata": {},
   "source": [
    "These basic metrics can be used to compute more advanced evaluation metrics:\n",
    "\n",
    "1. Accuracy: The overall correctness of the model, calculated as (TP + TN) / (TP + TN + FP + FN).\n",
    "2. Precision : The proportion of instances identified as anomalies that are actually anomalies, calculated as TP / (TP + FP).\n",
    "3. Recall : The proportion of actual anomalies that are correctly identified by the model, calculated as TP / (TP + FN).\n",
    "4. F1 Score: The harmonic mean of precision and recall.\n",
    "5. Area Under the Receiver Operating Characteristic (ROC) Curve (AUC-ROC): The area under the ROC curve, which plots the true positive rate against the false positive rate. AUC-ROC provides a measure of the model's ability to distinguish between anomalies and normal instances across different probability thresholds."
   ]
  },
  {
   "cell_type": "markdown",
   "id": "5198fa34-f1d8-48d5-a338-19202e793c31",
   "metadata": {},
   "source": [
    "## Q3. What is DBSCAN and how does it work for clustering?"
   ]
  },
  {
   "cell_type": "markdown",
   "id": "eb750bed-10cf-43ce-87d1-50cd077fe8e7",
   "metadata": {
    "tags": []
   },
   "source": [
    "It is a clustering and anomaly detection algorithm.\n",
    "- DBSCAN groups the datapoint together which has high density of datapoint surrounding it.\n",
    "- it has three main components \n",
    "1. core points : a data point is a core point when it specified number of data points in its radius.\n",
    "2. border points : a data point which is within the radius of the core point but doesn't have enough points to become core point is a border point \n",
    "3. Noise point : a datapoint which cant be core or border point is a noise point.\n",
    "##### Working of DBSCAN :\n",
    "1. start with a random point \n",
    "2. finds the neighbour within the radius if it has enough points it is marked as corepoint \n",
    "3. Find all the neighbors of the core point (using the same eps) and recursively expand the cluster:\n",
    "    - Add new neighbors as border points if they have enough neighbors themselves (minPts).\n",
    "    - Continue expanding until no new core points or their neighbors are found.\n",
    "4. If the number of neighbors is less than minPts, label the point as noise and move on."
   ]
  },
  {
   "cell_type": "markdown",
   "id": "566752d1-0e02-480c-93dd-aef12a2fc0cd",
   "metadata": {},
   "source": [
    "## Q4. How does the epsilon parameter affect the performance of DBSCAN in detecting anomalies?"
   ]
  },
  {
   "cell_type": "markdown",
   "id": "b5c9b989-7e1d-4013-9f6f-44ddcccefbcc",
   "metadata": {},
   "source": [
    "##### Affect the size of cluster : \n",
    "smaller epsilon value leads to tight cluster,as data points needed to be closer to each other , Larger epsilon value can create bigger cluster where two seperate cluster can be merge together.\n",
    "##### Sensitivity to Data Density: \n",
    "smaller epsilon value will require datapoint to be tightly located to each other.\n",
    "##### Anomaly detection : \n",
    "smalle epsilon value can lead to identify normal datapoint as anomaly where as larger epsilon value can include the anomaly into the clustor as normal point."
   ]
  },
  {
   "cell_type": "markdown",
   "id": "965f1f00-6216-4e0d-b543-a037153535d5",
   "metadata": {},
   "source": [
    "## Q5. What are the differences between the core, border, and noise points in DBSCAN, and how do they relate to anomaly detection?"
   ]
  },
  {
   "cell_type": "markdown",
   "id": "7b3b569f-06fc-4ec4-80da-d650ca11c7bc",
   "metadata": {},
   "source": [
    "1. core points : a data point is a core point when it specified number of data points in its radius.\n",
    "2. border points : a data point which is within the radius of the core point but doesn't have enough points to become core point is a border point\n",
    "3. Noise point : a datapoint which has datapoints less than specified points the  the  datapoint is a noise point.\n",
    "\n",
    " Anomalies are likely to be classified as noise points, as they deviate from the normal patterns and do not form part of any dense cluster."
   ]
  },
  {
   "cell_type": "markdown",
   "id": "c48f6dc6-a964-43c9-bf6e-8230a8910414",
   "metadata": {},
   "source": [
    "## Q6. How does DBSCAN detect anomalies and what are the key parameters involved in the process?"
   ]
  },
  {
   "cell_type": "markdown",
   "id": "ee5a57c9-f00b-42ff-bc97-72aabb30e9f4",
   "metadata": {},
   "source": [
    "##### Anomaly Detection:\n",
    "- Data points that are not part of any cluster are consider as anomalies or noise points \n",
    "- Noise points do not have enough neighboring points to form a cluster, and they may be isolated or in sparser regions.\n",
    "##### Key parameters :\n",
    "- Epsilon or radius : is the maximum distance between two datapoints to cosider them as neighbour or eachother.\n",
    "- min_pts : is minimum number of data points required within the radius of the datapoint to cosider that datapoint as the core point."
   ]
  },
  {
   "cell_type": "markdown",
   "id": "a7bd98db-45dc-4d30-b559-bc24e5f8da2a",
   "metadata": {},
   "source": [
    "## Q7. What is the make_circles package in scikit-learn used for?"
   ]
  },
  {
   "cell_type": "markdown",
   "id": "0a1d2d4c-641f-4a61-8dfe-cacd13cc4753",
   "metadata": {},
   "source": [
    "- make_circle is a function of sklearn.datasets module used to create a synthetic dataset.\n",
    "- it create datasets where the datapoints are distributed in the circle.\n",
    "##### parameters :\n",
    "- n_samples: The total number of points in the dataset.\n",
    "- shuffle: If True, the order of the data points is shuffled.\n",
    "- noise: Standard deviation of Gaussian noise added to the data.\n",
    "- random_state: Seed for reproducibility."
   ]
  },
  {
   "cell_type": "markdown",
   "id": "a3c0b4aa-4636-48ac-9922-f43ce3bb65d2",
   "metadata": {},
   "source": [
    "## Q8. What are local outliers and global outliers, and how do they differ from each other?"
   ]
  },
  {
   "cell_type": "markdown",
   "id": "e6e84ce6-1ed3-451a-8678-5d1c5b3ab94f",
   "metadata": {},
   "source": [
    "##### Local outliers :\n",
    "-  Local outliers are data points that are considered anomalous within their immediate neighborhood or local region.\n",
    "\n",
    "##### Global outliers :  \n",
    "- Global outliers, on the other hand, are data points that deviate significantly from the overall distribution of the entire dataset.\n",
    " ##### Difference :\n",
    "- Local outliers may not appear anomalous when considering the entire dataset but stand out within their local context.\n",
    "- Global outliers are unusual when assessed across the entire dataset, irrespective of their local surroundings.\n",
    "- Local outliers are identified based on the behavior of data points in their immediate neighborhood.\n",
    "- Global outliers are identified by considering the overall distribution of the entire dataset."
   ]
  },
  {
   "cell_type": "markdown",
   "id": "18710292-66f1-4441-967b-120bd5f359ea",
   "metadata": {},
   "source": [
    "## Q9. How can local outliers be detected using the Local Outlier Factor (LOF) algorithm?"
   ]
  },
  {
   "cell_type": "markdown",
   "id": "9a5163c6-93b9-4ac6-afb3-3ddaf5c180b9",
   "metadata": {},
   "source": [
    "- For each data point, LOF calculates its local density by comparing the density of the data point's neighborhood to the densities of its neighbors.\n",
    "- The density of a data point is measured as the inverse of the average distance between the data point and its k-nearest neighbors.\n",
    "- The neighborhood of each data point is defined by its k-nearest neighbors, where k is a user-defined parameter.\n",
    "- The algorithm considers the distances between the data point and its neighbors to capture the local structure of the data.\n",
    "- For each data point, the LOF is calculated as the ratio of its local density to the average local density of its neighbors.\n",
    "- A higher LOF value indicates that the data point is less dense compared to its neighbors, suggesting that it might be an outlier.\n",
    "- Data points with significantly higher LOF values are considered local outliers, as they have a lower density compared to their neighbors."
   ]
  },
  {
   "cell_type": "markdown",
   "id": "6461602f-70a3-4a2b-9194-ab0c7638bd86",
   "metadata": {},
   "source": [
    "## Q10. How can global outliers be detected using the Isolation Forest algorithm?"
   ]
  },
  {
   "cell_type": "markdown",
   "id": "ad25769f-b212-4d19-86ca-d75c9af2da98",
   "metadata": {},
   "source": [
    "- It constructs multiple random decision trees (Isolation Trees), each isolating data points by recursively partitioning them.\n",
    "##### Tree Construction:\n",
    "- Randomly select a feature and split point to partition data at each node.\n",
    "- Continue recursively until a predefined depth is reached or all points are isolated\n",
    "##### Anomaly Scoring:\n",
    "- Calculate average path length from the root to isolate each point in each tree.\n",
    "- Assign higher anomaly scores to points isolated closer to the root.\n",
    "- isolation Forest assigns higher anomaly scores to global outliers, indicating their deviation from the overall dataset."
   ]
  },
  {
   "cell_type": "markdown",
   "id": "5127a371-4bca-4ec2-a039-e64db4d4466a",
   "metadata": {},
   "source": [
    "## Q11. What are some real-world applications where local outlier detection is more appropriate than global outlier detection, and vice versa?"
   ]
  },
  {
   "cell_type": "markdown",
   "id": "47657f57-396f-4853-aa59-9db7de868448",
   "metadata": {},
   "source": [
    "##### Local Outlier Detection:\n",
    "1. Credit Card Fraud Detection: Local outlier detection can be applied to identify unusual transaction patterns specific to an individual user.\n",
    "2. Manufacturing Quality Control: In manufacturing, local outlier detection can be applied to identify anomalies in specific production lines or manufacturing processes. For example, detecting defects in a specific batch of products.\n",
    "##### Global Outlier Detection:\n",
    "1. Financial Fraud Detection Across Users: In financial fraud detection, global outlier detection may be more appropriate when looking for anomalies that span multiple users or accounts. Detecting patterns that deviate from the overall distribution of transactions across all users can be crucial.\n",
    "2. Quality Control in Large-Scale Manufacturing: In large-scale manufacturing, global outlier detection may be applied to identify anomalies that affect the entire production process or are common across multiple manufacturing lines. Detecting deviations in overall quality can be important."
   ]
  },
  {
   "cell_type": "code",
   "execution_count": null,
   "id": "d7076d27-903f-4ca5-8851-d3805682db3f",
   "metadata": {},
   "outputs": [],
   "source": []
  }
 ],
 "metadata": {
  "kernelspec": {
   "display_name": "Python 3 (ipykernel)",
   "language": "python",
   "name": "python3"
  },
  "language_info": {
   "codemirror_mode": {
    "name": "ipython",
    "version": 3
   },
   "file_extension": ".py",
   "mimetype": "text/x-python",
   "name": "python",
   "nbconvert_exporter": "python",
   "pygments_lexer": "ipython3",
   "version": "3.10.8"
  }
 },
 "nbformat": 4,
 "nbformat_minor": 5
}
